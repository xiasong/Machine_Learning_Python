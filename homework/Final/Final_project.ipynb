{
 "cells": [
  {
   "cell_type": "code",
   "execution_count": 1,
   "metadata": {
    "collapsed": true
   },
   "outputs": [],
   "source": [
    "import gzip\n",
    "import pandas as pd\n",
    "from collections import defaultdict\n",
    "import numpy as np\n",
    "import re"
   ]
  },
  {
   "cell_type": "markdown",
   "metadata": {},
   "source": [
    "## Import all the json data into dataframe"
   ]
  },
  {
   "cell_type": "code",
   "execution_count": 2,
   "metadata": {
    "collapsed": true
   },
   "outputs": [],
   "source": [
    "def parse(path):\n",
    "   g = gzip.open(path, 'rb')\n",
    "   for l in g:\n",
    "     yield eval(l)\n",
    "    \n",
    "#getDF but spererate helpful field into outOf and nHelpful two fields\n",
    "def getDF(path):\n",
    "    i = 0\n",
    "    df = {}\n",
    "    for d in parse(path):\n",
    "        a = d['helpful']\n",
    "        d.update(a) #spererate helpful field into outOf and nHelpful two fields\n",
    "        df[i] = d\n",
    "        i += 1\n",
    "    return pd.DataFrame.from_dict(df, orient='index')"
   ]
  },
  {
   "cell_type": "code",
   "execution_count": 3,
   "metadata": {
    "collapsed": true
   },
   "outputs": [],
   "source": [
    "#read raw data into dataframe without outOf = 0\n",
    "path_train = '/Users/xiasong/Documents/Class_2016/DSE/DSE220/homework/Final/train.json.gz'\n",
    "path_test = '/Users/xiasong/Documents/Class_2016/DSE/DSE220/homework/Final/test_Helpful.json.gz'\n",
    "df_raw = getDF(path_train)\n",
    "test_df_raw = getDF(path_test)"
   ]
  },
  {
   "cell_type": "code",
   "execution_count": 4,
   "metadata": {},
   "outputs": [
    {
     "data": {
      "text/plain": [
       "((200000, 14), (14000, 13))"
      ]
     },
     "execution_count": 4,
     "metadata": {},
     "output_type": "execute_result"
    }
   ],
   "source": [
    "df_raw.shape, test_df_raw.shape"
   ]
  },
  {
   "cell_type": "code",
   "execution_count": 5,
   "metadata": {
    "scrolled": true
   },
   "outputs": [
    {
     "data": {
      "text/html": [
       "<div>\n",
       "<table border=\"1\" class=\"dataframe\">\n",
       "  <thead>\n",
       "    <tr style=\"text-align: right;\">\n",
       "      <th></th>\n",
       "      <th>categoryID</th>\n",
       "      <th>categories</th>\n",
       "      <th>itemID</th>\n",
       "      <th>reviewerID</th>\n",
       "      <th>rating</th>\n",
       "      <th>reviewText</th>\n",
       "      <th>reviewHash</th>\n",
       "      <th>reviewTime</th>\n",
       "      <th>summary</th>\n",
       "      <th>unixReviewTime</th>\n",
       "      <th>helpful</th>\n",
       "      <th>outOf</th>\n",
       "      <th>nHelpful</th>\n",
       "      <th>price</th>\n",
       "    </tr>\n",
       "  </thead>\n",
       "  <tbody>\n",
       "    <tr>\n",
       "      <th>0</th>\n",
       "      <td>0</td>\n",
       "      <td>[[Clothing, Shoes &amp; Jewelry, Women], [Clothing...</td>\n",
       "      <td>I655355328</td>\n",
       "      <td>U745881038</td>\n",
       "      <td>3.0</td>\n",
       "      <td>These are cute, but they are a little small.  ...</td>\n",
       "      <td>R115160670</td>\n",
       "      <td>05 20, 2014</td>\n",
       "      <td>Cute</td>\n",
       "      <td>1400544000</td>\n",
       "      <td>{'outOf': 0, 'nHelpful': 0}</td>\n",
       "      <td>0</td>\n",
       "      <td>0</td>\n",
       "      <td>NaN</td>\n",
       "    </tr>\n",
       "  </tbody>\n",
       "</table>\n",
       "</div>"
      ],
      "text/plain": [
       "   categoryID                                         categories      itemID  \\\n",
       "0           0  [[Clothing, Shoes & Jewelry, Women], [Clothing...  I655355328   \n",
       "\n",
       "   reviewerID  rating                                         reviewText  \\\n",
       "0  U745881038     3.0  These are cute, but they are a little small.  ...   \n",
       "\n",
       "   reviewHash   reviewTime summary  unixReviewTime  \\\n",
       "0  R115160670  05 20, 2014    Cute      1400544000   \n",
       "\n",
       "                       helpful  outOf  nHelpful  price  \n",
       "0  {'outOf': 0, 'nHelpful': 0}      0         0    NaN  "
      ]
     },
     "execution_count": 5,
     "metadata": {},
     "output_type": "execute_result"
    }
   ],
   "source": [
    "df_raw.head(1)"
   ]
  },
  {
   "cell_type": "markdown",
   "metadata": {},
   "source": [
    "## Data Mining"
   ]
  },
  {
   "cell_type": "code",
   "execution_count": 6,
   "metadata": {
    "scrolled": false
   },
   "outputs": [
    {
     "name": "stdout",
     "output_type": "stream",
     "text": [
      "[0.68492, 0.03989, 0.27519]\n"
     ]
    },
    {
     "data": {
      "image/png": "[encoded data removed]",
      "text/plain": [
       "<matplotlib.figure.Figure at 0x121a85438>"
      ]
     },
     "metadata": {},
     "output_type": "display_data"
    }
   ],
   "source": [
    "import numpy as np\n",
    "import matplotlib.pyplot as plt; plt.rcdefaults()\n",
    "from pylab import *\n",
    "#1.Both outof and nhelpful are zeros\n",
    "zz = df_raw.loc[(df_raw.outOf == 0) & (df_raw.nHelpful == 0)]\n",
    "zz = zz.reset_index(drop=True)\n",
    "#2.Outof nonzero but nhelpful is zero\n",
    "nz = df_raw.loc[(df_raw.outOf != 0) & (df_raw.nHelpful == 0)]\n",
    "nz = nz.reset_index(drop=True)\n",
    "#3.Both outof and nhelpful are nonzero\n",
    "nn = df_raw.loc[df_raw.nHelpful != 0]\n",
    "nn = nn.reset_index(drop=True)\n",
    "\n",
    "#percentage of each category \n",
    "total = len(zz) + len(nz) + len(nn)\n",
    "Pzz = len(zz)/total\n",
    "Pnz = len(nz)/total\n",
    "Pnn = len(nn)/total\n",
    "percentage = [Pzz, Pnz, Pnn]\n",
    "print (percentage)\n",
    "n = 3\n",
    "ind = np.arange(n)\n",
    "\n",
    "#bar plot for three data sets\n",
    "#objects = ('Both Zero', 'nH Zero Not Total', 'Both Not Zero')\n",
    "figure(1)\n",
    "bar(ind,percentage, align='center')\n",
    "xticks(ind,  ('Both Zero', 'nH Zero Not Total', 'Both Not Zero'))\n",
    "#xlabel('Data Groups')\n",
    "#ylabel('Percentage')\n",
    "title('Percentage of Each Data Group')\n",
    "plt.show()"
   ]
  },
  {
   "cell_type": "markdown",
   "metadata": {},
   "source": [
    "### Helpratio: positive number of helpful vote to total number of vote"
   ]
  },
  {
   "cell_type": "code",
   "execution_count": 7,
   "metadata": {
    "collapsed": true
   },
   "outputs": [],
   "source": [
    "#cleaning train data and remove votes less than 1\n",
    "df = df_raw[df_raw.outOf > 0]\n",
    "df = df.reset_index(drop=True)"
   ]
  },
  {
   "cell_type": "code",
   "execution_count": 8,
   "metadata": {
    "collapsed": true
   },
   "outputs": [],
   "source": [
    "def polyfit(x,y,degree):\n",
    "    results = {}\n",
    "    coeffs = np.polyfit(x,y,degree)\n",
    "    results['polynomial'] = coeffs.tolist()\n",
    "    p = np.poly1d(coeffs)\n",
    "    yhat = p(x)\n",
    "    ybar = np.sum(y)/len(y)\n",
    "    ssreg = np.sum((yhat-ybar) **2)\n",
    "    sstot = np.sum((y-ybar)**2)\n",
    "    results['determination'] = ssreg / sstot\n",
    "    return results"
   ]
  },
  {
   "cell_type": "code",
   "execution_count": 9,
   "metadata": {},
   "outputs": [
    {
     "data": {
      "image/png": "[encoded data removed]",
      "text/plain": [
       "<matplotlib.figure.Figure at 0x124273a90>"
      ]
     },
     "metadata": {},
     "output_type": "display_data"
    },
    {
     "name": "stdout",
     "output_type": "stream",
     "text": [
      "{'polynomial': [0.9257433555107532, -0.30651671051744034], 'determination': 0.97546901144804632}\n"
     ]
    }
   ],
   "source": [
    "#relationship between total votes and helpful votes\n",
    "import matplotlib.pyplot as plt\n",
    "import numpy as np\n",
    "x = df['outOf']\n",
    "y = df['nHelpful']\n",
    "fig, ax = plt.subplots()\n",
    "fit = np.polyfit(x,y,deg=1)\n",
    "ax.plot(x, fit[0] * x + fit[1], color = 'red')\n",
    "ax.scatter(x,y)\n",
    "ax.set_title('Relationshipe of outOf and nHelpful')\n",
    "ax.set_xlabel(\"Total Votes\")\n",
    "ax.set_ylabel(\"Helpful Votes\")\n",
    "plt.show()\n",
    "print (polyfit(x,y,1))"
   ]
  },
  {
   "cell_type": "code",
   "execution_count": 191,
   "metadata": {},
   "outputs": [
    {
     "data": {
      "image/png": "[encoded data removed]",
      "text/plain": [
       "<matplotlib.figure.Figure at 0x12bd4e6a0>"
      ]
     },
     "metadata": {},
     "output_type": "display_data"
    },
    {
     "name": "stdout",
     "output_type": "stream",
     "text": [
      "{'polynomial': [0.8980703280318085, 19.121505964214737], 'determination': 0.94643527391630267}\n"
     ]
    },
    {
     "data": {
      "text/plain": [
       "13"
      ]
     },
     "execution_count": 191,
     "metadata": {},
     "output_type": "execute_result"
    }
   ],
   "source": [
    "#relationship between total votes and helpful votes\n",
    "import matplotlib.pyplot as plt\n",
    "import numpy as np\n",
    "x = df['outOf']\n",
    "y = df['nHelpful']\n",
    "z = pd.concat([x,y], axis = 1)\n",
    "z1 = z.loc[(z.outOf >= 300)]\n",
    "x1 = z1['outOf']\n",
    "y1 = z1['nHelpful']\n",
    "fig, ax = plt.subplots()\n",
    "fit = np.polyfit(x1,y1,deg=1)\n",
    "ax.plot(x1, fit[0] * x1 + fit[1], color = 'red')\n",
    "ax.scatter(x1,y1)\n",
    "ax.set_title('Relationshipe of outOf and nHelpful: outOf > 300')\n",
    "ax.set_xlabel(\"Total Votes\")\n",
    "ax.set_ylabel(\"Helpful Votes\")\n",
    "plt.show()\n",
    "print (polyfit(x1,y1,1))\n",
    "len(x1)"
   ]
  },
  {
   "cell_type": "code",
   "execution_count": 186,
   "metadata": {
    "scrolled": false
   },
   "outputs": [
    {
     "data": {
      "image/png": "[encoded data removed]",
      "text/plain": [
       "<matplotlib.figure.Figure at 0x12d0a5dd8>"
      ]
     },
     "metadata": {},
     "output_type": "display_data"
    },
    {
     "name": "stdout",
     "output_type": "stream",
     "text": [
      "{'polynomial': [0.7928043522890578, 23.456117840279127], 'determination': 0.10708682082729164}\n",
      "17\n"
     ]
    }
   ],
   "source": [
    "#relationship between total votes and helpful votes\n",
    "import matplotlib.pyplot as plt\n",
    "import numpy as np\n",
    "x = df['outOf']\n",
    "y = df['nHelpful']\n",
    "z = pd.concat([x,y], axis = 1)\n",
    "z2 = z.loc[(z.outOf >= 200) & (z.outOf < 300)]\n",
    "x2 = z2['outOf']\n",
    "y2 = z2['nHelpful']\n",
    "fig, ax = plt.subplots()\n",
    "fit = np.polyfit(x2,y2,deg=1)\n",
    "ax.plot(x2, fit[0] * x2 + fit[1], color = 'red')\n",
    "ax.scatter(x2,y2)\n",
    "ax.set_title('Relationshipe of outOf and nHelpful: 200 =< outOf < 300')\n",
    "ax.set_xlabel(\"Total Votes\")\n",
    "ax.set_ylabel(\"Helpful Votes\")\n",
    "plt.show()\n",
    "print (polyfit(x2,y2,1))\n",
    "print (len(x2))"
   ]
  },
  {
   "cell_type": "code",
   "execution_count": 187,
   "metadata": {
    "scrolled": false
   },
   "outputs": [
    {
     "data": {
      "image/png": "[encoded data removed]",
      "text/plain": [
       "<matplotlib.figure.Figure at 0x12607e1d0>"
      ]
     },
     "metadata": {},
     "output_type": "display_data"
    },
    {
     "name": "stdout",
     "output_type": "stream",
     "text": [
      "{'polynomial': [0.8969814588531674, 3.6392536991589814], 'determination': 0.64326236876489229}\n",
      "74\n"
     ]
    }
   ],
   "source": [
    "#relationship between total votes and helpful votes\n",
    "import matplotlib.pyplot as plt\n",
    "import numpy as np\n",
    "x = df['outOf']\n",
    "y = df['nHelpful']\n",
    "z = pd.concat([x,y], axis = 1)\n",
    "z3 = z.loc[(z.outOf >= 100) & (z.outOf < 200)]\n",
    "x3 = z3['outOf']\n",
    "y3 = z3['nHelpful']\n",
    "fig, ax = plt.subplots()\n",
    "fit = np.polyfit(x2,y2,deg=1)\n",
    "ax.plot(x3, fit[0] * x3 + fit[1], color = 'red')\n",
    "ax.scatter(x3,y3)\n",
    "ax.set_title('Relationshipe of outOf and nHelpful: 100 <= outOf < 200')\n",
    "ax.set_xlabel(\"Total Votes\")\n",
    "ax.set_ylabel(\"Helpful Votes\")\n",
    "plt.show()\n",
    "print (polyfit(x3,y3,1))\n",
    "print (len(x3))"
   ]
  },
  {
   "cell_type": "code",
   "execution_count": 192,
   "metadata": {
    "scrolled": false
   },
   "outputs": [
    {
     "data": {
      "image/png": "[encoded data removed]",
      "text/plain": [
       "<matplotlib.figure.Figure at 0x12bf47240>"
      ]
     },
     "metadata": {},
     "output_type": "display_data"
    },
    {
     "name": "stdout",
     "output_type": "stream",
     "text": [
      "{'polynomial': [0.9415368468010219, -0.7497957975852848], 'determination': 0.95591912227123366}\n",
      "5212\n"
     ]
    }
   ],
   "source": [
    "#relationship between total votes and helpful votes\n",
    "import matplotlib.pyplot as plt\n",
    "import numpy as np\n",
    "x = df['outOf']\n",
    "y = df['nHelpful']\n",
    "z = pd.concat([x,y], axis = 1)\n",
    "z4 = z.loc[(z.outOf >= 10) & (z.outOf < 100)]\n",
    "x4 = z4['outOf']\n",
    "y4 = z4['nHelpful']\n",
    "fig, ax = plt.subplots()\n",
    "fit = np.polyfit(x4,y4,deg=1)\n",
    "ax.plot(x4, fit[0] * x4 + fit[1], color = 'red')\n",
    "ax.scatter(x4,y4)\n",
    "ax.set_title('Relationshipe of outOf and nHelpful: 10 <= outOf < 100')\n",
    "ax.set_xlabel(\"Total Votes\")\n",
    "ax.set_ylabel(\"Helpful Votes\")\n",
    "plt.show()\n",
    "print (polyfit(x4,y4,1))\n",
    "print (len(x4))"
   ]
  },
  {
   "cell_type": "code",
   "execution_count": 194,
   "metadata": {
    "scrolled": false
   },
   "outputs": [
    {
     "data": {
      "image/png": "[encoded data removed]",
      "text/plain": [
       "<matplotlib.figure.Figure at 0x125b55240>"
      ]
     },
     "metadata": {},
     "output_type": "display_data"
    },
    {
     "name": "stdout",
     "output_type": "stream",
     "text": [
      "{'polynomial': [0.8960742322977114, -0.3162614164321955], 'determination': 0.78248301349708316}\n",
      "29149\n"
     ]
    }
   ],
   "source": [
    "#relationship between total votes and helpful votes\n",
    "import matplotlib.pyplot as plt\n",
    "import numpy as np\n",
    "x = df['outOf']\n",
    "y = df['nHelpful']\n",
    "z = pd.concat([x,y], axis = 1)\n",
    "z5 = z.loc[(z.outOf >= 2) & (z.outOf < 10)]\n",
    "x5 = z5['outOf']\n",
    "y5 = z5['nHelpful']\n",
    "fig, ax = plt.subplots()\n",
    "fit = np.polyfit(x5,y5,deg=1)\n",
    "ax.plot(x5, fit[0] * x5 + fit[1], color = 'red')\n",
    "ax.scatter(x5,y5)\n",
    "ax.set_title('Relationshipe of outOf and nHelpful: 2 =< outOf < 10')\n",
    "ax.set_xlabel(\"Total Votes\")\n",
    "ax.set_ylabel(\"Helpful Votes\")\n",
    "plt.show()\n",
    "print (polyfit(x5,y5,1))\n",
    "print (len(x5))"
   ]
  },
  {
   "cell_type": "code",
   "execution_count": 195,
   "metadata": {
    "scrolled": false
   },
   "outputs": [
    {
     "name": "stderr",
     "output_type": "stream",
     "text": [
      "/Users/xiasong/anaconda2/envs/py36/lib/python3.6/site-packages/ipykernel/__main__.py:11: RankWarning: Polyfit may be poorly conditioned\n"
     ]
    },
    {
     "data": {
      "image/png": "[encoded data removed]",
      "text/plain": [
       "<matplotlib.figure.Figure at 0x12605c860>"
      ]
     },
     "metadata": {},
     "output_type": "display_data"
    },
    {
     "name": "stdout",
     "output_type": "stream",
     "text": [
      "{'polynomial': [0.3789534517179965, 0.3789534517179812], 'determination': 2.4250985570140646e-27}\n",
      "28551\n"
     ]
    },
    {
     "name": "stderr",
     "output_type": "stream",
     "text": [
      "/Users/xiasong/anaconda2/envs/py36/lib/python3.6/site-packages/ipykernel/__main__.py:3: RankWarning: Polyfit may be poorly conditioned\n",
      "  app.launch_new_instance()\n"
     ]
    }
   ],
   "source": [
    "#relationship between total votes and helpful votes\n",
    "import matplotlib.pyplot as plt\n",
    "import numpy as np\n",
    "x = df['outOf']\n",
    "y = df['nHelpful']\n",
    "z = pd.concat([x,y], axis = 1)\n",
    "z7 = z.loc[(z.outOf < 2)]\n",
    "x7 = z7['outOf']\n",
    "y7 = z7['nHelpful']\n",
    "fig, ax = plt.subplots()\n",
    "fit = np.polyfit(x7,y7,deg=1)\n",
    "ax.plot(x7, fit[0] * x7 + fit[1], color = 'red')\n",
    "ax.scatter(x7,y7)\n",
    "ax.set_title('Relationshipe of outOf and nHelpful: outOf < 2')\n",
    "ax.set_xlabel(\"Total Votes\")\n",
    "ax.set_ylabel(\"Helpful Votes\")\n",
    "plt.show()\n",
    "print (polyfit(x7,y7,1))\n",
    "print (len(x7))"
   ]
  },
  {
   "cell_type": "code",
   "execution_count": 17,
   "metadata": {
    "collapsed": true
   },
   "outputs": [],
   "source": [
    "#calculate helpratio, positive number of helpful vote to total number of vote\n",
    "a = df['outOf']\n",
    "b = len(a)\n",
    "c = df['nHelpful']\n",
    "Helpratio = []\n",
    "for i in range(b):\n",
    "    d = c[i]/a[i]\n",
    "    Helpratio.append(d)"
   ]
  },
  {
   "cell_type": "code",
   "execution_count": 18,
   "metadata": {
    "collapsed": true
   },
   "outputs": [],
   "source": [
    "df['Helpratio'] = Helpratio"
   ]
  },
  {
   "cell_type": "code",
   "execution_count": 19,
   "metadata": {
    "collapsed": true
   },
   "outputs": [],
   "source": [
    "ratio_df = df.loc[df.Helpratio >= 0.15]\n",
    "ratio_df = ratio_df.reset_index(drop = True)"
   ]
  },
  {
   "cell_type": "code",
   "execution_count": 20,
   "metadata": {},
   "outputs": [
    {
     "data": {
      "image/png": "[encoded data removed]",
      "text/plain": [
       "<matplotlib.figure.Figure at 0x1260c5080>"
      ]
     },
     "metadata": {},
     "output_type": "display_data"
    },
    {
     "name": "stdout",
     "output_type": "stream",
     "text": [
      "{'polynomial': [0.93685589886361, -0.2138830985714079], 'determination': 0.99121266289340604}\n"
     ]
    }
   ],
   "source": [
    "x = ratio_df['outOf']\n",
    "y = ratio_df['nHelpful']\n",
    "fig, ax = plt.subplots()\n",
    "fit = np.polyfit(x,y,deg=1)\n",
    "ax.plot(x, fit[0] * x + fit[1], color = 'red')\n",
    "ax.scatter(x,y)\n",
    "ax.set_title('Relationshipe of outOf and nHelpful with Helpratio >= 0.15')\n",
    "ax.set_xlabel(\"outOf\")\n",
    "ax.set_ylabel(\"nHelpful\")\n",
    "plt.show()\n",
    "print (polyfit(x,y,1))"
   ]
  },
  {
   "cell_type": "code",
   "execution_count": 21,
   "metadata": {
    "collapsed": true
   },
   "outputs": [],
   "source": [
    "ratio_df1 = df.loc[df.Helpratio < 0.15]\n",
    "ratio_df1 = ratio_df.reset_index(drop = True)\n",
    "#ratio_df1 = ratio_df1.reset_index(drop=True)"
   ]
  },
  {
   "cell_type": "code",
   "execution_count": 22,
   "metadata": {
    "scrolled": false
   },
   "outputs": [
    {
     "data": {
      "image/png": "[encoded data removed]",
      "text/plain": [
       "<matplotlib.figure.Figure at 0x12c0b5ac8>"
      ]
     },
     "metadata": {},
     "output_type": "display_data"
    },
    {
     "name": "stdout",
     "output_type": "stream",
     "text": [
      "{'polynomial': [0.93685589886361, -0.2138830985714079], 'determination': 0.99121266289340604}\n"
     ]
    }
   ],
   "source": [
    "x = ratio_df1['outOf']\n",
    "y = ratio_df1['nHelpful']\n",
    "fig, ax = plt.subplots()\n",
    "ax.scatter(x,y)\n",
    "fit = np.polyfit(x,y,deg=1)\n",
    "ax.plot(x, fit[0] * x + fit[1], color = 'red')\n",
    "ax.set_title('Relationshipe of outOf and nHelpful with Helpratio < 0.15')\n",
    "ax.set_xlabel(\"outOf\")\n",
    "ax.set_ylabel(\"nHelpful\")\n",
    "plt.show()\n",
    "print (polyfit(x,y,1))"
   ]
  },
  {
   "cell_type": "code",
   "execution_count": 23,
   "metadata": {
    "collapsed": true
   },
   "outputs": [],
   "source": [
    "filter_df = df.drop(df[(df.Helpratio < 0.15) & (df.outOf > 80)].index)\n",
    "filter_df = filter_df.reset_index(drop=True)"
   ]
  },
  {
   "cell_type": "code",
   "execution_count": 24,
   "metadata": {
    "collapsed": true
   },
   "outputs": [],
   "source": [
    "ratio_df1 = filter_df.loc[filter_df.Helpratio < 0.15]\n",
    "ratio_df1 = ratio_df1.reset_index(drop=True)"
   ]
  },
  {
   "cell_type": "code",
   "execution_count": 25,
   "metadata": {
    "scrolled": false
   },
   "outputs": [
    {
     "data": {
      "image/png": "[encoded data removed]",
      "text/plain": [
       "<matplotlib.figure.Figure at 0x12d0bb828>"
      ]
     },
     "metadata": {},
     "output_type": "display_data"
    },
    {
     "name": "stdout",
     "output_type": "stream",
     "text": [
      "{'polynomial': [0.054927454631076615, -0.06329023559253612], 'determination': 0.51106878348226137}\n"
     ]
    }
   ],
   "source": [
    "x = ratio_df1['outOf']\n",
    "y = ratio_df1['nHelpful']\n",
    "fig, ax = plt.subplots()\n",
    "ax.scatter(x,y)\n",
    "fit = np.polyfit(x,y,deg=1)\n",
    "ax.plot(x, fit[0] * x + fit[1], color = 'red')\n",
    "ax.set_title('Relationshipe of outOf and nHelpful with Helpratio < 0.15')\n",
    "ax.set_xlabel(\"outOf\")\n",
    "ax.set_ylabel(\"nHelpful\")\n",
    "plt.show()\n",
    "print (polyfit(x,y,1))"
   ]
  },
  {
   "cell_type": "markdown",
   "metadata": {},
   "source": [
    "# Classify data into two groups: 1 Helpratio >= 0.15; 0 Helpratio < 0.15"
   ]
  },
  {
   "cell_type": "code",
   "execution_count": 26,
   "metadata": {
    "collapsed": true
   },
   "outputs": [],
   "source": [
    "a = len(filter_df['outOf'])\n",
    "b = filter_df['Helpratio']\n",
    "c = []\n",
    "for i in range(a):\n",
    "    if b[i] >= 0.15:\n",
    "        c.append(1)\n",
    "    else:\n",
    "        c.append(0)\n",
    "filter_df['Helpgroup'] = c"
   ]
  },
  {
   "cell_type": "code",
   "execution_count": 27,
   "metadata": {
    "collapsed": true
   },
   "outputs": [],
   "source": [
    "a = len(filter_df['outOf'])\n",
    "b = filter_df['Helpratio']\n",
    "c = []\n",
    "for i in range(a):\n",
    "    if b[i] >= 0.15:\n",
    "        c.append(1)\n",
    "    else:\n",
    "        c.append(0)\n",
    "filter_df['Helpgroup'] = c"
   ]
  },
  {
   "cell_type": "code",
   "execution_count": 28,
   "metadata": {},
   "outputs": [
    {
     "data": {
      "text/plain": [
       "8044"
      ]
     },
     "execution_count": 28,
     "metadata": {},
     "output_type": "execute_result"
    }
   ],
   "source": [
    "j = 0\n",
    "for i in c:\n",
    "    if i == 0:\n",
    "        j += 1\n",
    "j"
   ]
  },
  {
   "cell_type": "markdown",
   "metadata": {},
   "source": [
    "## Extract related features from original data"
   ]
  },
  {
   "cell_type": "markdown",
   "metadata": {},
   "source": [
    "### Delay time from the first same product review"
   ]
  },
  {
   "cell_type": "markdown",
   "metadata": {},
   "source": [
    "##### Train data"
   ]
  },
  {
   "cell_type": "code",
   "execution_count": 29,
   "metadata": {
    "collapsed": true
   },
   "outputs": [],
   "source": [
    "#computations for the unixreviewtime of the first time review for a specific product \n",
    "time_dict = {}\n",
    "count_dict = {}\n",
    "for i in range(len(filter_df)):\n",
    "    pid = filter_df['itemID'][i]\n",
    "    tim = filter_df['unixReviewTime'][i]\n",
    "    if pid in time_dict:\n",
    "        count_dict[pid] = count_dict[pid] + 1\n",
    "        if tim < time_dict[pid]:\n",
    "            time_dict[pid] = tim\n",
    "    else:\n",
    "        count_dict[pid] = 1\n",
    "        time_dict[pid] = tim"
   ]
  },
  {
   "cell_type": "code",
   "execution_count": 30,
   "metadata": {
    "collapsed": true
   },
   "outputs": [],
   "source": [
    "# substract the first reviews unixReviewTime for the corresponding reviews\n",
    "a = np.zeros((1, len(filter_df)))\n",
    "for i in range(len(filter_df)):\n",
    "    pid = filter_df['itemID'][i]\n",
    "    a[0][i] = filter_df['unixReviewTime'][i] - time_dict[pid]"
   ]
  },
  {
   "cell_type": "code",
   "execution_count": 31,
   "metadata": {
    "collapsed": true
   },
   "outputs": [],
   "source": [
    "filter_df.unixReviewTime = a.transpose()"
   ]
  },
  {
   "cell_type": "markdown",
   "metadata": {},
   "source": [
    "##### Test data"
   ]
  },
  {
   "cell_type": "code",
   "execution_count": 32,
   "metadata": {
    "collapsed": true
   },
   "outputs": [],
   "source": [
    "#computations for the unixreviewtime of the first time review for a specific product \n",
    "time_dict = {}\n",
    "count_dict = {}\n",
    "for i in range(len(test_df_raw)):\n",
    "    pid = test_df_raw['itemID'][i]\n",
    "    tim = test_df_raw['unixReviewTime'][i]\n",
    "    if pid in time_dict:\n",
    "        count_dict[pid] = count_dict[pid] + 1\n",
    "        if tim < time_dict[pid]:\n",
    "            time_dict[pid] = tim\n",
    "    else:\n",
    "        count_dict[pid] = 1\n",
    "        time_dict[pid] = tim"
   ]
  },
  {
   "cell_type": "code",
   "execution_count": 33,
   "metadata": {
    "collapsed": true
   },
   "outputs": [],
   "source": [
    "# substract the first reviews unixReviewTime for the corresponding reviews\n",
    "a = np.zeros((1, len(test_df_raw)))\n",
    "for i in range(len(test_df_raw)):\n",
    "    pid = test_df_raw['itemID'][i]\n",
    "    a[0][i] = test_df_raw['unixReviewTime'][i] - time_dict[pid]"
   ]
  },
  {
   "cell_type": "code",
   "execution_count": 34,
   "metadata": {
    "collapsed": true
   },
   "outputs": [],
   "source": [
    "test_df_raw.unixReviewTime = a.transpose()"
   ]
  },
  {
   "cell_type": "markdown",
   "metadata": {},
   "source": [
    "### Rating score deviation from mean"
   ]
  },
  {
   "cell_type": "markdown",
   "metadata": {},
   "source": [
    "##### Train data"
   ]
  },
  {
   "cell_type": "code",
   "execution_count": 35,
   "metadata": {
    "collapsed": true
   },
   "outputs": [],
   "source": [
    "ratingmean = filter_df['rating'].groupby(filter_df['itemID']).transform('mean')"
   ]
  },
  {
   "cell_type": "code",
   "execution_count": 36,
   "metadata": {
    "collapsed": true
   },
   "outputs": [],
   "source": [
    "ratDevmean = filter_df['rating'] - ratingmean"
   ]
  },
  {
   "cell_type": "code",
   "execution_count": 37,
   "metadata": {
    "collapsed": true
   },
   "outputs": [],
   "source": [
    "filter_df['ratDevmean'] = ratDevmean"
   ]
  },
  {
   "cell_type": "code",
   "execution_count": 38,
   "metadata": {
    "collapsed": true
   },
   "outputs": [],
   "source": [
    "filter_df['ratDevmean_ab'] = filter_df['ratDevmean'].abs()"
   ]
  },
  {
   "cell_type": "markdown",
   "metadata": {},
   "source": [
    "##### Test data"
   ]
  },
  {
   "cell_type": "code",
   "execution_count": 39,
   "metadata": {
    "collapsed": true
   },
   "outputs": [],
   "source": [
    "ratingmean = test_df_raw['rating'].groupby(test_df_raw['itemID']).transform('mean')"
   ]
  },
  {
   "cell_type": "code",
   "execution_count": 40,
   "metadata": {
    "collapsed": true
   },
   "outputs": [],
   "source": [
    "ratDevmean = test_df_raw['rating'] - ratingmean"
   ]
  },
  {
   "cell_type": "code",
   "execution_count": 41,
   "metadata": {
    "collapsed": true
   },
   "outputs": [],
   "source": [
    "test_df_raw['ratDevmean'] = ratDevmean"
   ]
  },
  {
   "cell_type": "code",
   "execution_count": 42,
   "metadata": {
    "collapsed": true
   },
   "outputs": [],
   "source": [
    "test_df_raw['ratDevmean_ab'] = test_df_raw['ratDevmean'].abs()"
   ]
  },
  {
   "cell_type": "markdown",
   "metadata": {},
   "source": [
    "### Number of words of each reveiw text"
   ]
  },
  {
   "cell_type": "markdown",
   "metadata": {},
   "source": [
    "##### Train data"
   ]
  },
  {
   "cell_type": "code",
   "execution_count": 43,
   "metadata": {
    "collapsed": true
   },
   "outputs": [],
   "source": [
    "#extract number of words of each review text\n",
    "reviewWords = []\n",
    "for i in filter_df['reviewText']:\n",
    "    a = i.split()\n",
    "    b = len(a)\n",
    "    reviewWords.append(b)"
   ]
  },
  {
   "cell_type": "code",
   "execution_count": 44,
   "metadata": {
    "collapsed": true
   },
   "outputs": [],
   "source": [
    "filter_df['reviewWords'] = reviewWords"
   ]
  },
  {
   "cell_type": "markdown",
   "metadata": {},
   "source": [
    "##### Test data"
   ]
  },
  {
   "cell_type": "code",
   "execution_count": 45,
   "metadata": {
    "collapsed": true
   },
   "outputs": [],
   "source": [
    "#extract number of words of each review text\n",
    "reviewWords = []\n",
    "for i in test_df_raw['reviewText']:\n",
    "    a = i.split()\n",
    "    b = len(a)\n",
    "    reviewWords.append(b)"
   ]
  },
  {
   "cell_type": "code",
   "execution_count": 46,
   "metadata": {
    "collapsed": true
   },
   "outputs": [],
   "source": [
    "test_df_raw['reviewWords'] = reviewWords"
   ]
  },
  {
   "cell_type": "markdown",
   "metadata": {},
   "source": [
    "### Number of words of each summary text (review length)"
   ]
  },
  {
   "cell_type": "markdown",
   "metadata": {},
   "source": [
    "##### Train data"
   ]
  },
  {
   "cell_type": "code",
   "execution_count": 47,
   "metadata": {
    "collapsed": true
   },
   "outputs": [],
   "source": [
    "#extract number of words of each summary text\n",
    "summaryWords = []\n",
    "for i in filter_df['summary']:\n",
    "    a = i.split()\n",
    "    b = len(a)\n",
    "    summaryWords.append(b)"
   ]
  },
  {
   "cell_type": "code",
   "execution_count": 48,
   "metadata": {
    "collapsed": true
   },
   "outputs": [],
   "source": [
    "filter_df['summaryWords'] = summaryWords"
   ]
  },
  {
   "cell_type": "markdown",
   "metadata": {},
   "source": [
    "##### Test data"
   ]
  },
  {
   "cell_type": "code",
   "execution_count": 49,
   "metadata": {
    "collapsed": true
   },
   "outputs": [],
   "source": [
    "#extract number of words of each summary text\n",
    "summaryWords = []\n",
    "for i in test_df_raw['summary']:\n",
    "    a = i.split()\n",
    "    b = len(a)\n",
    "    summaryWords.append(b)"
   ]
  },
  {
   "cell_type": "code",
   "execution_count": 50,
   "metadata": {
    "collapsed": true
   },
   "outputs": [],
   "source": [
    "test_df_raw['summaryWords'] = summaryWords"
   ]
  },
  {
   "cell_type": "markdown",
   "metadata": {},
   "source": [
    "### Ratio of summary words to review text words"
   ]
  },
  {
   "cell_type": "markdown",
   "metadata": {},
   "source": [
    "##### Train data"
   ]
  },
  {
   "cell_type": "code",
   "execution_count": 51,
   "metadata": {
    "collapsed": true
   },
   "outputs": [],
   "source": [
    "filter_df['ratiosuWords'] = filter_df['summaryWords']/filter_df['reviewWords']"
   ]
  },
  {
   "cell_type": "markdown",
   "metadata": {},
   "source": [
    "##### Test data"
   ]
  },
  {
   "cell_type": "code",
   "execution_count": 52,
   "metadata": {
    "collapsed": true
   },
   "outputs": [],
   "source": [
    "test_df_raw['ratiosuWords'] = test_df_raw['summaryWords']/test_df_raw['reviewWords']"
   ]
  },
  {
   "cell_type": "markdown",
   "metadata": {},
   "source": [
    "### Number of sentences of each reveiw text"
   ]
  },
  {
   "cell_type": "markdown",
   "metadata": {},
   "source": [
    "##### Train data"
   ]
  },
  {
   "cell_type": "code",
   "execution_count": 53,
   "metadata": {
    "collapsed": true
   },
   "outputs": [],
   "source": [
    "#extract number of sentences of each review text\n",
    "reviewSentences = []\n",
    "for i in filter_df['reviewText']:\n",
    "    j = i.count('.')\n",
    "    reviewSentences.append(j)"
   ]
  },
  {
   "cell_type": "code",
   "execution_count": 54,
   "metadata": {
    "collapsed": true
   },
   "outputs": [],
   "source": [
    "filter_df['reviewSentences'] = reviewSentences"
   ]
  },
  {
   "cell_type": "markdown",
   "metadata": {},
   "source": [
    "##### Test data"
   ]
  },
  {
   "cell_type": "code",
   "execution_count": 55,
   "metadata": {
    "collapsed": true
   },
   "outputs": [],
   "source": [
    "#extract number of sentences of each review text\n",
    "reviewSentences = []\n",
    "for i in test_df_raw['reviewText']:\n",
    "    j = i.count('.')\n",
    "    reviewSentences.append(j)"
   ]
  },
  {
   "cell_type": "code",
   "execution_count": 56,
   "metadata": {
    "collapsed": true
   },
   "outputs": [],
   "source": [
    "test_df_raw['reviewSentences'] = reviewSentences"
   ]
  },
  {
   "cell_type": "markdown",
   "metadata": {},
   "source": [
    "### Number of characters of each reveiw text"
   ]
  },
  {
   "cell_type": "markdown",
   "metadata": {},
   "source": [
    "##### Train data"
   ]
  },
  {
   "cell_type": "code",
   "execution_count": 57,
   "metadata": {
    "collapsed": true
   },
   "outputs": [],
   "source": [
    "#I found that string.punctuation did not include all the punctuations of brown words, here I added all the extra punctuation in the following list\n",
    "punctuation = [' ','!','\"','#','$','%','&',\"'\",'(',')','*','+',',','-','.','/',':',';','<','=','>','?','@','[','\\\\',']','^','_','`','{','|','}','~','``',\"''\",'--']"
   ]
  },
  {
   "cell_type": "code",
   "execution_count": 58,
   "metadata": {
    "collapsed": true
   },
   "outputs": [],
   "source": [
    "#extract number of letters of each review text\n",
    "from collections import Counter\n",
    "reviewChars = []\n",
    "for i in filter_df['reviewText']:\n",
    "    a = dict(Counter(i))\n",
    "    b = {k:v for k,v in a.items() if k not in punctuation}\n",
    "    c = sum(list(b.values()))\n",
    "    reviewChars.append(c)"
   ]
  },
  {
   "cell_type": "code",
   "execution_count": 59,
   "metadata": {
    "collapsed": true
   },
   "outputs": [],
   "source": [
    "filter_df['reviewChars'] = reviewChars"
   ]
  },
  {
   "cell_type": "markdown",
   "metadata": {},
   "source": [
    "##### Test data"
   ]
  },
  {
   "cell_type": "code",
   "execution_count": 60,
   "metadata": {
    "collapsed": true
   },
   "outputs": [],
   "source": [
    "#extract number of letters of each review text\n",
    "reviewChars = []\n",
    "for i in test_df_raw['reviewText']:\n",
    "    a = dict(Counter(i))\n",
    "    b = {k:v for k,v in a.items() if k not in punctuation}\n",
    "    c = sum(list(b.values()))\n",
    "    reviewChars.append(c)"
   ]
  },
  {
   "cell_type": "code",
   "execution_count": 61,
   "metadata": {
    "collapsed": true
   },
   "outputs": [],
   "source": [
    "test_df_raw['reviewChars'] = reviewChars"
   ]
  },
  {
   "cell_type": "markdown",
   "metadata": {},
   "source": [
    "### Readability of each review (ARI as indext to measure)"
   ]
  },
  {
   "cell_type": "markdown",
   "metadata": {},
   "source": [
    "##### Train data"
   ]
  },
  {
   "cell_type": "code",
   "execution_count": 62,
   "metadata": {
    "collapsed": true
   },
   "outputs": [],
   "source": [
    "#calculate readability of reveiw text\n",
    "wordperSen = []\n",
    "charperWord = []\n",
    "a = list(filter_df['reviewWords'])\n",
    "b = list(filter_df['reviewSentences'])\n",
    "c = list(filter_df['reviewChars'])\n",
    "for i in range(len(a)):\n",
    "    if b[i] == 0:\n",
    "        wordperSen.append(0)\n",
    "    else:\n",
    "        j = a[i] / b[i]\n",
    "        wordperSen.append(j)\n",
    "for i in range(len(a)):\n",
    "    if a[i] == 0:\n",
    "        charperWord.append(0)\n",
    "    else:\n",
    "        k = c[i] / a[i]\n",
    "        charperWord.append(k)"
   ]
  },
  {
   "cell_type": "code",
   "execution_count": 63,
   "metadata": {
    "collapsed": true
   },
   "outputs": [],
   "source": [
    "reviewRead = []\n",
    "for i in range(len(a)):\n",
    "    ari = 4.71 * charperWord[i] + 0.5 * wordperSen[i] - 21.43\n",
    "    reviewRead.append(ari)"
   ]
  },
  {
   "cell_type": "code",
   "execution_count": 64,
   "metadata": {
    "collapsed": true
   },
   "outputs": [],
   "source": [
    "filter_df['reviewRead'] = reviewRead"
   ]
  },
  {
   "cell_type": "markdown",
   "metadata": {},
   "source": [
    "##### Test data"
   ]
  },
  {
   "cell_type": "code",
   "execution_count": 65,
   "metadata": {
    "collapsed": true
   },
   "outputs": [],
   "source": [
    "#calculate readability of reveiw text\n",
    "wordperSen = []\n",
    "charperWord = []\n",
    "a = test_df_raw['reviewWords']\n",
    "b = test_df_raw['reviewSentences']\n",
    "c = test_df_raw['reviewChars']\n",
    "for i in range(len(a)):\n",
    "    if b[i] == 0:\n",
    "        wordperSen.append(0)\n",
    "    else:\n",
    "        j = a[i] / b[i]\n",
    "        wordperSen.append(j)\n",
    "for i in range(len(a)):\n",
    "    if a[i] == 0:\n",
    "        charperWord.append(0)\n",
    "    else:\n",
    "        k = c[i] / a[i]\n",
    "        charperWord.append(k)"
   ]
  },
  {
   "cell_type": "code",
   "execution_count": 66,
   "metadata": {
    "collapsed": true
   },
   "outputs": [],
   "source": [
    "reviewRead = []\n",
    "for i in range(len(a)):\n",
    "    ari = 4.71 * charperWord[i] + 0.5 * wordperSen[i] - 21.43\n",
    "    reviewRead.append(ari)"
   ]
  },
  {
   "cell_type": "code",
   "execution_count": 67,
   "metadata": {
    "collapsed": true
   },
   "outputs": [],
   "source": [
    "test_df_raw['reviewRead'] = reviewRead"
   ]
  },
  {
   "cell_type": "markdown",
   "metadata": {},
   "source": [
    "### Number of punctuations of each reveiw text"
   ]
  },
  {
   "cell_type": "markdown",
   "metadata": {},
   "source": [
    "##### Train data"
   ]
  },
  {
   "cell_type": "code",
   "execution_count": 68,
   "metadata": {
    "collapsed": true
   },
   "outputs": [],
   "source": [
    "#I found that string.punctuation did not include all the punctuations of brown words, here I added all the extra punctuation in the following list\n",
    "punctuation = ['!','\"','#','$','%','&',\"'\",'(',')','*','+',',','-','.','/',':',';','<','=','>','?','@','[','\\\\',']','^','_','`','{','|','}','~','``',\"''\",'--']"
   ]
  },
  {
   "cell_type": "code",
   "execution_count": 69,
   "metadata": {
    "collapsed": true
   },
   "outputs": [],
   "source": [
    "#extract number of punctuations of each review text\n",
    "from collections import Counter\n",
    "reviewPuncts = []\n",
    "for i in filter_df['reviewText']:\n",
    "    a = dict(Counter(i))\n",
    "    b = {k:v for k,v in a.items() if k in punctuation}\n",
    "    c = sum(list(b.values()))\n",
    "    reviewPuncts.append(c)"
   ]
  },
  {
   "cell_type": "code",
   "execution_count": 70,
   "metadata": {
    "collapsed": true
   },
   "outputs": [],
   "source": [
    "filter_df['reviewPuncts'] = reviewPuncts"
   ]
  },
  {
   "cell_type": "markdown",
   "metadata": {},
   "source": [
    "##### Test data"
   ]
  },
  {
   "cell_type": "code",
   "execution_count": 71,
   "metadata": {
    "collapsed": true
   },
   "outputs": [],
   "source": [
    "#extract number of punctuations of each review text\n",
    "reviewPuncts = []\n",
    "for i in test_df_raw['reviewText']:\n",
    "    a = dict(Counter(i))\n",
    "    b = {k:v for k,v in a.items() if k in punctuation}\n",
    "    c = sum(list(b.values()))\n",
    "    reviewPuncts.append(c)"
   ]
  },
  {
   "cell_type": "code",
   "execution_count": 72,
   "metadata": {
    "collapsed": true
   },
   "outputs": [],
   "source": [
    "test_df_raw['reviewPuncts'] = reviewPuncts"
   ]
  },
  {
   "cell_type": "markdown",
   "metadata": {},
   "source": [
    "### Ratio of punctuations with characters"
   ]
  },
  {
   "cell_type": "markdown",
   "metadata": {},
   "source": [
    "##### Train data"
   ]
  },
  {
   "cell_type": "code",
   "execution_count": 73,
   "metadata": {
    "collapsed": true
   },
   "outputs": [],
   "source": [
    "filter_df['ratiopunChar'] = filter_df['reviewPuncts']/filter_df['reviewChars']"
   ]
  },
  {
   "cell_type": "markdown",
   "metadata": {},
   "source": [
    "##### Test data"
   ]
  },
  {
   "cell_type": "code",
   "execution_count": 74,
   "metadata": {
    "collapsed": true
   },
   "outputs": [],
   "source": [
    "test_df_raw['ratiopunChar'] = test_df_raw['reviewPuncts']/test_df_raw['reviewChars']"
   ]
  },
  {
   "cell_type": "markdown",
   "metadata": {},
   "source": [
    "### Number of capital words of each review"
   ]
  },
  {
   "cell_type": "markdown",
   "metadata": {},
   "source": [
    "##### Train data"
   ]
  },
  {
   "cell_type": "code",
   "execution_count": 75,
   "metadata": {
    "collapsed": true
   },
   "outputs": [],
   "source": [
    "#extract number of capital words of each summary text\n",
    "reviewCwords = []\n",
    "for i in filter_df['reviewText']:\n",
    "    a = i.split()\n",
    "    b = [word for word in a if word.isupper()]\n",
    "    c = len(b)\n",
    "    reviewCwords.append(c)"
   ]
  },
  {
   "cell_type": "code",
   "execution_count": 76,
   "metadata": {
    "collapsed": true
   },
   "outputs": [],
   "source": [
    "filter_df['reviewCwords'] = reviewCwords"
   ]
  },
  {
   "cell_type": "code",
   "execution_count": 77,
   "metadata": {
    "collapsed": true
   },
   "outputs": [],
   "source": [
    "filter_df['ratioCwords'] = filter_df['reviewCwords']/filter_df['reviewWords']"
   ]
  },
  {
   "cell_type": "markdown",
   "metadata": {},
   "source": [
    "##### Test data"
   ]
  },
  {
   "cell_type": "code",
   "execution_count": 78,
   "metadata": {
    "collapsed": true
   },
   "outputs": [],
   "source": [
    "#extract number of capital words of each summary text\n",
    "reviewCwords = []\n",
    "for i in test_df_raw['reviewText']:\n",
    "    a = i.split()\n",
    "    b = [word for word in a if word.isupper()]\n",
    "    c = len(b)\n",
    "    reviewCwords.append(c)"
   ]
  },
  {
   "cell_type": "code",
   "execution_count": 79,
   "metadata": {
    "collapsed": true
   },
   "outputs": [],
   "source": [
    "test_df_raw['reviewCwords'] = reviewCwords"
   ]
  },
  {
   "cell_type": "code",
   "execution_count": 80,
   "metadata": {
    "collapsed": true
   },
   "outputs": [],
   "source": [
    "test_df_raw['ratioCwords'] = test_df_raw['reviewCwords']/test_df_raw['reviewWords']"
   ]
  },
  {
   "cell_type": "markdown",
   "metadata": {},
   "source": [
    "### Number of capital words of each summary"
   ]
  },
  {
   "cell_type": "markdown",
   "metadata": {},
   "source": [
    "##### Train data"
   ]
  },
  {
   "cell_type": "code",
   "execution_count": 81,
   "metadata": {
    "collapsed": true
   },
   "outputs": [],
   "source": [
    "#extract number of capital words of each summary text\n",
    "summaryCwords = []\n",
    "for i in filter_df['summary']:\n",
    "    a = i.split()\n",
    "    b = [word for word in a if word.isupper()]\n",
    "    c = len(b)\n",
    "    summaryCwords.append(c)"
   ]
  },
  {
   "cell_type": "code",
   "execution_count": 82,
   "metadata": {
    "collapsed": true
   },
   "outputs": [],
   "source": [
    "filter_df['summaryCwords'] = summaryCwords"
   ]
  },
  {
   "cell_type": "code",
   "execution_count": 83,
   "metadata": {
    "collapsed": true
   },
   "outputs": [],
   "source": [
    "filter_df['suratioCwords'] = filter_df['summaryCwords']/filter_df['summaryWords']"
   ]
  },
  {
   "cell_type": "markdown",
   "metadata": {},
   "source": [
    "##### Test data"
   ]
  },
  {
   "cell_type": "code",
   "execution_count": 84,
   "metadata": {
    "collapsed": true
   },
   "outputs": [],
   "source": [
    "#extract number of capital words of each summary text\n",
    "summaryCwords = []\n",
    "for i in test_df_raw['summary']:\n",
    "    a = i.split()\n",
    "    b = [word for word in a if word.isupper()]\n",
    "    c = len(b)\n",
    "    summaryCwords.append(c)"
   ]
  },
  {
   "cell_type": "code",
   "execution_count": 85,
   "metadata": {
    "collapsed": true
   },
   "outputs": [],
   "source": [
    "test_df_raw['summaryCwords'] = summaryCwords"
   ]
  },
  {
   "cell_type": "code",
   "execution_count": 86,
   "metadata": {
    "collapsed": true
   },
   "outputs": [],
   "source": [
    "test_df_raw['suratioCwords'] = test_df_raw['summaryCwords']/test_df_raw['summaryWords']"
   ]
  },
  {
   "cell_type": "markdown",
   "metadata": {},
   "source": [
    "### Number of exclimation and question marks of each review text"
   ]
  },
  {
   "cell_type": "markdown",
   "metadata": {},
   "source": [
    "##### Train data"
   ]
  },
  {
   "cell_type": "code",
   "execution_count": 87,
   "metadata": {
    "collapsed": true
   },
   "outputs": [],
   "source": [
    "#extract number of exclimation and question mark in review text\n",
    "reexcqueMarks = []\n",
    "for i in filter_df['reviewText']:\n",
    "    a = re.findall(r'[!?]',i)\n",
    "    b = len(a)\n",
    "    reexcqueMarks.append(b)"
   ]
  },
  {
   "cell_type": "code",
   "execution_count": 88,
   "metadata": {
    "collapsed": true
   },
   "outputs": [],
   "source": [
    "filter_df['reexcqueMarks'] = reexcqueMarks"
   ]
  },
  {
   "cell_type": "markdown",
   "metadata": {},
   "source": [
    "##### Test data"
   ]
  },
  {
   "cell_type": "code",
   "execution_count": 89,
   "metadata": {
    "collapsed": true
   },
   "outputs": [],
   "source": [
    "#extract number of exclimation and question mark in review text\n",
    "reexcqueMarks = []\n",
    "for i in test_df_raw['reviewText']:\n",
    "    a = re.findall(r'[!?]',i)\n",
    "    b = len(a)\n",
    "    reexcqueMarks.append(b)"
   ]
  },
  {
   "cell_type": "code",
   "execution_count": 90,
   "metadata": {
    "collapsed": true
   },
   "outputs": [],
   "source": [
    "test_df_raw['reexcqueMarks'] = reexcqueMarks"
   ]
  },
  {
   "cell_type": "markdown",
   "metadata": {},
   "source": [
    "### Number of exclimation and question marks of each summary"
   ]
  },
  {
   "cell_type": "markdown",
   "metadata": {},
   "source": [
    "##### Train data"
   ]
  },
  {
   "cell_type": "code",
   "execution_count": 91,
   "metadata": {
    "collapsed": true
   },
   "outputs": [],
   "source": [
    "#extract number of exclimation and question mark in review text\n",
    "suexcqueMarks = []\n",
    "for i in filter_df['summary']:\n",
    "    a = re.findall(r'[!?]',i)\n",
    "    b = len(a)\n",
    "    suexcqueMarks.append(b)"
   ]
  },
  {
   "cell_type": "code",
   "execution_count": 92,
   "metadata": {
    "collapsed": true
   },
   "outputs": [],
   "source": [
    "filter_df['suexcqueMarks'] = suexcqueMarks"
   ]
  },
  {
   "cell_type": "code",
   "execution_count": 93,
   "metadata": {},
   "outputs": [
    {
     "data": {
      "text/plain": [
       "(63013, 32)"
      ]
     },
     "execution_count": 93,
     "metadata": {},
     "output_type": "execute_result"
    }
   ],
   "source": [
    "filter_df.shape"
   ]
  },
  {
   "cell_type": "markdown",
   "metadata": {},
   "source": [
    "##### Test data"
   ]
  },
  {
   "cell_type": "code",
   "execution_count": 94,
   "metadata": {
    "collapsed": true
   },
   "outputs": [],
   "source": [
    "#extract number of exclimation and question mark in review text\n",
    "suexcqueMarks = []\n",
    "for i in test_df_raw['summary']:\n",
    "    a = re.findall(r'[!?]',i)\n",
    "    b = len(a)\n",
    "    suexcqueMarks.append(b)"
   ]
  },
  {
   "cell_type": "code",
   "execution_count": 95,
   "metadata": {
    "collapsed": true
   },
   "outputs": [],
   "source": [
    "test_df_raw['suexcqueMarks'] = suexcqueMarks"
   ]
  },
  {
   "cell_type": "markdown",
   "metadata": {},
   "source": [
    "## Number of reviews of each product (measure the popularity of product)"
   ]
  },
  {
   "cell_type": "markdown",
   "metadata": {},
   "source": [
    "##### Train data"
   ]
  },
  {
   "cell_type": "code",
   "execution_count": 96,
   "metadata": {
    "collapsed": true
   },
   "outputs": [],
   "source": [
    "from collections import Counter\n",
    "ItemID = list(filter_df['itemID'])\n",
    "a = len(ItemID)\n",
    "b = []\n",
    "counts = dict(Counter(ItemID))\n",
    "for i in range(a):\n",
    "    c = ItemID[i]\n",
    "    d = counts[c]\n",
    "    b.append(d)"
   ]
  },
  {
   "cell_type": "code",
   "execution_count": 97,
   "metadata": {
    "collapsed": true
   },
   "outputs": [],
   "source": [
    "filter_df['numreviewPro'] = b"
   ]
  },
  {
   "cell_type": "markdown",
   "metadata": {},
   "source": [
    "##### Test data"
   ]
  },
  {
   "cell_type": "code",
   "execution_count": 98,
   "metadata": {
    "collapsed": true
   },
   "outputs": [],
   "source": [
    "ItemID = list(test_df_raw['itemID'])\n",
    "a = len(ItemID)\n",
    "b = []\n",
    "counts = dict(Counter(ItemID))\n",
    "for i in range(a):\n",
    "    c = ItemID[i]\n",
    "    d = counts[c]\n",
    "    b.append(d)"
   ]
  },
  {
   "cell_type": "code",
   "execution_count": 99,
   "metadata": {
    "collapsed": true
   },
   "outputs": [],
   "source": [
    "test_df_raw['numreviewPro'] = b"
   ]
  },
  {
   "cell_type": "markdown",
   "metadata": {},
   "source": [
    "## number of reviews each reviewer (measure reviewer's experience)"
   ]
  },
  {
   "cell_type": "markdown",
   "metadata": {},
   "source": [
    "##### Train data"
   ]
  },
  {
   "cell_type": "code",
   "execution_count": 100,
   "metadata": {
    "collapsed": true
   },
   "outputs": [],
   "source": [
    "ReviewerID = list(filter_df['reviewerID'])\n",
    "a = len(ReviewerID)\n",
    "b = []\n",
    "counts = dict(Counter(ReviewerID))\n",
    "for i in range(a):\n",
    "    c = ReviewerID[i]\n",
    "    d = counts[c]\n",
    "    b.append(d)"
   ]
  },
  {
   "cell_type": "code",
   "execution_count": 101,
   "metadata": {
    "collapsed": true
   },
   "outputs": [],
   "source": [
    "filter_df['numReviews'] = b"
   ]
  },
  {
   "cell_type": "markdown",
   "metadata": {},
   "source": [
    "##### Test data"
   ]
  },
  {
   "cell_type": "code",
   "execution_count": 102,
   "metadata": {
    "collapsed": true
   },
   "outputs": [],
   "source": [
    "ReviewerID = list(test_df_raw['reviewerID'])\n",
    "a = len(ReviewerID)\n",
    "b = []\n",
    "counts = dict(Counter(ReviewerID))\n",
    "for i in range(a):\n",
    "    c = ReviewerID[i]\n",
    "    d = counts[c]\n",
    "    b.append(d)"
   ]
  },
  {
   "cell_type": "code",
   "execution_count": 103,
   "metadata": {
    "collapsed": true
   },
   "outputs": [],
   "source": [
    "test_df_raw['numReviews'] = b"
   ]
  },
  {
   "cell_type": "markdown",
   "metadata": {},
   "source": [
    "## Data pruning"
   ]
  },
  {
   "cell_type": "code",
   "execution_count": 104,
   "metadata": {
    "collapsed": true
   },
   "outputs": [],
   "source": [
    "#remove unnecessary features\n",
    "filter_dfpru = filter_df.drop(['categoryID', 'categories','itemID','reviewerID','reviewText','reviewHash','reviewTime', 'summary','price', 'nHelpful','helpful'], axis=1)"
   ]
  },
  {
   "cell_type": "code",
   "execution_count": 105,
   "metadata": {},
   "outputs": [
    {
     "data": {
      "text/html": [
       "<div>\n",
       "<table border=\"1\" class=\"dataframe\">\n",
       "  <thead>\n",
       "    <tr style=\"text-align: right;\">\n",
       "      <th></th>\n",
       "      <th>rating</th>\n",
       "      <th>unixReviewTime</th>\n",
       "      <th>outOf</th>\n",
       "      <th>Helpratio</th>\n",
       "      <th>Helpgroup</th>\n",
       "      <th>ratDevmean</th>\n",
       "      <th>ratDevmean_ab</th>\n",
       "      <th>reviewWords</th>\n",
       "      <th>summaryWords</th>\n",
       "      <th>ratiosuWords</th>\n",
       "      <th>...</th>\n",
       "      <th>reviewPuncts</th>\n",
       "      <th>ratiopunChar</th>\n",
       "      <th>reviewCwords</th>\n",
       "      <th>ratioCwords</th>\n",
       "      <th>summaryCwords</th>\n",
       "      <th>suratioCwords</th>\n",
       "      <th>reexcqueMarks</th>\n",
       "      <th>suexcqueMarks</th>\n",
       "      <th>numreviewPro</th>\n",
       "      <th>numReviews</th>\n",
       "    </tr>\n",
       "  </thead>\n",
       "  <tbody>\n",
       "    <tr>\n",
       "      <th>0</th>\n",
       "      <td>3.0</td>\n",
       "      <td>41904000.0</td>\n",
       "      <td>2</td>\n",
       "      <td>1.0</td>\n",
       "      <td>1</td>\n",
       "      <td>-0.428571</td>\n",
       "      <td>0.428571</td>\n",
       "      <td>28</td>\n",
       "      <td>3</td>\n",
       "      <td>0.107143</td>\n",
       "      <td>...</td>\n",
       "      <td>7.0</td>\n",
       "      <td>0.063636</td>\n",
       "      <td>0</td>\n",
       "      <td>0.0</td>\n",
       "      <td>0</td>\n",
       "      <td>0.0</td>\n",
       "      <td>0</td>\n",
       "      <td>0</td>\n",
       "      <td>7</td>\n",
       "      <td>3</td>\n",
       "    </tr>\n",
       "  </tbody>\n",
       "</table>\n",
       "<p>1 rows × 23 columns</p>\n",
       "</div>"
      ],
      "text/plain": [
       "   rating  unixReviewTime  outOf  Helpratio  Helpgroup  ratDevmean  \\\n",
       "0     3.0      41904000.0      2        1.0          1   -0.428571   \n",
       "\n",
       "   ratDevmean_ab  reviewWords  summaryWords  ratiosuWords     ...      \\\n",
       "0       0.428571           28             3      0.107143     ...       \n",
       "\n",
       "   reviewPuncts  ratiopunChar  reviewCwords  ratioCwords  summaryCwords  \\\n",
       "0           7.0      0.063636             0          0.0              0   \n",
       "\n",
       "   suratioCwords  reexcqueMarks  suexcqueMarks  numreviewPro  numReviews  \n",
       "0            0.0              0              0             7           3  \n",
       "\n",
       "[1 rows x 23 columns]"
      ]
     },
     "execution_count": 105,
     "metadata": {},
     "output_type": "execute_result"
    }
   ],
   "source": [
    "filter_dfpru.head(1)"
   ]
  },
  {
   "cell_type": "code",
   "execution_count": 106,
   "metadata": {},
   "outputs": [
    {
     "name": "stdout",
     "output_type": "stream",
     "text": [
      "rating\n",
      "unixReviewTime\n",
      "outOf\n",
      "Helpratio\n",
      "Helpgroup\n",
      "ratDevmean\n",
      "ratDevmean_ab\n",
      "reviewWords\n",
      "summaryWords\n",
      "ratiosuWords\n",
      "reviewSentences\n",
      "reviewChars\n",
      "reviewRead\n",
      "reviewPuncts\n",
      "ratiopunChar\n",
      "reviewCwords\n",
      "ratioCwords\n",
      "summaryCwords\n",
      "suratioCwords\n",
      "reexcqueMarks\n",
      "suexcqueMarks\n",
      "numreviewPro\n",
      "numReviews\n"
     ]
    }
   ],
   "source": [
    "for i in filter_dfpru:\n",
    "    print (i)"
   ]
  },
  {
   "cell_type": "code",
   "execution_count": 107,
   "metadata": {
    "scrolled": false
   },
   "outputs": [
    {
     "data": {
      "text/html": [
       "<div>\n",
       "<table border=\"1\" class=\"dataframe\">\n",
       "  <thead>\n",
       "    <tr style=\"text-align: right;\">\n",
       "      <th></th>\n",
       "      <th>rating</th>\n",
       "      <th>unixReviewTime</th>\n",
       "      <th>outOf</th>\n",
       "      <th>Helpratio</th>\n",
       "      <th>Helpgroup</th>\n",
       "      <th>ratDevmean</th>\n",
       "      <th>ratDevmean_ab</th>\n",
       "      <th>reviewWords</th>\n",
       "      <th>summaryWords</th>\n",
       "      <th>ratiosuWords</th>\n",
       "      <th>...</th>\n",
       "      <th>reviewPuncts</th>\n",
       "      <th>ratiopunChar</th>\n",
       "      <th>reviewCwords</th>\n",
       "      <th>ratioCwords</th>\n",
       "      <th>summaryCwords</th>\n",
       "      <th>suratioCwords</th>\n",
       "      <th>reexcqueMarks</th>\n",
       "      <th>suexcqueMarks</th>\n",
       "      <th>numreviewPro</th>\n",
       "      <th>numReviews</th>\n",
       "    </tr>\n",
       "  </thead>\n",
       "  <tbody>\n",
       "    <tr>\n",
       "      <th>rating</th>\n",
       "      <td>1.000000</td>\n",
       "      <td>-0.044461</td>\n",
       "      <td>0.004787</td>\n",
       "      <td>0.178376</td>\n",
       "      <td>0.110524</td>\n",
       "      <td>8.251876e-01</td>\n",
       "      <td>-0.501657</td>\n",
       "      <td>-0.011915</td>\n",
       "      <td>-0.094424</td>\n",
       "      <td>-0.040082</td>\n",
       "      <td>...</td>\n",
       "      <td>-0.006277</td>\n",
       "      <td>0.005463</td>\n",
       "      <td>-0.013938</td>\n",
       "      <td>-0.003281</td>\n",
       "      <td>-0.014532</td>\n",
       "      <td>0.003764</td>\n",
       "      <td>0.082912</td>\n",
       "      <td>0.101173</td>\n",
       "      <td>-1.792685e-02</td>\n",
       "      <td>0.022369</td>\n",
       "    </tr>\n",
       "    <tr>\n",
       "      <th>unixReviewTime</th>\n",
       "      <td>-0.044461</td>\n",
       "      <td>1.000000</td>\n",
       "      <td>-0.105571</td>\n",
       "      <td>0.009313</td>\n",
       "      <td>-0.039767</td>\n",
       "      <td>-4.553042e-02</td>\n",
       "      <td>0.136534</td>\n",
       "      <td>0.017974</td>\n",
       "      <td>0.031464</td>\n",
       "      <td>0.018075</td>\n",
       "      <td>...</td>\n",
       "      <td>0.013933</td>\n",
       "      <td>-0.001494</td>\n",
       "      <td>0.008279</td>\n",
       "      <td>-0.003574</td>\n",
       "      <td>0.003890</td>\n",
       "      <td>-0.001387</td>\n",
       "      <td>-0.010769</td>\n",
       "      <td>-0.018409</td>\n",
       "      <td>3.443476e-01</td>\n",
       "      <td>-0.038965</td>\n",
       "    </tr>\n",
       "    <tr>\n",
       "      <th>outOf</th>\n",
       "      <td>0.004787</td>\n",
       "      <td>-0.105571</td>\n",
       "      <td>1.000000</td>\n",
       "      <td>0.079916</td>\n",
       "      <td>0.100943</td>\n",
       "      <td>1.648969e-02</td>\n",
       "      <td>0.028052</td>\n",
       "      <td>0.254877</td>\n",
       "      <td>0.071139</td>\n",
       "      <td>-0.087505</td>\n",
       "      <td>...</td>\n",
       "      <td>0.236682</td>\n",
       "      <td>0.009527</td>\n",
       "      <td>0.099873</td>\n",
       "      <td>-0.011376</td>\n",
       "      <td>0.021830</td>\n",
       "      <td>0.008178</td>\n",
       "      <td>0.060595</td>\n",
       "      <td>0.026944</td>\n",
       "      <td>3.783491e-02</td>\n",
       "      <td>0.086891</td>\n",
       "    </tr>\n",
       "    <tr>\n",
       "      <th>Helpratio</th>\n",
       "      <td>0.178376</td>\n",
       "      <td>0.009313</td>\n",
       "      <td>0.079916</td>\n",
       "      <td>1.000000</td>\n",
       "      <td>0.868004</td>\n",
       "      <td>1.430415e-01</td>\n",
       "      <td>-0.119315</td>\n",
       "      <td>0.046372</td>\n",
       "      <td>-0.005707</td>\n",
       "      <td>-0.046688</td>\n",
       "      <td>...</td>\n",
       "      <td>0.039898</td>\n",
       "      <td>-0.001928</td>\n",
       "      <td>-0.012070</td>\n",
       "      <td>-0.042740</td>\n",
       "      <td>-0.024715</td>\n",
       "      <td>-0.019882</td>\n",
       "      <td>0.016081</td>\n",
       "      <td>0.023379</td>\n",
       "      <td>1.262177e-02</td>\n",
       "      <td>0.021959</td>\n",
       "    </tr>\n",
       "    <tr>\n",
       "      <th>Helpgroup</th>\n",
       "      <td>0.110524</td>\n",
       "      <td>-0.039767</td>\n",
       "      <td>0.100943</td>\n",
       "      <td>0.868004</td>\n",
       "      <td>1.000000</td>\n",
       "      <td>8.465561e-02</td>\n",
       "      <td>-0.062750</td>\n",
       "      <td>0.084260</td>\n",
       "      <td>0.014204</td>\n",
       "      <td>-0.071405</td>\n",
       "      <td>...</td>\n",
       "      <td>0.071478</td>\n",
       "      <td>-0.001599</td>\n",
       "      <td>0.017190</td>\n",
       "      <td>-0.036351</td>\n",
       "      <td>-0.011189</td>\n",
       "      <td>-0.010490</td>\n",
       "      <td>0.029037</td>\n",
       "      <td>0.028877</td>\n",
       "      <td>8.081965e-03</td>\n",
       "      <td>0.037637</td>\n",
       "    </tr>\n",
       "    <tr>\n",
       "      <th>ratDevmean</th>\n",
       "      <td>0.825188</td>\n",
       "      <td>-0.045530</td>\n",
       "      <td>0.016490</td>\n",
       "      <td>0.143041</td>\n",
       "      <td>0.084656</td>\n",
       "      <td>1.000000e+00</td>\n",
       "      <td>-0.341038</td>\n",
       "      <td>-0.008737</td>\n",
       "      <td>-0.074294</td>\n",
       "      <td>-0.031910</td>\n",
       "      <td>...</td>\n",
       "      <td>-0.005297</td>\n",
       "      <td>0.002997</td>\n",
       "      <td>-0.006336</td>\n",
       "      <td>0.005233</td>\n",
       "      <td>-0.012203</td>\n",
       "      <td>0.002023</td>\n",
       "      <td>0.068515</td>\n",
       "      <td>0.083014</td>\n",
       "      <td>1.650625e-17</td>\n",
       "      <td>0.020716</td>\n",
       "    </tr>\n",
       "    <tr>\n",
       "      <th>ratDevmean_ab</th>\n",
       "      <td>-0.501657</td>\n",
       "      <td>0.136534</td>\n",
       "      <td>0.028052</td>\n",
       "      <td>-0.119315</td>\n",
       "      <td>-0.062750</td>\n",
       "      <td>-3.410380e-01</td>\n",
       "      <td>1.000000</td>\n",
       "      <td>-0.008541</td>\n",
       "      <td>0.027879</td>\n",
       "      <td>0.023162</td>\n",
       "      <td>...</td>\n",
       "      <td>-0.007748</td>\n",
       "      <td>-0.003140</td>\n",
       "      <td>0.006453</td>\n",
       "      <td>0.007636</td>\n",
       "      <td>0.025732</td>\n",
       "      <td>0.018533</td>\n",
       "      <td>-0.001897</td>\n",
       "      <td>-0.009412</td>\n",
       "      <td>1.977673e-01</td>\n",
       "      <td>-0.000793</td>\n",
       "    </tr>\n",
       "    <tr>\n",
       "      <th>reviewWords</th>\n",
       "      <td>-0.011915</td>\n",
       "      <td>0.017974</td>\n",
       "      <td>0.254877</td>\n",
       "      <td>0.046372</td>\n",
       "      <td>0.084260</td>\n",
       "      <td>-8.737217e-03</td>\n",
       "      <td>-0.008541</td>\n",
       "      <td>1.000000</td>\n",
       "      <td>0.265194</td>\n",
       "      <td>-0.345211</td>\n",
       "      <td>...</td>\n",
       "      <td>0.844314</td>\n",
       "      <td>-0.019285</td>\n",
       "      <td>0.444650</td>\n",
       "      <td>-0.026581</td>\n",
       "      <td>0.080048</td>\n",
       "      <td>0.018518</td>\n",
       "      <td>0.223193</td>\n",
       "      <td>0.055157</td>\n",
       "      <td>1.895671e-03</td>\n",
       "      <td>0.158572</td>\n",
       "    </tr>\n",
       "    <tr>\n",
       "      <th>summaryWords</th>\n",
       "      <td>-0.094424</td>\n",
       "      <td>0.031464</td>\n",
       "      <td>0.071139</td>\n",
       "      <td>-0.005707</td>\n",
       "      <td>0.014204</td>\n",
       "      <td>-7.429443e-02</td>\n",
       "      <td>0.027879</td>\n",
       "      <td>0.265194</td>\n",
       "      <td>1.000000</td>\n",
       "      <td>0.494703</td>\n",
       "      <td>...</td>\n",
       "      <td>0.234323</td>\n",
       "      <td>0.008892</td>\n",
       "      <td>0.125457</td>\n",
       "      <td>-0.014638</td>\n",
       "      <td>0.208041</td>\n",
       "      <td>-0.008994</td>\n",
       "      <td>0.054887</td>\n",
       "      <td>0.006762</td>\n",
       "      <td>1.588829e-03</td>\n",
       "      <td>0.062604</td>\n",
       "    </tr>\n",
       "    <tr>\n",
       "      <th>ratiosuWords</th>\n",
       "      <td>-0.040082</td>\n",
       "      <td>0.018075</td>\n",
       "      <td>-0.087505</td>\n",
       "      <td>-0.046688</td>\n",
       "      <td>-0.071405</td>\n",
       "      <td>-3.190981e-02</td>\n",
       "      <td>0.023162</td>\n",
       "      <td>-0.345211</td>\n",
       "      <td>0.494703</td>\n",
       "      <td>1.000000</td>\n",
       "      <td>...</td>\n",
       "      <td>-0.273189</td>\n",
       "      <td>0.036976</td>\n",
       "      <td>-0.171374</td>\n",
       "      <td>0.011715</td>\n",
       "      <td>0.081660</td>\n",
       "      <td>-0.020242</td>\n",
       "      <td>-0.097809</td>\n",
       "      <td>-0.046261</td>\n",
       "      <td>2.790099e-03</td>\n",
       "      <td>-0.084710</td>\n",
       "    </tr>\n",
       "    <tr>\n",
       "      <th>reviewSentences</th>\n",
       "      <td>-0.022878</td>\n",
       "      <td>0.014589</td>\n",
       "      <td>0.181606</td>\n",
       "      <td>0.033245</td>\n",
       "      <td>0.065669</td>\n",
       "      <td>-1.845982e-02</td>\n",
       "      <td>0.003073</td>\n",
       "      <td>0.706799</td>\n",
       "      <td>0.187303</td>\n",
       "      <td>-0.252401</td>\n",
       "      <td>...</td>\n",
       "      <td>0.782876</td>\n",
       "      <td>0.375653</td>\n",
       "      <td>0.320600</td>\n",
       "      <td>-0.020344</td>\n",
       "      <td>0.066613</td>\n",
       "      <td>0.020340</td>\n",
       "      <td>0.124252</td>\n",
       "      <td>0.027480</td>\n",
       "      <td>8.757179e-04</td>\n",
       "      <td>0.127078</td>\n",
       "    </tr>\n",
       "    <tr>\n",
       "      <th>reviewChars</th>\n",
       "      <td>-0.007552</td>\n",
       "      <td>0.018313</td>\n",
       "      <td>0.257483</td>\n",
       "      <td>0.047086</td>\n",
       "      <td>0.083931</td>\n",
       "      <td>-6.338427e-03</td>\n",
       "      <td>-0.009774</td>\n",
       "      <td>0.996123</td>\n",
       "      <td>0.264021</td>\n",
       "      <td>-0.335238</td>\n",
       "      <td>...</td>\n",
       "      <td>0.853033</td>\n",
       "      <td>-0.015790</td>\n",
       "      <td>0.432212</td>\n",
       "      <td>-0.032839</td>\n",
       "      <td>0.078150</td>\n",
       "      <td>0.016370</td>\n",
       "      <td>0.218285</td>\n",
       "      <td>0.053397</td>\n",
       "      <td>-3.897816e-04</td>\n",
       "      <td>0.159422</td>\n",
       "    </tr>\n",
       "    <tr>\n",
       "      <th>reviewRead</th>\n",
       "      <td>0.031050</td>\n",
       "      <td>-0.002627</td>\n",
       "      <td>0.049618</td>\n",
       "      <td>0.009443</td>\n",
       "      <td>0.021229</td>\n",
       "      <td>1.964330e-02</td>\n",
       "      <td>-0.020525</td>\n",
       "      <td>0.182273</td>\n",
       "      <td>0.091502</td>\n",
       "      <td>-0.093060</td>\n",
       "      <td>...</td>\n",
       "      <td>0.138566</td>\n",
       "      <td>-0.083190</td>\n",
       "      <td>0.073107</td>\n",
       "      <td>-0.033752</td>\n",
       "      <td>0.020689</td>\n",
       "      <td>0.006506</td>\n",
       "      <td>0.169701</td>\n",
       "      <td>0.060867</td>\n",
       "      <td>-1.159272e-02</td>\n",
       "      <td>0.034219</td>\n",
       "    </tr>\n",
       "    <tr>\n",
       "      <th>reviewPuncts</th>\n",
       "      <td>-0.006277</td>\n",
       "      <td>0.013933</td>\n",
       "      <td>0.236682</td>\n",
       "      <td>0.039898</td>\n",
       "      <td>0.071478</td>\n",
       "      <td>-5.297411e-03</td>\n",
       "      <td>-0.007748</td>\n",
       "      <td>0.844314</td>\n",
       "      <td>0.234323</td>\n",
       "      <td>-0.273189</td>\n",
       "      <td>...</td>\n",
       "      <td>1.000000</td>\n",
       "      <td>0.301637</td>\n",
       "      <td>0.383887</td>\n",
       "      <td>-0.022215</td>\n",
       "      <td>0.090939</td>\n",
       "      <td>0.029133</td>\n",
       "      <td>0.281697</td>\n",
       "      <td>0.069580</td>\n",
       "      <td>6.713710e-03</td>\n",
       "      <td>0.142832</td>\n",
       "    </tr>\n",
       "    <tr>\n",
       "      <th>ratiopunChar</th>\n",
       "      <td>0.005463</td>\n",
       "      <td>-0.001494</td>\n",
       "      <td>0.009527</td>\n",
       "      <td>-0.001928</td>\n",
       "      <td>-0.001599</td>\n",
       "      <td>2.997143e-03</td>\n",
       "      <td>-0.003140</td>\n",
       "      <td>-0.019285</td>\n",
       "      <td>0.008892</td>\n",
       "      <td>0.036976</td>\n",
       "      <td>...</td>\n",
       "      <td>0.301637</td>\n",
       "      <td>1.000000</td>\n",
       "      <td>-0.001342</td>\n",
       "      <td>0.008156</td>\n",
       "      <td>0.024859</td>\n",
       "      <td>0.023814</td>\n",
       "      <td>0.138221</td>\n",
       "      <td>0.051255</td>\n",
       "      <td>8.076144e-03</td>\n",
       "      <td>0.009522</td>\n",
       "    </tr>\n",
       "    <tr>\n",
       "      <th>reviewCwords</th>\n",
       "      <td>-0.013938</td>\n",
       "      <td>0.008279</td>\n",
       "      <td>0.099873</td>\n",
       "      <td>-0.012070</td>\n",
       "      <td>0.017190</td>\n",
       "      <td>-6.335713e-03</td>\n",
       "      <td>0.006453</td>\n",
       "      <td>0.444650</td>\n",
       "      <td>0.125457</td>\n",
       "      <td>-0.171374</td>\n",
       "      <td>...</td>\n",
       "      <td>0.383887</td>\n",
       "      <td>-0.001342</td>\n",
       "      <td>1.000000</td>\n",
       "      <td>0.586532</td>\n",
       "      <td>0.303054</td>\n",
       "      <td>0.260481</td>\n",
       "      <td>0.191369</td>\n",
       "      <td>0.067220</td>\n",
       "      <td>6.275377e-03</td>\n",
       "      <td>0.076479</td>\n",
       "    </tr>\n",
       "    <tr>\n",
       "      <th>ratioCwords</th>\n",
       "      <td>-0.003281</td>\n",
       "      <td>-0.003574</td>\n",
       "      <td>-0.011376</td>\n",
       "      <td>-0.042740</td>\n",
       "      <td>-0.036351</td>\n",
       "      <td>5.232646e-03</td>\n",
       "      <td>0.007636</td>\n",
       "      <td>-0.026581</td>\n",
       "      <td>-0.014638</td>\n",
       "      <td>0.011715</td>\n",
       "      <td>...</td>\n",
       "      <td>-0.022215</td>\n",
       "      <td>0.008156</td>\n",
       "      <td>0.586532</td>\n",
       "      <td>1.000000</td>\n",
       "      <td>0.325453</td>\n",
       "      <td>0.397097</td>\n",
       "      <td>0.060254</td>\n",
       "      <td>0.052397</td>\n",
       "      <td>7.139876e-03</td>\n",
       "      <td>-0.003646</td>\n",
       "    </tr>\n",
       "    <tr>\n",
       "      <th>summaryCwords</th>\n",
       "      <td>-0.014532</td>\n",
       "      <td>0.003890</td>\n",
       "      <td>0.021830</td>\n",
       "      <td>-0.024715</td>\n",
       "      <td>-0.011189</td>\n",
       "      <td>-1.220349e-02</td>\n",
       "      <td>0.025732</td>\n",
       "      <td>0.080048</td>\n",
       "      <td>0.208041</td>\n",
       "      <td>0.081660</td>\n",
       "      <td>...</td>\n",
       "      <td>0.090939</td>\n",
       "      <td>0.024859</td>\n",
       "      <td>0.303054</td>\n",
       "      <td>0.325453</td>\n",
       "      <td>1.000000</td>\n",
       "      <td>0.776015</td>\n",
       "      <td>0.132250</td>\n",
       "      <td>0.135145</td>\n",
       "      <td>6.884398e-03</td>\n",
       "      <td>0.022411</td>\n",
       "    </tr>\n",
       "    <tr>\n",
       "      <th>suratioCwords</th>\n",
       "      <td>0.003764</td>\n",
       "      <td>-0.001387</td>\n",
       "      <td>0.008178</td>\n",
       "      <td>-0.019882</td>\n",
       "      <td>-0.010490</td>\n",
       "      <td>2.023497e-03</td>\n",
       "      <td>0.018533</td>\n",
       "      <td>0.018518</td>\n",
       "      <td>-0.008994</td>\n",
       "      <td>-0.020242</td>\n",
       "      <td>...</td>\n",
       "      <td>0.029133</td>\n",
       "      <td>0.023814</td>\n",
       "      <td>0.260481</td>\n",
       "      <td>0.397097</td>\n",
       "      <td>0.776015</td>\n",
       "      <td>1.000000</td>\n",
       "      <td>0.116720</td>\n",
       "      <td>0.147129</td>\n",
       "      <td>7.071418e-03</td>\n",
       "      <td>0.009292</td>\n",
       "    </tr>\n",
       "    <tr>\n",
       "      <th>reexcqueMarks</th>\n",
       "      <td>0.082912</td>\n",
       "      <td>-0.010769</td>\n",
       "      <td>0.060595</td>\n",
       "      <td>0.016081</td>\n",
       "      <td>0.029037</td>\n",
       "      <td>6.851538e-02</td>\n",
       "      <td>-0.001897</td>\n",
       "      <td>0.223193</td>\n",
       "      <td>0.054887</td>\n",
       "      <td>-0.097809</td>\n",
       "      <td>...</td>\n",
       "      <td>0.281697</td>\n",
       "      <td>0.138221</td>\n",
       "      <td>0.191369</td>\n",
       "      <td>0.060254</td>\n",
       "      <td>0.132250</td>\n",
       "      <td>0.116720</td>\n",
       "      <td>1.000000</td>\n",
       "      <td>0.324958</td>\n",
       "      <td>2.041919e-02</td>\n",
       "      <td>0.043182</td>\n",
       "    </tr>\n",
       "    <tr>\n",
       "      <th>suexcqueMarks</th>\n",
       "      <td>0.101173</td>\n",
       "      <td>-0.018409</td>\n",
       "      <td>0.026944</td>\n",
       "      <td>0.023379</td>\n",
       "      <td>0.028877</td>\n",
       "      <td>8.301429e-02</td>\n",
       "      <td>-0.009412</td>\n",
       "      <td>0.055157</td>\n",
       "      <td>0.006762</td>\n",
       "      <td>-0.046261</td>\n",
       "      <td>...</td>\n",
       "      <td>0.069580</td>\n",
       "      <td>0.051255</td>\n",
       "      <td>0.067220</td>\n",
       "      <td>0.052397</td>\n",
       "      <td>0.135145</td>\n",
       "      <td>0.147129</td>\n",
       "      <td>0.324958</td>\n",
       "      <td>1.000000</td>\n",
       "      <td>1.145437e-02</td>\n",
       "      <td>0.014563</td>\n",
       "    </tr>\n",
       "    <tr>\n",
       "      <th>numreviewPro</th>\n",
       "      <td>-0.017927</td>\n",
       "      <td>0.344348</td>\n",
       "      <td>0.037835</td>\n",
       "      <td>0.012622</td>\n",
       "      <td>0.008082</td>\n",
       "      <td>1.650625e-17</td>\n",
       "      <td>0.197767</td>\n",
       "      <td>0.001896</td>\n",
       "      <td>0.001589</td>\n",
       "      <td>0.002790</td>\n",
       "      <td>...</td>\n",
       "      <td>0.006714</td>\n",
       "      <td>0.008076</td>\n",
       "      <td>0.006275</td>\n",
       "      <td>0.007140</td>\n",
       "      <td>0.006884</td>\n",
       "      <td>0.007071</td>\n",
       "      <td>0.020419</td>\n",
       "      <td>0.011454</td>\n",
       "      <td>1.000000e+00</td>\n",
       "      <td>0.003433</td>\n",
       "    </tr>\n",
       "    <tr>\n",
       "      <th>numReviews</th>\n",
       "      <td>0.022369</td>\n",
       "      <td>-0.038965</td>\n",
       "      <td>0.086891</td>\n",
       "      <td>0.021959</td>\n",
       "      <td>0.037637</td>\n",
       "      <td>2.071572e-02</td>\n",
       "      <td>-0.000793</td>\n",
       "      <td>0.158572</td>\n",
       "      <td>0.062604</td>\n",
       "      <td>-0.084710</td>\n",
       "      <td>...</td>\n",
       "      <td>0.142832</td>\n",
       "      <td>0.009522</td>\n",
       "      <td>0.076479</td>\n",
       "      <td>-0.003646</td>\n",
       "      <td>0.022411</td>\n",
       "      <td>0.009292</td>\n",
       "      <td>0.043182</td>\n",
       "      <td>0.014563</td>\n",
       "      <td>3.432662e-03</td>\n",
       "      <td>1.000000</td>\n",
       "    </tr>\n",
       "  </tbody>\n",
       "</table>\n",
       "<p>23 rows × 23 columns</p>\n",
       "</div>"
      ],
      "text/plain": [
       "                   rating  unixReviewTime     outOf  Helpratio  Helpgroup  \\\n",
       "rating           1.000000       -0.044461  0.004787   0.178376   0.110524   \n",
       "unixReviewTime  -0.044461        1.000000 -0.105571   0.009313  -0.039767   \n",
       "outOf            0.004787       -0.105571  1.000000   0.079916   0.100943   \n",
       "Helpratio        0.178376        0.009313  0.079916   1.000000   0.868004   \n",
       "Helpgroup        0.110524       -0.039767  0.100943   0.868004   1.000000   \n",
       "ratDevmean       0.825188       -0.045530  0.016490   0.143041   0.084656   \n",
       "ratDevmean_ab   -0.501657        0.136534  0.028052  -0.119315  -0.062750   \n",
       "reviewWords     -0.011915        0.017974  0.254877   0.046372   0.084260   \n",
       "summaryWords    -0.094424        0.031464  0.071139  -0.005707   0.014204   \n",
       "ratiosuWords    -0.040082        0.018075 -0.087505  -0.046688  -0.071405   \n",
       "reviewSentences -0.022878        0.014589  0.181606   0.033245   0.065669   \n",
       "reviewChars     -0.007552        0.018313  0.257483   0.047086   0.083931   \n",
       "reviewRead       0.031050       -0.002627  0.049618   0.009443   0.021229   \n",
       "reviewPuncts    -0.006277        0.013933  0.236682   0.039898   0.071478   \n",
       "ratiopunChar     0.005463       -0.001494  0.009527  -0.001928  -0.001599   \n",
       "reviewCwords    -0.013938        0.008279  0.099873  -0.012070   0.017190   \n",
       "ratioCwords     -0.003281       -0.003574 -0.011376  -0.042740  -0.036351   \n",
       "summaryCwords   -0.014532        0.003890  0.021830  -0.024715  -0.011189   \n",
       "suratioCwords    0.003764       -0.001387  0.008178  -0.019882  -0.010490   \n",
       "reexcqueMarks    0.082912       -0.010769  0.060595   0.016081   0.029037   \n",
       "suexcqueMarks    0.101173       -0.018409  0.026944   0.023379   0.028877   \n",
       "numreviewPro    -0.017927        0.344348  0.037835   0.012622   0.008082   \n",
       "numReviews       0.022369       -0.038965  0.086891   0.021959   0.037637   \n",
       "\n",
       "                   ratDevmean  ratDevmean_ab  reviewWords  summaryWords  \\\n",
       "rating           8.251876e-01      -0.501657    -0.011915     -0.094424   \n",
       "unixReviewTime  -4.553042e-02       0.136534     0.017974      0.031464   \n",
       "outOf            1.648969e-02       0.028052     0.254877      0.071139   \n",
       "Helpratio        1.430415e-01      -0.119315     0.046372     -0.005707   \n",
       "Helpgroup        8.465561e-02      -0.062750     0.084260      0.014204   \n",
       "ratDevmean       1.000000e+00      -0.341038    -0.008737     -0.074294   \n",
       "ratDevmean_ab   -3.410380e-01       1.000000    -0.008541      0.027879   \n",
       "reviewWords     -8.737217e-03      -0.008541     1.000000      0.265194   \n",
       "summaryWords    -7.429443e-02       0.027879     0.265194      1.000000   \n",
       "ratiosuWords    -3.190981e-02       0.023162    -0.345211      0.494703   \n",
       "reviewSentences -1.845982e-02       0.003073     0.706799      0.187303   \n",
       "reviewChars     -6.338427e-03      -0.009774     0.996123      0.264021   \n",
       "reviewRead       1.964330e-02      -0.020525     0.182273      0.091502   \n",
       "reviewPuncts    -5.297411e-03      -0.007748     0.844314      0.234323   \n",
       "ratiopunChar     2.997143e-03      -0.003140    -0.019285      0.008892   \n",
       "reviewCwords    -6.335713e-03       0.006453     0.444650      0.125457   \n",
       "ratioCwords      5.232646e-03       0.007636    -0.026581     -0.014638   \n",
       "summaryCwords   -1.220349e-02       0.025732     0.080048      0.208041   \n",
       "suratioCwords    2.023497e-03       0.018533     0.018518     -0.008994   \n",
       "reexcqueMarks    6.851538e-02      -0.001897     0.223193      0.054887   \n",
       "suexcqueMarks    8.301429e-02      -0.009412     0.055157      0.006762   \n",
       "numreviewPro     1.650625e-17       0.197767     0.001896      0.001589   \n",
       "numReviews       2.071572e-02      -0.000793     0.158572      0.062604   \n",
       "\n",
       "                 ratiosuWords     ...      reviewPuncts  ratiopunChar  \\\n",
       "rating              -0.040082     ...         -0.006277      0.005463   \n",
       "unixReviewTime       0.018075     ...          0.013933     -0.001494   \n",
       "outOf               -0.087505     ...          0.236682      0.009527   \n",
       "Helpratio           -0.046688     ...          0.039898     -0.001928   \n",
       "Helpgroup           -0.071405     ...          0.071478     -0.001599   \n",
       "ratDevmean          -0.031910     ...         -0.005297      0.002997   \n",
       "ratDevmean_ab        0.023162     ...         -0.007748     -0.003140   \n",
       "reviewWords         -0.345211     ...          0.844314     -0.019285   \n",
       "summaryWords         0.494703     ...          0.234323      0.008892   \n",
       "ratiosuWords         1.000000     ...         -0.273189      0.036976   \n",
       "reviewSentences     -0.252401     ...          0.782876      0.375653   \n",
       "reviewChars         -0.335238     ...          0.853033     -0.015790   \n",
       "reviewRead          -0.093060     ...          0.138566     -0.083190   \n",
       "reviewPuncts        -0.273189     ...          1.000000      0.301637   \n",
       "ratiopunChar         0.036976     ...          0.301637      1.000000   \n",
       "reviewCwords        -0.171374     ...          0.383887     -0.001342   \n",
       "ratioCwords          0.011715     ...         -0.022215      0.008156   \n",
       "summaryCwords        0.081660     ...          0.090939      0.024859   \n",
       "suratioCwords       -0.020242     ...          0.029133      0.023814   \n",
       "reexcqueMarks       -0.097809     ...          0.281697      0.138221   \n",
       "suexcqueMarks       -0.046261     ...          0.069580      0.051255   \n",
       "numreviewPro         0.002790     ...          0.006714      0.008076   \n",
       "numReviews          -0.084710     ...          0.142832      0.009522   \n",
       "\n",
       "                 reviewCwords  ratioCwords  summaryCwords  suratioCwords  \\\n",
       "rating              -0.013938    -0.003281      -0.014532       0.003764   \n",
       "unixReviewTime       0.008279    -0.003574       0.003890      -0.001387   \n",
       "outOf                0.099873    -0.011376       0.021830       0.008178   \n",
       "Helpratio           -0.012070    -0.042740      -0.024715      -0.019882   \n",
       "Helpgroup            0.017190    -0.036351      -0.011189      -0.010490   \n",
       "ratDevmean          -0.006336     0.005233      -0.012203       0.002023   \n",
       "ratDevmean_ab        0.006453     0.007636       0.025732       0.018533   \n",
       "reviewWords          0.444650    -0.026581       0.080048       0.018518   \n",
       "summaryWords         0.125457    -0.014638       0.208041      -0.008994   \n",
       "ratiosuWords        -0.171374     0.011715       0.081660      -0.020242   \n",
       "reviewSentences      0.320600    -0.020344       0.066613       0.020340   \n",
       "reviewChars          0.432212    -0.032839       0.078150       0.016370   \n",
       "reviewRead           0.073107    -0.033752       0.020689       0.006506   \n",
       "reviewPuncts         0.383887    -0.022215       0.090939       0.029133   \n",
       "ratiopunChar        -0.001342     0.008156       0.024859       0.023814   \n",
       "reviewCwords         1.000000     0.586532       0.303054       0.260481   \n",
       "ratioCwords          0.586532     1.000000       0.325453       0.397097   \n",
       "summaryCwords        0.303054     0.325453       1.000000       0.776015   \n",
       "suratioCwords        0.260481     0.397097       0.776015       1.000000   \n",
       "reexcqueMarks        0.191369     0.060254       0.132250       0.116720   \n",
       "suexcqueMarks        0.067220     0.052397       0.135145       0.147129   \n",
       "numreviewPro         0.006275     0.007140       0.006884       0.007071   \n",
       "numReviews           0.076479    -0.003646       0.022411       0.009292   \n",
       "\n",
       "                 reexcqueMarks  suexcqueMarks  numreviewPro  numReviews  \n",
       "rating                0.082912       0.101173 -1.792685e-02    0.022369  \n",
       "unixReviewTime       -0.010769      -0.018409  3.443476e-01   -0.038965  \n",
       "outOf                 0.060595       0.026944  3.783491e-02    0.086891  \n",
       "Helpratio             0.016081       0.023379  1.262177e-02    0.021959  \n",
       "Helpgroup             0.029037       0.028877  8.081965e-03    0.037637  \n",
       "ratDevmean            0.068515       0.083014  1.650625e-17    0.020716  \n",
       "ratDevmean_ab        -0.001897      -0.009412  1.977673e-01   -0.000793  \n",
       "reviewWords           0.223193       0.055157  1.895671e-03    0.158572  \n",
       "summaryWords          0.054887       0.006762  1.588829e-03    0.062604  \n",
       "ratiosuWords         -0.097809      -0.046261  2.790099e-03   -0.084710  \n",
       "reviewSentences       0.124252       0.027480  8.757179e-04    0.127078  \n",
       "reviewChars           0.218285       0.053397 -3.897816e-04    0.159422  \n",
       "reviewRead            0.169701       0.060867 -1.159272e-02    0.034219  \n",
       "reviewPuncts          0.281697       0.069580  6.713710e-03    0.142832  \n",
       "ratiopunChar          0.138221       0.051255  8.076144e-03    0.009522  \n",
       "reviewCwords          0.191369       0.067220  6.275377e-03    0.076479  \n",
       "ratioCwords           0.060254       0.052397  7.139876e-03   -0.003646  \n",
       "summaryCwords         0.132250       0.135145  6.884398e-03    0.022411  \n",
       "suratioCwords         0.116720       0.147129  7.071418e-03    0.009292  \n",
       "reexcqueMarks         1.000000       0.324958  2.041919e-02    0.043182  \n",
       "suexcqueMarks         0.324958       1.000000  1.145437e-02    0.014563  \n",
       "numreviewPro          0.020419       0.011454  1.000000e+00    0.003433  \n",
       "numReviews            0.043182       0.014563  3.432662e-03    1.000000  \n",
       "\n",
       "[23 rows x 23 columns]"
      ]
     },
     "execution_count": 107,
     "metadata": {},
     "output_type": "execute_result"
    }
   ],
   "source": [
    "filter_dfpru.corr()"
   ]
  },
  {
   "cell_type": "code",
   "execution_count": 108,
   "metadata": {
    "collapsed": true
   },
   "outputs": [],
   "source": [
    "#remove unnecessary features\n",
    "filter_dfpru1 = filter_df.drop(['categoryID', 'categories','itemID','reviewerID','reviewText','reviewHash','reviewTime', 'summary','price', 'nHelpful','helpful','Helpratio','Helpgroup'], axis=1)"
   ]
  },
  {
   "cell_type": "code",
   "execution_count": 109,
   "metadata": {
    "collapsed": true
   },
   "outputs": [],
   "source": [
    "#remove unnecessary features\n",
    "#df_data2 = df_data.drop(['unixReviewTime', 'ratDevmean_ab','ratiosuWords','reviewSentences','suratioCwords', 'reviewRead','numReviews'], axis=1)\n"
   ]
  },
  {
   "cell_type": "code",
   "execution_count": 110,
   "metadata": {
    "collapsed": true
   },
   "outputs": [],
   "source": [
    "#keep necessary features\n",
    "#filter_dfpru3 = filter_dfpru1[['rating','outOf', 'ratDevmean','reviewWords','ratiosuWords', 'reviewSentences', 'reviewChars', 'reviewPuncts', 'reviewCwords', 'ratioCwords', 'summaryCwords', 'suratioCwords', 'reexcqueMarks','suexcqueMarks', 'numreviewPro', 'numReviews']]\n"
   ]
  },
  {
   "cell_type": "code",
   "execution_count": 111,
   "metadata": {
    "collapsed": true
   },
   "outputs": [],
   "source": [
    "#keep necessary features\n",
    "filter_dfpru3 = filter_dfpru1[['rating','unixReviewTime','outOf', 'reviewWords','summaryCwords','ratiosuWords','suexcqueMarks', 'numreviewPro','numReviews']]"
   ]
  },
  {
   "cell_type": "code",
   "execution_count": 112,
   "metadata": {
    "collapsed": true
   },
   "outputs": [],
   "source": [
    "#keep necessary features\n",
    "#filter_dfpru3 = filter_dfpru1[['rating','outOf', 'reviewWords','ratiosuWords', 'ratioCwords', 'summaryCwords', 'suexcqueMarks', 'numreviewPro','numReviews']]\n"
   ]
  },
  {
   "cell_type": "code",
   "execution_count": 113,
   "metadata": {
    "scrolled": true
   },
   "outputs": [
    {
     "data": {
      "text/html": [
       "<div>\n",
       "<table border=\"1\" class=\"dataframe\">\n",
       "  <thead>\n",
       "    <tr style=\"text-align: right;\">\n",
       "      <th></th>\n",
       "      <th>rating</th>\n",
       "      <th>unixReviewTime</th>\n",
       "      <th>outOf</th>\n",
       "      <th>reviewWords</th>\n",
       "      <th>summaryCwords</th>\n",
       "      <th>ratiosuWords</th>\n",
       "      <th>suexcqueMarks</th>\n",
       "      <th>numreviewPro</th>\n",
       "      <th>numReviews</th>\n",
       "    </tr>\n",
       "  </thead>\n",
       "  <tbody>\n",
       "    <tr>\n",
       "      <th>0</th>\n",
       "      <td>3.0</td>\n",
       "      <td>41904000.0</td>\n",
       "      <td>2</td>\n",
       "      <td>28</td>\n",
       "      <td>0</td>\n",
       "      <td>0.107143</td>\n",
       "      <td>0</td>\n",
       "      <td>7</td>\n",
       "      <td>3</td>\n",
       "    </tr>\n",
       "  </tbody>\n",
       "</table>\n",
       "</div>"
      ],
      "text/plain": [
       "   rating  unixReviewTime  outOf  reviewWords  summaryCwords  ratiosuWords  \\\n",
       "0     3.0      41904000.0      2           28              0      0.107143   \n",
       "\n",
       "   suexcqueMarks  numreviewPro  numReviews  \n",
       "0              0             7           3  "
      ]
     },
     "execution_count": 113,
     "metadata": {},
     "output_type": "execute_result"
    }
   ],
   "source": [
    "filter_dfpru3.head(1)"
   ]
  },
  {
   "cell_type": "code",
   "execution_count": 114,
   "metadata": {
    "collapsed": true
   },
   "outputs": [],
   "source": [
    "#keep necessary features\n",
    "test_df = test_df_raw[['rating','unixReviewTime','outOf', 'reviewWords','summaryCwords','ratiosuWords','suexcqueMarks', 'numreviewPro','numReviews']]"
   ]
  },
  {
   "cell_type": "markdown",
   "metadata": {},
   "source": [
    "## Data exploratory"
   ]
  },
  {
   "cell_type": "code",
   "execution_count": 368,
   "metadata": {
    "collapsed": true
   },
   "outputs": [],
   "source": [
    "Helpratio = list(filter_dfpru['Helpratio'])\n",
    "Rate = list(filter_dfpru3['rating'])\n",
    "Time = list(filter_dfpru3['unixReviewTime'])\n",
    "OutOf = list(filter_dfpru3['outOf'])\n",
    "reviewWords = list(filter_dfpru3['reviewWords'])\n",
    "summaryCwords = list(filter_dfpru3['summaryCwords'])\n",
    "ratiosuWords = list(filter_dfpru3['ratiosuWords'])\n",
    "suexcqueMarks = list(filter_dfpru3['suexcqueMarks'])\n",
    "numreviewPro = list(filter_dfpru3['numreviewPro'])\n",
    "numReviews = list(filter_dfpru3['numReviews'])"
   ]
  },
  {
   "cell_type": "code",
   "execution_count": 370,
   "metadata": {},
   "outputs": [
    {
     "data": {
      "image/png": "[encoded data removed]",
      "text/plain": [
       "<matplotlib.figure.Figure at 0x12e21c940>"
      ]
     },
     "metadata": {},
     "output_type": "display_data"
    },
    {
     "name": "stdout",
     "output_type": "stream",
     "text": [
      "[[ 1.          0.24981571]\n",
      " [ 0.24981571  1.        ]]\n"
     ]
    }
   ],
   "source": [
    "import matplotlib.pyplot as plt\n",
    "x = Rate\n",
    "y = Helpratio\n",
    "fig, ax = plt.subplots()\n",
    "ax.scatter(x,y)\n",
    "ax.set_title('Helpratio and Rate')\n",
    "ax.set_xlabel('Rate')\n",
    "ax.set_ylabel(\"Helpratio\")\n",
    "plt.show()\n",
    "print (np.corrcoef(x,Helpratio))"
   ]
  },
  {
   "cell_type": "code",
   "execution_count": 371,
   "metadata": {},
   "outputs": [
    {
     "data": {
      "image/png": "[encoded data removed]",
      "text/plain": [
       "<matplotlib.figure.Figure at 0x1309f0e48>"
      ]
     },
     "metadata": {},
     "output_type": "display_data"
    },
    {
     "name": "stdout",
     "output_type": "stream",
     "text": [
      "[[ 1.         -0.02818985]\n",
      " [-0.02818985  1.        ]]\n"
     ]
    }
   ],
   "source": [
    "x = Time\n",
    "y = Helpratio\n",
    "fig, ax = plt.subplots()\n",
    "ax.scatter(x,y)\n",
    "ax.set_title('Helpratio and Delay Time')\n",
    "ax.set_xlabel('Delay Time')\n",
    "ax.set_ylabel(\"Helpratio\")\n",
    "plt.show()\n",
    "print (np.corrcoef(x,Helpratio))"
   ]
  },
  {
   "cell_type": "code",
   "execution_count": 372,
   "metadata": {},
   "outputs": [
    {
     "data": {
      "image/png": "[encoded data removed]",
      "text/plain": [
       "<matplotlib.figure.Figure at 0x131a70780>"
      ]
     },
     "metadata": {},
     "output_type": "display_data"
    },
    {
     "name": "stdout",
     "output_type": "stream",
     "text": [
      "[[ 1.          0.11865756]\n",
      " [ 0.11865756  1.        ]]\n"
     ]
    }
   ],
   "source": [
    "x = OutOf\n",
    "y = Helpratio\n",
    "fig, ax = plt.subplots()\n",
    "ax.scatter(x,y)\n",
    "ax.set_title('Helpratio and OutOf')\n",
    "ax.set_xlabel('Total Votes for Review')\n",
    "ax.set_ylabel(\"Helpratio\")\n",
    "plt.show()\n",
    "print (np.corrcoef(x,Helpratio))"
   ]
  },
  {
   "cell_type": "code",
   "execution_count": 373,
   "metadata": {},
   "outputs": [
    {
     "data": {
      "image/png": "[encoded data removed]",
      "text/plain": [
       "<matplotlib.figure.Figure at 0x1318cdb38>"
      ]
     },
     "metadata": {},
     "output_type": "display_data"
    },
    {
     "name": "stdout",
     "output_type": "stream",
     "text": [
      "[[ 1.          0.04613624]\n",
      " [ 0.04613624  1.        ]]\n"
     ]
    }
   ],
   "source": [
    "x = reviewWords\n",
    "y = Helpratio\n",
    "fig, ax = plt.subplots()\n",
    "ax.scatter(x,y)\n",
    "ax.set_title('Helpratio and number of words in review')\n",
    "ax.set_xlabel('Number of Words in Review')\n",
    "ax.set_ylabel(\"Helpratio\")\n",
    "plt.show()\n",
    "print (np.corrcoef(x,Helpratio))"
   ]
  },
  {
   "cell_type": "code",
   "execution_count": 374,
   "metadata": {},
   "outputs": [
    {
     "data": {
      "image/png": "[encoded data removed]",
      "text/plain": [
       "<matplotlib.figure.Figure at 0x130db4390>"
      ]
     },
     "metadata": {},
     "output_type": "display_data"
    },
    {
     "name": "stdout",
     "output_type": "stream",
     "text": [
      "[[ 1.         -0.03675297]\n",
      " [-0.03675297  1.        ]]\n"
     ]
    }
   ],
   "source": [
    "x = summaryCwords\n",
    "y = Helpratio\n",
    "fig, ax = plt.subplots()\n",
    "ax.scatter(x,y)\n",
    "ax.set_title('Helpratio and number of capital words in summary')\n",
    "ax.set_xlabel('Number of Capital Words in Summary')\n",
    "ax.set_ylabel(\"Helpratio\")\n",
    "plt.show()\n",
    "print (np.corrcoef(x,Helpratio))"
   ]
  },
  {
   "cell_type": "code",
   "execution_count": 376,
   "metadata": {},
   "outputs": [
    {
     "data": {
      "image/png": "[encoded data removed]",
      "text/plain": [
       "<matplotlib.figure.Figure at 0x1324da358>"
      ]
     },
     "metadata": {},
     "output_type": "display_data"
    },
    {
     "name": "stdout",
     "output_type": "stream",
     "text": [
      "[[ 1.         -0.05560523]\n",
      " [-0.05560523  1.        ]]\n"
     ]
    }
   ],
   "source": [
    "x = ratiosuWords\n",
    "y = Helpratio\n",
    "fig, ax = plt.subplots()\n",
    "ax.scatter(x,y)\n",
    "ax.set_title('Helpratio and ratio of summary words to review text words')\n",
    "ax.set_xlabel('Ratio of summary words to review text words')\n",
    "ax.set_ylabel(\"Helpratio\")\n",
    "plt.show()\n",
    "print (np.corrcoef(x,Helpratio))"
   ]
  },
  {
   "cell_type": "code",
   "execution_count": 377,
   "metadata": {},
   "outputs": [
    {
     "data": {
      "image/png": "[encoded data removed]",
      "text/plain": [
       "<matplotlib.figure.Figure at 0x132a1b358>"
      ]
     },
     "metadata": {},
     "output_type": "display_data"
    },
    {
     "name": "stdout",
     "output_type": "stream",
     "text": [
      "[[ 1.          0.02723845]\n",
      " [ 0.02723845  1.        ]]\n"
     ]
    }
   ],
   "source": [
    "x = suexcqueMarks\n",
    "y = Helpratio\n",
    "fig, ax = plt.subplots()\n",
    "ax.scatter(x,y)\n",
    "ax.set_title('Helpratio and number of exclimation and quesiton marks in summary')\n",
    "ax.set_xlabel('Number of Exclimation and Question Marks in Summary')\n",
    "ax.set_ylabel(\"Helpratio\")\n",
    "plt.show()\n",
    "print (np.corrcoef(x,Helpratio))"
   ]
  },
  {
   "cell_type": "code",
   "execution_count": 378,
   "metadata": {
    "scrolled": false
   },
   "outputs": [
    {
     "data": {
      "image/png": "[encoded data removed]",
      "text/plain": [
       "<matplotlib.figure.Figure at 0x132a4c518>"
      ]
     },
     "metadata": {},
     "output_type": "display_data"
    },
    {
     "name": "stdout",
     "output_type": "stream",
     "text": [
      "[[ 1.         -0.06277088]\n",
      " [-0.06277088  1.        ]]\n"
     ]
    }
   ],
   "source": [
    "x = numreviewPro\n",
    "y = Helpratio\n",
    "fig, ax = plt.subplots()\n",
    "ax.scatter(x,y)\n",
    "ax.set_title('Helpratio and number of reviews for each product')\n",
    "ax.set_xlabel('Number of Reviews per Product')\n",
    "ax.set_ylabel(\"Helpratio\")\n",
    "plt.show()\n",
    "print (np.corrcoef(x,Helpratio))"
   ]
  },
  {
   "cell_type": "code",
   "execution_count": 379,
   "metadata": {
    "scrolled": false
   },
   "outputs": [
    {
     "data": {
      "image/png": "[encoded data removed]",
      "text/plain": [
       "<matplotlib.figure.Figure at 0x132e2e6d8>"
      ]
     },
     "metadata": {},
     "output_type": "display_data"
    },
    {
     "name": "stdout",
     "output_type": "stream",
     "text": [
      "[[ 1.          0.03134622]\n",
      " [ 0.03134622  1.        ]]\n"
     ]
    }
   ],
   "source": [
    "x = numReviews\n",
    "y = Helpratio\n",
    "fig, ax = plt.subplots()\n",
    "ax.scatter(x,y)\n",
    "ax.set_title('Helpratio and number of reviews per reviewer')\n",
    "ax.set_xlabel('Number of Reviews per Reviewer')\n",
    "ax.set_ylabel(\"Helpratio\")\n",
    "plt.show()\n",
    "print (np.corrcoef(x,Helpratio))"
   ]
  },
  {
   "cell_type": "markdown",
   "metadata": {},
   "source": [
    "## Classify test data"
   ]
  },
  {
   "cell_type": "code",
   "execution_count": 115,
   "metadata": {
    "collapsed": true
   },
   "outputs": [],
   "source": [
    "from sklearn.model_selection import train_test_split\n",
    "X = filter_dfpru3\n",
    "y = filter_df['Helpgroup']\n",
    "X_train, X_val, y_train, y_val = train_test_split(X, y, test_size=.2, random_state=42)"
   ]
  },
  {
   "cell_type": "code",
   "execution_count": 116,
   "metadata": {},
   "outputs": [
    {
     "data": {
      "text/plain": [
       "63013"
      ]
     },
     "execution_count": 116,
     "metadata": {},
     "output_type": "execute_result"
    }
   ],
   "source": [
    "len(X)"
   ]
  },
  {
   "cell_type": "code",
   "execution_count": 117,
   "metadata": {},
   "outputs": [
    {
     "name": "stdout",
     "output_type": "stream",
     "text": [
      "OrderedDict([(0, 6388), (1, 44022)])\n"
     ]
    }
   ],
   "source": [
    "import collections\n",
    "lab_count1=dict(collections.Counter(y_train))\n",
    "lab_count = collections.OrderedDict(sorted(lab_count1.items()))\n",
    "print (lab_count)"
   ]
  },
  {
   "cell_type": "code",
   "execution_count": 118,
   "metadata": {},
   "outputs": [
    {
     "data": {
      "text/plain": [
       "0.03300808879538612"
      ]
     },
     "execution_count": 118,
     "metadata": {},
     "output_type": "execute_result"
    }
   ],
   "source": [
    "910/(910+26659)"
   ]
  },
  {
   "cell_type": "code",
   "execution_count": 119,
   "metadata": {},
   "outputs": [
    {
     "name": "stdout",
     "output_type": "stream",
     "text": [
      "0.13139728636\n"
     ]
    }
   ],
   "source": [
    "from sklearn.metrics import mean_absolute_error\n",
    "from sklearn.linear_model import LogisticRegression\n",
    "clf = LogisticRegression()\n",
    "clf.fit(X_train, y_train, sample_weight=np.array([1 if r==0 else 1 for r in y_train]))\n",
    "prediction_log = clf.predict(X_val)\n",
    "print (mean_absolute_error(y_val, prediction_log))"
   ]
  },
  {
   "cell_type": "code",
   "execution_count": 120,
   "metadata": {},
   "outputs": [
    {
     "name": "stdout",
     "output_type": "stream",
     "text": [
      "0 0.0\n"
     ]
    }
   ],
   "source": [
    "j = 0\n",
    "for i in prediction_log:\n",
    "    if i == 0:\n",
    "        j += 1\n",
    "b = j / (X_val.shape[0])\n",
    "print (j, b)"
   ]
  },
  {
   "cell_type": "code",
   "execution_count": 121,
   "metadata": {},
   "outputs": [
    {
     "name": "stdout",
     "output_type": "stream",
     "text": [
      "0.640879155757\n"
     ]
    }
   ],
   "source": [
    "from sklearn.linear_model import Perceptron\n",
    "clf = Perceptron()\n",
    "clf.fit(X_train, y_train, sample_weight=np.array([1 if r==0 else 1 for r in y_train]))\n",
    "prediction_per = clf.predict(X_val)\n",
    "print (mean_absolute_error(y_val, prediction_per))"
   ]
  },
  {
   "cell_type": "code",
   "execution_count": 122,
   "metadata": {},
   "outputs": [
    {
     "name": "stdout",
     "output_type": "stream",
     "text": [
      "9029 0.7164167261763073\n"
     ]
    }
   ],
   "source": [
    "j = 0\n",
    "for i in prediction_per:\n",
    "    if i == 0:\n",
    "        j += 1\n",
    "b = j / (X_val.shape[0])\n",
    "print (j, b)"
   ]
  },
  {
   "cell_type": "code",
   "execution_count": 123,
   "metadata": {},
   "outputs": [
    {
     "name": "stdout",
     "output_type": "stream",
     "text": [
      "0.131873363485\n"
     ]
    }
   ],
   "source": [
    "from sklearn.tree import DecisionTreeClassifier\n",
    "clf = DecisionTreeClassifier(max_depth=5)\n",
    "clf.fit(X_train, y_train, sample_weight=np.array([1 if r==0 else 1 for r in y_train]))\n",
    "prediction_dec = clf.predict(X_val)\n",
    "print (mean_absolute_error(y_val, prediction_dec))"
   ]
  },
  {
   "cell_type": "code",
   "execution_count": 124,
   "metadata": {},
   "outputs": [
    {
     "name": "stdout",
     "output_type": "stream",
     "text": [
      "38 0.003015155121796398\n"
     ]
    }
   ],
   "source": [
    "j = 0\n",
    "for i in prediction_dec:\n",
    "    if i == 0:\n",
    "        j += 1\n",
    "b = j / (X_val.shape[0])\n",
    "print (j, b)"
   ]
  },
  {
   "cell_type": "code",
   "execution_count": 125,
   "metadata": {},
   "outputs": [
    {
     "name": "stdout",
     "output_type": "stream",
     "text": [
      "0.13139728636\n"
     ]
    }
   ],
   "source": [
    "from sklearn.ensemble import RandomForestClassifier\n",
    "clf = RandomForestClassifier(max_depth=5)\n",
    "clf.fit(X_train, y_train, sample_weight=np.array([1 if r==0 else 1 for r in y_train]))\n",
    "prediction_ran = clf.predict(X_val)\n",
    "print (mean_absolute_error(y_val, prediction_ran))"
   ]
  },
  {
   "cell_type": "code",
   "execution_count": 126,
   "metadata": {},
   "outputs": [
    {
     "name": "stdout",
     "output_type": "stream",
     "text": [
      "0 0.0\n"
     ]
    }
   ],
   "source": [
    "j = 0\n",
    "for i in prediction_ran:\n",
    "    if i == 0:\n",
    "        j += 1\n",
    "b = j / (X_val.shape[0])\n",
    "print (j, b)"
   ]
  },
  {
   "cell_type": "code",
   "execution_count": 127,
   "metadata": {},
   "outputs": [
    {
     "name": "stdout",
     "output_type": "stream",
     "text": [
      "0.135443941919\n"
     ]
    }
   ],
   "source": [
    "from sklearn.ensemble import AdaBoostClassifier\n",
    "clf = AdaBoostClassifier()\n",
    "clf.fit(X_train, y_train, sample_weight=np.array([1 if r==0 else 1 for r in y_train]))\n",
    "#prediction_test = clf.predict(X_test_counts)\n",
    "prediction_ada = clf.predict(X_val)\n",
    "print (mean_absolute_error(y_val, prediction_ada))"
   ]
  },
  {
   "cell_type": "code",
   "execution_count": 128,
   "metadata": {},
   "outputs": [
    {
     "name": "stdout",
     "output_type": "stream",
     "text": [
      "237 0.01880504641751964\n"
     ]
    }
   ],
   "source": [
    "j = 0\n",
    "for i in prediction_ada:\n",
    "    if i == 0:\n",
    "        j += 1\n",
    "b = j / (X_val.shape[0])\n",
    "print (j, b)"
   ]
  },
  {
   "cell_type": "markdown",
   "metadata": {},
   "source": [
    "### Use RandomFroest model to classify test data into 1 or 0 class"
   ]
  },
  {
   "cell_type": "code",
   "execution_count": 129,
   "metadata": {
    "collapsed": true
   },
   "outputs": [],
   "source": [
    "clf = RandomForestClassifier(max_depth=5)\n",
    "clf.fit(X_train, y_train, sample_weight=np.array([1 if r==0 else 1 for r in y_train]))\n",
    "prediction_ran = clf.predict(test_df)"
   ]
  },
  {
   "cell_type": "code",
   "execution_count": 130,
   "metadata": {
    "collapsed": true
   },
   "outputs": [],
   "source": [
    "test_df_raw['Helpgroup'] = list(prediction_ran)"
   ]
  },
  {
   "cell_type": "code",
   "execution_count": 131,
   "metadata": {},
   "outputs": [
    {
     "data": {
      "text/html": [
       "<div>\n",
       "<table border=\"1\" class=\"dataframe\">\n",
       "  <thead>\n",
       "    <tr style=\"text-align: right;\">\n",
       "      <th></th>\n",
       "      <th>categoryID</th>\n",
       "      <th>categories</th>\n",
       "      <th>itemID</th>\n",
       "      <th>reviewerID</th>\n",
       "      <th>rating</th>\n",
       "      <th>reviewText</th>\n",
       "      <th>reviewHash</th>\n",
       "      <th>reviewTime</th>\n",
       "      <th>summary</th>\n",
       "      <th>unixReviewTime</th>\n",
       "      <th>...</th>\n",
       "      <th>ratiopunChar</th>\n",
       "      <th>reviewCwords</th>\n",
       "      <th>ratioCwords</th>\n",
       "      <th>summaryCwords</th>\n",
       "      <th>suratioCwords</th>\n",
       "      <th>reexcqueMarks</th>\n",
       "      <th>suexcqueMarks</th>\n",
       "      <th>numreviewPro</th>\n",
       "      <th>numReviews</th>\n",
       "      <th>Helpgroup</th>\n",
       "    </tr>\n",
       "  </thead>\n",
       "  <tbody>\n",
       "    <tr>\n",
       "      <th>0</th>\n",
       "      <td>0</td>\n",
       "      <td>[[Sports &amp; Outdoors, Other Sports, Dance, Clot...</td>\n",
       "      <td>I520932398</td>\n",
       "      <td>U816789534</td>\n",
       "      <td>3.0</td>\n",
       "      <td>I ordered according to the size chart but it's...</td>\n",
       "      <td>R157684793</td>\n",
       "      <td>07 15, 2011</td>\n",
       "      <td>Too small</td>\n",
       "      <td>0.0</td>\n",
       "      <td>...</td>\n",
       "      <td>0.043103</td>\n",
       "      <td>1</td>\n",
       "      <td>0.037037</td>\n",
       "      <td>0</td>\n",
       "      <td>0.0</td>\n",
       "      <td>0</td>\n",
       "      <td>0</td>\n",
       "      <td>2</td>\n",
       "      <td>1</td>\n",
       "      <td>1</td>\n",
       "    </tr>\n",
       "  </tbody>\n",
       "</table>\n",
       "<p>1 rows × 32 columns</p>\n",
       "</div>"
      ],
      "text/plain": [
       "   categoryID                                         categories      itemID  \\\n",
       "0           0  [[Sports & Outdoors, Other Sports, Dance, Clot...  I520932398   \n",
       "\n",
       "   reviewerID  rating                                         reviewText  \\\n",
       "0  U816789534     3.0  I ordered according to the size chart but it's...   \n",
       "\n",
       "   reviewHash   reviewTime    summary  unixReviewTime    ...     ratiopunChar  \\\n",
       "0  R157684793  07 15, 2011  Too small             0.0    ...         0.043103   \n",
       "\n",
       "   reviewCwords  ratioCwords  summaryCwords  suratioCwords  reexcqueMarks  \\\n",
       "0             1     0.037037              0            0.0              0   \n",
       "\n",
       "   suexcqueMarks  numreviewPro  numReviews  Helpgroup  \n",
       "0              0             2           1          1  \n",
       "\n",
       "[1 rows x 32 columns]"
      ]
     },
     "execution_count": 131,
     "metadata": {},
     "output_type": "execute_result"
    }
   ],
   "source": [
    "test_df_raw.head(1)"
   ]
  },
  {
   "cell_type": "code",
   "execution_count": 132,
   "metadata": {},
   "outputs": [
    {
     "name": "stdout",
     "output_type": "stream",
     "text": [
      "237 0.016928571428571428\n"
     ]
    }
   ],
   "source": [
    "j = 0\n",
    "for i in prediction_ada:\n",
    "    if i != 1:\n",
    "        j += 1\n",
    "b = j / (test_df.shape[0])\n",
    "print (j, b)"
   ]
  },
  {
   "cell_type": "markdown",
   "metadata": {},
   "source": [
    "## Predict test data Helpratio"
   ]
  },
  {
   "cell_type": "markdown",
   "metadata": {},
   "source": [
    "### According to the class sperate dataframe into two dataframes"
   ]
  },
  {
   "cell_type": "code",
   "execution_count": 133,
   "metadata": {
    "collapsed": true
   },
   "outputs": [],
   "source": [
    "def replace(group):\n",
    "    mean, std = group.mean(), group.std()\n",
    "    outliers = (group - mean).abs() > 5*std\n",
    "    group[outliers] = nan        # or \"group[~outliers].mean()\"\n",
    "    return group"
   ]
  },
  {
   "cell_type": "code",
   "execution_count": 134,
   "metadata": {
    "collapsed": true
   },
   "outputs": [],
   "source": [
    "class0_filter = np.where(filter_dfpru['Helpgroup'] == 0)\n",
    "class0_filter = list(class0_filter[0])\n",
    "class0_df = filter_dfpru3.iloc[class0_filter,:]\n",
    "y0 = filter_dfpru['Helpratio'].iloc[class0_filter]\n",
    "X0 = class0_df.reset_index(drop=True)\n",
    "y0 = y0.reset_index(drop=True)"
   ]
  },
  {
   "cell_type": "code",
   "execution_count": 135,
   "metadata": {
    "collapsed": true
   },
   "outputs": [],
   "source": [
    "X0_fi = pd.concat([X0, y0], axis = 1)"
   ]
  },
  {
   "cell_type": "code",
   "execution_count": 136,
   "metadata": {},
   "outputs": [
    {
     "name": "stderr",
     "output_type": "stream",
     "text": [
      "/Users/xiasong/anaconda2/envs/py36/lib/python3.6/site-packages/ipykernel/__main__.py:4: SettingWithCopyWarning: \n",
      "A value is trying to be set on a copy of a slice from a DataFrame\n",
      "\n",
      "See the caveats in the documentation: http://pandas.pydata.org/pandas-docs/stable/indexing.html#indexing-view-versus-copy\n"
     ]
    }
   ],
   "source": [
    "for i in X0_fi:\n",
    "    X0_fi[i] = replace(X0_fi[i])"
   ]
  },
  {
   "cell_type": "code",
   "execution_count": 137,
   "metadata": {
    "collapsed": true
   },
   "outputs": [],
   "source": [
    "X0 = X0_fi.dropna()\n",
    "y0 = X0['Helpratio']\n",
    "X0 = X0.drop(['Helpratio'], axis = 1)"
   ]
  },
  {
   "cell_type": "code",
   "execution_count": 138,
   "metadata": {
    "collapsed": true
   },
   "outputs": [],
   "source": [
    "class1_filter = np.where(filter_dfpru['Helpgroup'] == 1)\n",
    "class1_filter = list(class1_filter[0])\n",
    "class1_df = filter_dfpru3.iloc[class1_filter,:]\n",
    "y1 = filter_dfpru['Helpratio'].iloc[class1_filter]\n",
    "X1 = class1_df.reset_index(drop=True)\n",
    "y1 = y1.reset_index(drop=True)"
   ]
  },
  {
   "cell_type": "code",
   "execution_count": 139,
   "metadata": {},
   "outputs": [
    {
     "data": {
      "image/png": "[encoded data removed]",
      "text/plain": [
       "<matplotlib.figure.Figure at 0x12d09eb70>"
      ]
     },
     "metadata": {},
     "output_type": "display_data"
    }
   ],
   "source": [
    "a = list(X1['outOf'])\n",
    "bins = 10\n",
    "plt.hist(a, bins, histtype='bar')\n",
    "plt.show()"
   ]
  },
  {
   "cell_type": "code",
   "execution_count": 140,
   "metadata": {
    "collapsed": true
   },
   "outputs": [],
   "source": [
    "#sperate X1 into two groups\n",
    "X1['Helpratio'] = y1\n",
    "class11_df = X1.loc[X1.outOf >= 300]\n",
    "class12_df = X1.loc[(X1.outOf < 300) & (X1.outOf >= 200)]\n",
    "class13_df = X1.loc[(X1.outOf < 200) & (X1.outOf >= 100)]\n",
    "class14_df = X1.loc[(X1.outOf < 100) & (X1.outOf >= 10)]\n",
    "class15_df = X1.loc[(X1.outOf < 10) & (X1.outOf >= 2)]\n",
    "class16_df = X1.loc[X1.outOf < 2]\n",
    "X11 = class11_df.reset_index(drop=True)\n",
    "X12 = class12_df.reset_index(drop=True)\n",
    "X13 = class13_df.reset_index(drop=True)\n",
    "X14 = class14_df.reset_index(drop=True)\n",
    "X15 = class15_df.reset_index(drop=True)\n",
    "X16 = class16_df.reset_index(drop=True)"
   ]
  },
  {
   "cell_type": "code",
   "execution_count": 141,
   "metadata": {},
   "outputs": [
    {
     "data": {
      "text/plain": [
       "((13, 10), (16, 10), (73, 10), (5159, 10), (28069, 10), (21639, 10))"
      ]
     },
     "execution_count": 141,
     "metadata": {},
     "output_type": "execute_result"
    }
   ],
   "source": [
    "X11.shape, X12.shape,X13.shape,X14.shape,X15.shape,X16.shape"
   ]
  },
  {
   "cell_type": "code",
   "execution_count": 142,
   "metadata": {},
   "outputs": [
    {
     "name": "stderr",
     "output_type": "stream",
     "text": [
      "/Users/xiasong/anaconda2/envs/py36/lib/python3.6/site-packages/ipykernel/__main__.py:4: SettingWithCopyWarning: \n",
      "A value is trying to be set on a copy of a slice from a DataFrame\n",
      "\n",
      "See the caveats in the documentation: http://pandas.pydata.org/pandas-docs/stable/indexing.html#indexing-view-versus-copy\n"
     ]
    }
   ],
   "source": [
    "for i in X11:\n",
    "    X11[i] = replace(X11[i])\n",
    "for i in X12:\n",
    "    X12[i] = replace(X12[i])\n",
    "for i in X13:\n",
    "    X13[i] = replace(X13[i])\n",
    "for i in X14:\n",
    "    X14[i] = replace(X14[i])\n",
    "for i in X15:\n",
    "    X15[i] = replace(X15[i])\n",
    "for i in X16:\n",
    "    X16[i] = replace(X16[i])"
   ]
  },
  {
   "cell_type": "code",
   "execution_count": 143,
   "metadata": {
    "collapsed": true
   },
   "outputs": [],
   "source": [
    "X11 = X11.dropna()\n",
    "X12 = X12.dropna()\n",
    "X13 = X13.dropna()\n",
    "X14 = X14.dropna()\n",
    "X15 = X15.dropna()\n",
    "X16 = X16.dropna()"
   ]
  },
  {
   "cell_type": "code",
   "execution_count": 144,
   "metadata": {
    "collapsed": true
   },
   "outputs": [],
   "source": [
    "y11 = X11['Helpratio']\n",
    "y12 = X12['Helpratio']\n",
    "y13 = X13['Helpratio']\n",
    "y14 = X14['Helpratio']\n",
    "y15 = X15['Helpratio']\n",
    "y16 = X16['Helpratio']\n",
    "X11 = X11.drop(['Helpratio'], axis = 1)\n",
    "X12 = X12.drop(['Helpratio'], axis = 1)\n",
    "X13 = X13.drop(['Helpratio'], axis = 1)\n",
    "X14 = X14.drop(['Helpratio'], axis = 1)\n",
    "X15 = X15.drop(['Helpratio'], axis = 1)\n",
    "X16 = X16.drop(['Helpratio'], axis = 1)"
   ]
  },
  {
   "cell_type": "code",
   "execution_count": 145,
   "metadata": {
    "collapsed": true
   },
   "outputs": [],
   "source": [
    "from sklearn.model_selection import train_test_split\n",
    "X0_train, X0_val, y0_train, y0_val = train_test_split(X0, y0, test_size=.2, random_state=42)\n",
    "X11_train, X11_val, y11_train, y11_val = train_test_split(X11, y11, test_size=.2, random_state=42)\n",
    "X12_train, X12_val, y12_train, y12_val = train_test_split(X12, y12, test_size=.2, random_state=42)\n",
    "X13_train, X13_val, y13_train, y13_val = train_test_split(X13, y13, test_size=.2, random_state=42)\n",
    "X14_train, X14_val, y14_train, y14_val = train_test_split(X14, y14, test_size=.2, random_state=42)\n",
    "X15_train, X15_val, y15_train, y15_val = train_test_split(X15, y15, test_size=.2, random_state=42)\n",
    "X16_train, X16_val, y16_train, y16_val = train_test_split(X16, y16, test_size=.2, random_state=42)"
   ]
  },
  {
   "cell_type": "code",
   "execution_count": 146,
   "metadata": {
    "collapsed": true
   },
   "outputs": [],
   "source": [
    "X0_train_norm = X0_train/ X0_train.max()\n",
    "X0_val_norm = X0_val / X0_val.max()\n",
    "X11_train_norm = X11_train / X11_train.max()\n",
    "X11_val_norm = X11_val/ X11_val.max()\n",
    "X12_train_norm = X12_train / X12_train.max()\n",
    "X12_val_norm = X12_val / X12_val.max()\n",
    "X13_train_norm = X13_train / X13_train.max()\n",
    "X13_val_norm = X13_val / X13_val.max()\n",
    "X14_train_norm = X14_train / X14_train.max()\n",
    "X14_val_norm = X14_val / X14_val.max()\n",
    "X15_train_norm = X15_train / X15_train.max()\n",
    "X15_val_norm = X15_val / X15_val.max()\n",
    "X16_train_norm = X16_train / X16_train.max()\n",
    "X16_val_norm = X16_val / X16_val.max()"
   ]
  },
  {
   "cell_type": "code",
   "execution_count": 147,
   "metadata": {},
   "outputs": [
    {
     "name": "stdout",
     "output_type": "stream",
     "text": [
      "0.0\n"
     ]
    }
   ],
   "source": [
    "import numpy as np\n",
    "X0array = np.c_[X0_train.as_matrix(columns=None), np.ones(len(X0_train))]\n",
    "y0array = y0_train.as_matrix(columns=None)\n",
    "theta0,residuals0,rank0,s0 = np.linalg.lstsq(X0array, y0array)\n",
    "X0valarray = np.c_[X0_val.as_matrix(columns=None), np.ones(len(X0_val))]\n",
    "predictions0 = np.dot(X0valarray, theta0)\n",
    "print (mean_absolute_error(y0_val, predictions0))"
   ]
  },
  {
   "cell_type": "code",
   "execution_count": 148,
   "metadata": {},
   "outputs": [
    {
     "name": "stdout",
     "output_type": "stream",
     "text": [
      "0.129995539118\n"
     ]
    }
   ],
   "source": [
    "X11array = np.c_[X11_train.as_matrix(columns=None), np.ones(len(X11_train))]\n",
    "y11array = y11_train.as_matrix(columns=None)\n",
    "theta11,residuals11,rank11,s11 = np.linalg.lstsq(X11array, y11array)\n",
    "X11valarray = np.c_[X11_val.as_matrix(columns=None), np.ones(len(X11_val))]\n",
    "predictions11 = np.dot(X11valarray, theta11)\n",
    "print (mean_absolute_error(y11_val, predictions11))"
   ]
  },
  {
   "cell_type": "code",
   "execution_count": 149,
   "metadata": {},
   "outputs": [
    {
     "name": "stdout",
     "output_type": "stream",
     "text": [
      "0.226432430781\n"
     ]
    }
   ],
   "source": [
    "X12array = np.c_[X12_train.as_matrix(columns=None), np.ones(len(X12_train))]\n",
    "y12array = y12_train.as_matrix(columns=None)\n",
    "theta12,residuals12,rank12,s12 = np.linalg.lstsq(X12array, y12array)\n",
    "X12valarray = np.c_[X12_val.as_matrix(columns=None), np.ones(len(X12_val))]\n",
    "predictions12 = np.dot(X12valarray, theta12)\n",
    "print (mean_absolute_error(y12_val, predictions12))"
   ]
  },
  {
   "cell_type": "code",
   "execution_count": 150,
   "metadata": {},
   "outputs": [
    {
     "name": "stdout",
     "output_type": "stream",
     "text": [
      "0.044689376475\n"
     ]
    }
   ],
   "source": [
    "X13array = np.c_[X13_train.as_matrix(columns=None), np.ones(len(X13_train))]\n",
    "y13array = y13_train.as_matrix(columns=None)\n",
    "theta13,residuals13,rank13,s13 = np.linalg.lstsq(X13array, y13array)\n",
    "X13valarray = np.c_[X13_val.as_matrix(columns=None), np.ones(len(X13_val))]\n",
    "predictions13 = np.dot(X13valarray, theta13)\n",
    "print (mean_absolute_error(y13_val, predictions13))"
   ]
  },
  {
   "cell_type": "code",
   "execution_count": 151,
   "metadata": {},
   "outputs": [
    {
     "name": "stdout",
     "output_type": "stream",
     "text": [
      "0.0709553559344\n"
     ]
    }
   ],
   "source": [
    "X14array = np.c_[X14_train.as_matrix(columns=None), np.ones(len(X14_train))]\n",
    "y14array = y14_train.as_matrix(columns=None)\n",
    "theta14,residuals14,rank14,s14 = np.linalg.lstsq(X14array, y14array)\n",
    "X14valarray = np.c_[X14_val.as_matrix(columns=None), np.ones(len(X14_val))]\n",
    "predictions14 = np.dot(X14valarray, theta14)\n",
    "print (mean_absolute_error(y14_val, predictions14))"
   ]
  },
  {
   "cell_type": "code",
   "execution_count": 152,
   "metadata": {},
   "outputs": [
    {
     "name": "stdout",
     "output_type": "stream",
     "text": [
      "0.188786668642\n"
     ]
    }
   ],
   "source": [
    "X15array = np.c_[X15_train.as_matrix(columns=None), np.ones(len(X15_train))]\n",
    "y15array = y15_train.as_matrix(columns=None)\n",
    "theta15,residuals15,rank15,s15 = np.linalg.lstsq(X15array, y15array)\n",
    "X15valarray = np.c_[X15_val.as_matrix(columns=None), np.ones(len(X15_val))]\n",
    "predictions15 = np.dot(X15valarray, theta15)\n",
    "print (mean_absolute_error(y15_val, predictions15))"
   ]
  },
  {
   "cell_type": "code",
   "execution_count": 153,
   "metadata": {},
   "outputs": [
    {
     "name": "stdout",
     "output_type": "stream",
     "text": [
      "3.44019915818e-13\n"
     ]
    }
   ],
   "source": [
    "X16array = np.c_[X16_train.as_matrix(columns=None), np.ones(len(X16_train))]\n",
    "y16array = y16_train.as_matrix(columns=None)\n",
    "theta16,residuals16,rank16,s16 = np.linalg.lstsq(X16array, y16array)\n",
    "X16valarray = np.c_[X16_val.as_matrix(columns=None), np.ones(len(X16_val))]\n",
    "predictions16 = np.dot(X16valarray, theta16)\n",
    "print (mean_absolute_error(y16_val, predictions16))"
   ]
  },
  {
   "cell_type": "code",
   "execution_count": 154,
   "metadata": {},
   "outputs": [
    {
     "name": "stdout",
     "output_type": "stream",
     "text": [
      "0.0\n"
     ]
    }
   ],
   "source": [
    "from sklearn.svm import SVR\n",
    "svr_rbf = SVR(kernel='rbf', C=1e3, gamma=0.1)\n",
    "prediction_svr0 = svr_rbf.fit(X0_train_norm, y0_train).predict(X0_val_norm)\n",
    "print (mean_absolute_error(y0_val, prediction_svr0))"
   ]
  },
  {
   "cell_type": "code",
   "execution_count": 155,
   "metadata": {
    "scrolled": true
   },
   "outputs": [
    {
     "ename": "ValueError",
     "evalue": "Input contains NaN, infinity or a value too large for dtype('float64').",
     "output_type": "error",
     "traceback": [
      "\u001b[0;31m---------------------------------------------------------------------------\u001b[0m",
      "\u001b[0;31mValueError\u001b[0m                                Traceback (most recent call last)",
      "\u001b[0;32m<ipython-input-155-d963ebad889c>\u001b[0m in \u001b[0;36m<module>\u001b[0;34m()\u001b[0m\n\u001b[1;32m      1\u001b[0m \u001b[0;32mfrom\u001b[0m \u001b[0msklearn\u001b[0m\u001b[0;34m.\u001b[0m\u001b[0msvm\u001b[0m \u001b[0;32mimport\u001b[0m \u001b[0mSVR\u001b[0m\u001b[0;34m\u001b[0m\u001b[0m\n\u001b[1;32m      2\u001b[0m \u001b[0msvr_rbf\u001b[0m \u001b[0;34m=\u001b[0m \u001b[0mSVR\u001b[0m\u001b[0;34m(\u001b[0m\u001b[0mkernel\u001b[0m\u001b[0;34m=\u001b[0m\u001b[0;34m'rbf'\u001b[0m\u001b[0;34m,\u001b[0m \u001b[0mC\u001b[0m\u001b[0;34m=\u001b[0m\u001b[0;36m1e3\u001b[0m\u001b[0;34m,\u001b[0m \u001b[0mgamma\u001b[0m\u001b[0;34m=\u001b[0m\u001b[0;36m0.1\u001b[0m\u001b[0;34m)\u001b[0m\u001b[0;34m\u001b[0m\u001b[0m\n\u001b[0;32m----> 3\u001b[0;31m \u001b[0mprediction_svr11\u001b[0m \u001b[0;34m=\u001b[0m \u001b[0msvr_rbf\u001b[0m\u001b[0;34m.\u001b[0m\u001b[0mfit\u001b[0m\u001b[0;34m(\u001b[0m\u001b[0mX11_train_norm\u001b[0m\u001b[0;34m,\u001b[0m \u001b[0my11_train\u001b[0m\u001b[0;34m)\u001b[0m\u001b[0;34m.\u001b[0m\u001b[0mpredict\u001b[0m\u001b[0;34m(\u001b[0m\u001b[0mX11_val_norm\u001b[0m\u001b[0;34m)\u001b[0m\u001b[0;34m\u001b[0m\u001b[0m\n\u001b[0m\u001b[1;32m      4\u001b[0m \u001b[0mprint\u001b[0m \u001b[0;34m(\u001b[0m\u001b[0mmean_absolute_error\u001b[0m\u001b[0;34m(\u001b[0m\u001b[0my11_val\u001b[0m\u001b[0;34m,\u001b[0m \u001b[0mprediction_svr11\u001b[0m\u001b[0;34m)\u001b[0m\u001b[0;34m)\u001b[0m\u001b[0;34m\u001b[0m\u001b[0m\n",
      "\u001b[0;32m/Users/xiasong/anaconda2/envs/py36/lib/python3.6/site-packages/sklearn/svm/base.py\u001b[0m in \u001b[0;36mpredict\u001b[0;34m(self, X)\u001b[0m\n\u001b[1;32m    308\u001b[0m         \u001b[0my_pred\u001b[0m \u001b[0;34m:\u001b[0m \u001b[0marray\u001b[0m\u001b[0;34m,\u001b[0m \u001b[0mshape\u001b[0m \u001b[0;34m(\u001b[0m\u001b[0mn_samples\u001b[0m\u001b[0;34m,\u001b[0m\u001b[0;34m)\u001b[0m\u001b[0;34m\u001b[0m\u001b[0m\n\u001b[1;32m    309\u001b[0m         \"\"\"\n\u001b[0;32m--> 310\u001b[0;31m         \u001b[0mX\u001b[0m \u001b[0;34m=\u001b[0m \u001b[0mself\u001b[0m\u001b[0;34m.\u001b[0m\u001b[0m_validate_for_predict\u001b[0m\u001b[0;34m(\u001b[0m\u001b[0mX\u001b[0m\u001b[0;34m)\u001b[0m\u001b[0;34m\u001b[0m\u001b[0m\n\u001b[0m\u001b[1;32m    311\u001b[0m         \u001b[0mpredict\u001b[0m \u001b[0;34m=\u001b[0m \u001b[0mself\u001b[0m\u001b[0;34m.\u001b[0m\u001b[0m_sparse_predict\u001b[0m \u001b[0;32mif\u001b[0m \u001b[0mself\u001b[0m\u001b[0;34m.\u001b[0m\u001b[0m_sparse\u001b[0m \u001b[0;32melse\u001b[0m \u001b[0mself\u001b[0m\u001b[0;34m.\u001b[0m\u001b[0m_dense_predict\u001b[0m\u001b[0;34m\u001b[0m\u001b[0m\n\u001b[1;32m    312\u001b[0m         \u001b[0;32mreturn\u001b[0m \u001b[0mpredict\u001b[0m\u001b[0;34m(\u001b[0m\u001b[0mX\u001b[0m\u001b[0;34m)\u001b[0m\u001b[0;34m\u001b[0m\u001b[0m\n",
      "\u001b[0;32m/Users/xiasong/anaconda2/envs/py36/lib/python3.6/site-packages/sklearn/svm/base.py\u001b[0m in \u001b[0;36m_validate_for_predict\u001b[0;34m(self, X)\u001b[0m\n\u001b[1;32m    457\u001b[0m         \u001b[0mcheck_is_fitted\u001b[0m\u001b[0;34m(\u001b[0m\u001b[0mself\u001b[0m\u001b[0;34m,\u001b[0m \u001b[0;34m'support_'\u001b[0m\u001b[0;34m)\u001b[0m\u001b[0;34m\u001b[0m\u001b[0m\n\u001b[1;32m    458\u001b[0m \u001b[0;34m\u001b[0m\u001b[0m\n\u001b[0;32m--> 459\u001b[0;31m         \u001b[0mX\u001b[0m \u001b[0;34m=\u001b[0m \u001b[0mcheck_array\u001b[0m\u001b[0;34m(\u001b[0m\u001b[0mX\u001b[0m\u001b[0;34m,\u001b[0m \u001b[0maccept_sparse\u001b[0m\u001b[0;34m=\u001b[0m\u001b[0;34m'csr'\u001b[0m\u001b[0;34m,\u001b[0m \u001b[0mdtype\u001b[0m\u001b[0;34m=\u001b[0m\u001b[0mnp\u001b[0m\u001b[0;34m.\u001b[0m\u001b[0mfloat64\u001b[0m\u001b[0;34m,\u001b[0m \u001b[0morder\u001b[0m\u001b[0;34m=\u001b[0m\u001b[0;34m\"C\"\u001b[0m\u001b[0;34m)\u001b[0m\u001b[0;34m\u001b[0m\u001b[0m\n\u001b[0m\u001b[1;32m    460\u001b[0m         \u001b[0;32mif\u001b[0m \u001b[0mself\u001b[0m\u001b[0;34m.\u001b[0m\u001b[0m_sparse\u001b[0m \u001b[0;32mand\u001b[0m \u001b[0;32mnot\u001b[0m \u001b[0msp\u001b[0m\u001b[0;34m.\u001b[0m\u001b[0misspmatrix\u001b[0m\u001b[0;34m(\u001b[0m\u001b[0mX\u001b[0m\u001b[0;34m)\u001b[0m\u001b[0;34m:\u001b[0m\u001b[0;34m\u001b[0m\u001b[0m\n\u001b[1;32m    461\u001b[0m             \u001b[0mX\u001b[0m \u001b[0;34m=\u001b[0m \u001b[0msp\u001b[0m\u001b[0;34m.\u001b[0m\u001b[0mcsr_matrix\u001b[0m\u001b[0;34m(\u001b[0m\u001b[0mX\u001b[0m\u001b[0;34m)\u001b[0m\u001b[0;34m\u001b[0m\u001b[0m\n",
      "\u001b[0;32m/Users/xiasong/anaconda2/envs/py36/lib/python3.6/site-packages/sklearn/utils/validation.py\u001b[0m in \u001b[0;36mcheck_array\u001b[0;34m(array, accept_sparse, dtype, order, copy, force_all_finite, ensure_2d, allow_nd, ensure_min_samples, ensure_min_features, warn_on_dtype, estimator)\u001b[0m\n\u001b[1;32m    405\u001b[0m                              % (array.ndim, estimator_name))\n\u001b[1;32m    406\u001b[0m         \u001b[0;32mif\u001b[0m \u001b[0mforce_all_finite\u001b[0m\u001b[0;34m:\u001b[0m\u001b[0;34m\u001b[0m\u001b[0m\n\u001b[0;32m--> 407\u001b[0;31m             \u001b[0m_assert_all_finite\u001b[0m\u001b[0;34m(\u001b[0m\u001b[0marray\u001b[0m\u001b[0;34m)\u001b[0m\u001b[0;34m\u001b[0m\u001b[0m\n\u001b[0m\u001b[1;32m    408\u001b[0m \u001b[0;34m\u001b[0m\u001b[0m\n\u001b[1;32m    409\u001b[0m     \u001b[0mshape_repr\u001b[0m \u001b[0;34m=\u001b[0m \u001b[0m_shape_repr\u001b[0m\u001b[0;34m(\u001b[0m\u001b[0marray\u001b[0m\u001b[0;34m.\u001b[0m\u001b[0mshape\u001b[0m\u001b[0;34m)\u001b[0m\u001b[0;34m\u001b[0m\u001b[0m\n",
      "\u001b[0;32m/Users/xiasong/anaconda2/envs/py36/lib/python3.6/site-packages/sklearn/utils/validation.py\u001b[0m in \u001b[0;36m_assert_all_finite\u001b[0;34m(X)\u001b[0m\n\u001b[1;32m     56\u001b[0m             and not np.isfinite(X).all()):\n\u001b[1;32m     57\u001b[0m         raise ValueError(\"Input contains NaN, infinity\"\n\u001b[0;32m---> 58\u001b[0;31m                          \" or a value too large for %r.\" % X.dtype)\n\u001b[0m\u001b[1;32m     59\u001b[0m \u001b[0;34m\u001b[0m\u001b[0m\n\u001b[1;32m     60\u001b[0m \u001b[0;34m\u001b[0m\u001b[0m\n",
      "\u001b[0;31mValueError\u001b[0m: Input contains NaN, infinity or a value too large for dtype('float64')."
     ]
    }
   ],
   "source": [
    "from sklearn.svm import SVR\n",
    "svr_rbf = SVR(kernel='rbf', C=1e3, gamma=0.1)\n",
    "prediction_svr11 = svr_rbf.fit(X11_train_norm, y11_train).predict(X11_val_norm)\n",
    "print (mean_absolute_error(y11_val, prediction_svr11))"
   ]
  },
  {
   "cell_type": "code",
   "execution_count": 156,
   "metadata": {
    "scrolled": true
   },
   "outputs": [
    {
     "name": "stdout",
     "output_type": "stream",
     "text": [
      "0.0482282817161\n"
     ]
    }
   ],
   "source": [
    "from sklearn.svm import SVR\n",
    "svr_rbf = SVR(kernel='rbf', C=1e3, gamma=0.1)\n",
    "prediction_svr12 = svr_rbf.fit(X12_train_norm, y12_train).predict(X12_val_norm)\n",
    "print (mean_absolute_error(y12_val, prediction_svr12))"
   ]
  },
  {
   "cell_type": "code",
   "execution_count": 157,
   "metadata": {
    "scrolled": true
   },
   "outputs": [
    {
     "name": "stdout",
     "output_type": "stream",
     "text": [
      "0.0812692342387\n"
     ]
    }
   ],
   "source": [
    "from sklearn.svm import SVR\n",
    "svr_rbf = SVR(kernel='rbf', C=1e3, gamma=0.1)\n",
    "prediction_svr13 = svr_rbf.fit(X13_train_norm, y13_train).predict(X13_val_norm)\n",
    "print (mean_absolute_error(y13_val, prediction_svr13))"
   ]
  },
  {
   "cell_type": "code",
   "execution_count": 158,
   "metadata": {
    "scrolled": true
   },
   "outputs": [
    {
     "name": "stdout",
     "output_type": "stream",
     "text": [
      "0.0775774837248\n"
     ]
    }
   ],
   "source": [
    "from sklearn.svm import SVR\n",
    "svr_rbf = SVR(kernel='rbf', C=1e3, gamma=0.1)\n",
    "prediction_svr14 = svr_rbf.fit(X14_train_norm, y14_train).predict(X14_val_norm)\n",
    "print (mean_absolute_error(y14_val, prediction_svr14))"
   ]
  },
  {
   "cell_type": "code",
   "execution_count": 159,
   "metadata": {
    "scrolled": true
   },
   "outputs": [
    {
     "name": "stdout",
     "output_type": "stream",
     "text": [
      "0.182454681581\n"
     ]
    }
   ],
   "source": [
    "from sklearn.svm import SVR\n",
    "svr_rbf = SVR(kernel='rbf', C=1e3, gamma=0.1)\n",
    "prediction_svr15 = svr_rbf.fit(X15_train_norm, y15_train).predict(X15_val_norm)\n",
    "print (mean_absolute_error(y15_val, prediction_svr15))"
   ]
  },
  {
   "cell_type": "code",
   "execution_count": 160,
   "metadata": {
    "scrolled": true
   },
   "outputs": [
    {
     "name": "stdout",
     "output_type": "stream",
     "text": [
      "0.0\n"
     ]
    }
   ],
   "source": [
    "from sklearn.svm import SVR\n",
    "svr_rbf = SVR(kernel='rbf', C=1e3, gamma=0.1)\n",
    "prediction_svr16 = svr_rbf.fit(X16_train_norm, y16_train).predict(X16_val_norm)\n",
    "print (mean_absolute_error(y16_val, prediction_svr16))"
   ]
  },
  {
   "cell_type": "markdown",
   "metadata": {},
   "source": [
    "### Using linear algorithm to predict Helpratio of test data"
   ]
  },
  {
   "cell_type": "code",
   "execution_count": 161,
   "metadata": {
    "scrolled": true
   },
   "outputs": [
    {
     "name": "stderr",
     "output_type": "stream",
     "text": [
      "/Users/xiasong/anaconda2/envs/py36/lib/python3.6/site-packages/ipykernel/__main__.py:2: SettingWithCopyWarning: \n",
      "A value is trying to be set on a copy of a slice from a DataFrame.\n",
      "Try using .loc[row_indexer,col_indexer] = value instead\n",
      "\n",
      "See the caveats in the documentation: http://pandas.pydata.org/pandas-docs/stable/indexing.html#indexing-view-versus-copy\n",
      "  from ipykernel import kernelapp as app\n"
     ]
    }
   ],
   "source": [
    "a = list(test_df_raw['Helpgroup'])\n",
    "test_df['Helpgroup'] = a"
   ]
  },
  {
   "cell_type": "code",
   "execution_count": 162,
   "metadata": {
    "collapsed": true
   },
   "outputs": [],
   "source": [
    "test0_df = test_df.loc[test_df.Helpgroup==0]\n",
    "test11_df = test_df.loc[(test_df.Helpgroup == 1) & (test_df.outOf >= 300)]\n",
    "test12_df = test_df.loc[(test_df.Helpgroup == 1) & (test_df.outOf >=200) & (test_df.outOf < 300)]\n",
    "test13_df = test_df.loc[(test_df.Helpgroup == 1) & (test_df.outOf >=100) & (test_df.outOf < 200)]\n",
    "test14_df = test_df.loc[(test_df.Helpgroup == 1) & (test_df.outOf >=10) & (test_df.outOf < 100)]\n",
    "test15_df = test_df.loc[(test_df.Helpgroup == 1) & (test_df.outOf >=2) & (test_df.outOf < 10)]\n",
    "test16_df = test_df.loc[(test_df.Helpgroup == 1) & (test_df.outOf < 2)]"
   ]
  },
  {
   "cell_type": "code",
   "execution_count": 163,
   "metadata": {
    "collapsed": true
   },
   "outputs": [],
   "source": [
    "test0_df = test0_df.drop(['Helpgroup'], axis = 1)\n",
    "test11_df = test11_df.drop(['Helpgroup'], axis = 1)\n",
    "test12_df = test12_df.drop(['Helpgroup'], axis = 1)\n",
    "test13_df = test13_df.drop(['Helpgroup'], axis = 1)\n",
    "test14_df = test14_df.drop(['Helpgroup'], axis = 1)\n",
    "test15_df = test15_df.drop(['Helpgroup'], axis = 1)\n",
    "test16_df = test16_df.drop(['Helpgroup'], axis = 1)"
   ]
  },
  {
   "cell_type": "code",
   "execution_count": 164,
   "metadata": {},
   "outputs": [
    {
     "data": {
      "text/plain": [
       "(360, 9)"
      ]
     },
     "execution_count": 164,
     "metadata": {},
     "output_type": "execute_result"
    }
   ],
   "source": [
    "test14_df.shape"
   ]
  },
  {
   "cell_type": "code",
   "execution_count": 165,
   "metadata": {},
   "outputs": [
    {
     "data": {
      "text/plain": [
       "(6, 9)"
      ]
     },
     "execution_count": 165,
     "metadata": {},
     "output_type": "execute_result"
    }
   ],
   "source": [
    "test0_df.shape"
   ]
  },
  {
   "cell_type": "code",
   "execution_count": 166,
   "metadata": {},
   "outputs": [
    {
     "data": {
      "text/plain": [
       "(7642, 9)"
      ]
     },
     "execution_count": 166,
     "metadata": {},
     "output_type": "execute_result"
    }
   ],
   "source": [
    "X0.shape"
   ]
  },
  {
   "cell_type": "code",
   "execution_count": 167,
   "metadata": {
    "collapsed": true
   },
   "outputs": [],
   "source": [
    "import numpy as np\n",
    "X0array = np.c_[X0.as_matrix(columns=None), np.ones(len(X0))]\n",
    "y0array = y0.as_matrix(columns=None)\n",
    "theta0,residuals0,rank0,s0 = np.linalg.lstsq(X0array, y0array)\n",
    "X0testarray = np.c_[test0_df.as_matrix(columns=None), np.ones(len(test0_df))]\n",
    "predictions0 = np.dot(X0testarray, theta0)"
   ]
  },
  {
   "cell_type": "code",
   "execution_count": 168,
   "metadata": {
    "collapsed": true
   },
   "outputs": [],
   "source": [
    "linpredictions0 = list(predictions0)\n",
    "outOf = list(test0_df['outOf'])\n",
    "linpredictions0 = [a*b for a,b in zip(linpredictions0, outOf)]\n",
    "linpred0 = []\n",
    "for i in linpredictions0:\n",
    "    linpred0.append(round(i))\n",
    "test0_df['predictions'] = linpred0"
   ]
  },
  {
   "cell_type": "code",
   "execution_count": 169,
   "metadata": {
    "collapsed": true
   },
   "outputs": [],
   "source": [
    "X11array = np.c_[X11.as_matrix(columns=None), np.ones(len(X11))]\n",
    "y11array = y11.as_matrix(columns=None)\n",
    "theta11,residuals11,rank11,s11 = np.linalg.lstsq(X11array, y11array)\n",
    "X11testarray = np.c_[test11_df.as_matrix(columns=None), np.ones(len(test11_df))]\n",
    "predictions11 = np.dot(X11testarray, theta11)"
   ]
  },
  {
   "cell_type": "code",
   "execution_count": 170,
   "metadata": {
    "collapsed": true
   },
   "outputs": [],
   "source": [
    "linpredictions11 = list(predictions11)\n",
    "outOf = list(test11_df['outOf'])\n",
    "linpredictions11 = [a*b for a,b in zip(linpredictions11, outOf)]\n",
    "linpred11 = []\n",
    "for i in linpredictions11:\n",
    "    linpred11.append(round(i))\n",
    "test11_df['predictions'] = linpred11"
   ]
  },
  {
   "cell_type": "code",
   "execution_count": 171,
   "metadata": {
    "collapsed": true
   },
   "outputs": [],
   "source": [
    "X12array = np.c_[X12.as_matrix(columns=None), np.ones(len(X12))]\n",
    "y12array = y12.as_matrix(columns=None)\n",
    "theta12,residuals12,rank12,s12 = np.linalg.lstsq(X12array, y12array)\n",
    "X12testarray = np.c_[test12_df.as_matrix(columns=None), np.ones(len(test12_df))]\n",
    "predictions12 = np.dot(X12testarray, theta12)"
   ]
  },
  {
   "cell_type": "code",
   "execution_count": 172,
   "metadata": {
    "collapsed": true
   },
   "outputs": [],
   "source": [
    "linpredictions12 = list(predictions12)\n",
    "outOf = list(test12_df['outOf'])\n",
    "linpredictions12 = [a*b for a,b in zip(linpredictions12, outOf)]\n",
    "linpred12 = []\n",
    "for i in linpredictions12:\n",
    "    linpred12.append(round(i))\n",
    "test12_df['predictions'] = linpred12"
   ]
  },
  {
   "cell_type": "code",
   "execution_count": 173,
   "metadata": {
    "collapsed": true
   },
   "outputs": [],
   "source": [
    "X13array = np.c_[X13.as_matrix(columns=None), np.ones(len(X13))]\n",
    "y13array = y13.as_matrix(columns=None)\n",
    "theta13,residuals13,rank13,s13 = np.linalg.lstsq(X13array, y13array)\n",
    "X13testarray = np.c_[test13_df.as_matrix(columns=None), np.ones(len(test13_df))]\n",
    "predictions13 = np.dot(X13testarray, theta13)"
   ]
  },
  {
   "cell_type": "code",
   "execution_count": 174,
   "metadata": {
    "collapsed": true
   },
   "outputs": [],
   "source": [
    "linpredictions13 = list(predictions13)\n",
    "outOf = list(test13_df['outOf'])\n",
    "linpredictions13 = [a*b for a,b in zip(linpredictions13, outOf)]\n",
    "linpred13 = []\n",
    "for i in linpredictions13:\n",
    "    linpred13.append(round(i))\n",
    "test13_df['predictions'] = linpred13"
   ]
  },
  {
   "cell_type": "code",
   "execution_count": 175,
   "metadata": {},
   "outputs": [
    {
     "data": {
      "text/plain": [
       "(360, 9)"
      ]
     },
     "execution_count": 175,
     "metadata": {},
     "output_type": "execute_result"
    }
   ],
   "source": [
    "test14_df.shape"
   ]
  },
  {
   "cell_type": "code",
   "execution_count": 176,
   "metadata": {
    "collapsed": true,
    "scrolled": true
   },
   "outputs": [],
   "source": [
    "X14array = np.c_[X14.as_matrix(columns=None), np.ones(len(X14))]\n",
    "y14array = y14.as_matrix(columns=None)\n",
    "theta14,residuals14,rank14,s14 = np.linalg.lstsq(X14array, y14array)\n",
    "X14testarray = np.c_[test14_df.as_matrix(columns=None), np.ones(len(test14_df))]\n",
    "predictions14 = np.dot(X14testarray, theta14)"
   ]
  },
  {
   "cell_type": "code",
   "execution_count": 177,
   "metadata": {
    "collapsed": true
   },
   "outputs": [],
   "source": [
    "linpredictions14 = list(predictions14)\n",
    "outOf = list(test14_df['outOf'])\n",
    "linpredictions14 = [a*b for a,b in zip(linpredictions14, outOf)]\n",
    "linpred14 = []\n",
    "for i in linpredictions14:\n",
    "    linpred14.append(round(i))\n",
    "test14_df['predictions'] = linpred14"
   ]
  },
  {
   "cell_type": "code",
   "execution_count": 178,
   "metadata": {
    "collapsed": true
   },
   "outputs": [],
   "source": [
    "X15array = np.c_[X15.as_matrix(columns=None), np.ones(len(X15))]\n",
    "y15array = y15.as_matrix(columns=None)\n",
    "theta15,residuals15,rank15,s15 = np.linalg.lstsq(X15array, y15array)\n",
    "X15testarray = np.c_[test15_df.as_matrix(columns=None), np.ones(len(test15_df))]\n",
    "predictions15 = np.dot(X15testarray, theta15)"
   ]
  },
  {
   "cell_type": "code",
   "execution_count": 179,
   "metadata": {
    "collapsed": true
   },
   "outputs": [],
   "source": [
    "linpredictions15 = list(predictions15)\n",
    "outOf = list(test15_df['outOf'])\n",
    "linpredictions15 = [a*b for a,b in zip(linpredictions15, outOf)]\n",
    "linpred15 = []\n",
    "for i in linpredictions15:\n",
    "    linpred15.append(round(i))\n",
    "test15_df['predictions'] = linpred15"
   ]
  },
  {
   "cell_type": "code",
   "execution_count": 180,
   "metadata": {
    "collapsed": true
   },
   "outputs": [],
   "source": [
    "X16array = np.c_[X16.as_matrix(columns=None), np.ones(len(X16))]\n",
    "y16array = y16.as_matrix(columns=None)\n",
    "theta16,residuals16,rank16,s16 = np.linalg.lstsq(X16array, y16array)\n",
    "X16testarray = np.c_[test16_df.as_matrix(columns=None), np.ones(len(test16_df))]\n",
    "predictions16 = np.dot(X16testarray, theta16)"
   ]
  },
  {
   "cell_type": "code",
   "execution_count": 181,
   "metadata": {
    "collapsed": true
   },
   "outputs": [],
   "source": [
    "linpredictions16 = list(predictions16)\n",
    "outOf = list(test16_df['outOf'])\n",
    "linpredictions16 = [a*b for a,b in zip(linpredictions16, outOf)]\n",
    "linpred16 = []\n",
    "for i in linpredictions16:\n",
    "    linpred16.append(round(i))\n",
    "test16_df['predictions'] = linpred16"
   ]
  },
  {
   "cell_type": "code",
   "execution_count": 182,
   "metadata": {},
   "outputs": [
    {
     "data": {
      "text/plain": [
       "(6, 10)"
      ]
     },
     "execution_count": 182,
     "metadata": {},
     "output_type": "execute_result"
    }
   ],
   "source": [
    "test0_df.shape"
   ]
  },
  {
   "cell_type": "code",
   "execution_count": 183,
   "metadata": {
    "collapsed": true
   },
   "outputs": [],
   "source": [
    "test_pre_df = pd.concat([test0_df, test11_df, test12_df, test13_df,test14_df,test15_df,test16_df], axis = 0)\n",
    "test_pre_df.sort_index(inplace=True)"
   ]
  },
  {
   "cell_type": "code",
   "execution_count": 184,
   "metadata": {
    "collapsed": true
   },
   "outputs": [],
   "source": [
    "test_df_raw['Predictions'] = test_pre_df['predictions']\n",
    "predictions = open(\"predictions_Helpful.txt\", 'w')\n",
    "a = test_df_raw['reviewerID']\n",
    "b = test_df_raw['itemID']\n",
    "c = test_df_raw['outOf']\n",
    "d = test_df_raw['Predictions']\n",
    "for i in range(len(a)):\n",
    "    e = a[i]\n",
    "    f = b[i]\n",
    "    g = c[i]\n",
    "    h = d[i]\n",
    "    predictions.write(e + '-' + f + '-' + str(g) + ',' + str(h) + '\\n')\n",
    "predictions.close()"
   ]
  }
 ],
 "metadata": {
  "kernelspec": {
   "display_name": "Python [conda env:py36]",
   "language": "python",
   "name": "conda-env-py36-py"
  },
  "language_info": {
   "codemirror_mode": {
    "name": "ipython",
    "version": 3
   },
   "file_extension": ".py",
   "mimetype": "text/x-python",
   "name": "python",
   "nbconvert_exporter": "python",
   "pygments_lexer": "ipython3",
   "version": "3.6.1"
  }
 },
 "nbformat": 4,
 "nbformat_minor": 2
}
