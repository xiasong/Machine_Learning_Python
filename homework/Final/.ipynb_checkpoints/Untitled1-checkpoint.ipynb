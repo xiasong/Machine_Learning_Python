{
 "cells": [
  {
   "cell_type": "code",
   "execution_count": null,
   "metadata": {
    "collapsed": true
   },
   "outputs": [],
   "source": [
    "## when we use our model to predict test data, we use helpratio = 0.6 as our threshhold \n",
    "# if threshhold less than 0.6 number of help is 0 otherwise use model to calculate number of help\n",
    "a = list(df_val['helpratio'])\n",
    "b = list(predictions_val)\n",
    "c = []\n",
    "for i in range(len(a)):\n",
    "    e = b[i].split()\n",
    "    for j in e:\n",
    "        f = j.lower()\n",
    "        count = 0\n",
    "        if f in words:\n",
    "            count += 1\n",
    "        else:\n",
    "            count = count\n",
    "    if count > 0:\n",
    "        d.append(0)\n",
    "    #elif a[i] > 20:\n",
    "        #d.append(0)\n",
    "    else:\n",
    "        d.append(c[i])\n",
    "e = []\n",
    "for i in d:\n",
    "    e.append(round(i))\n",
    "predictions_val = np.asarray(e)\n",
    "print (mean_absolute_error(y_val, predictions_val))"
   ]
  }
 ],
 "metadata": {
  "kernelspec": {
   "display_name": "Python [conda env:py36]",
   "language": "python",
   "name": "conda-env-py36-py"
  },
  "language_info": {
   "codemirror_mode": {
    "name": "ipython",
    "version": 3
   },
   "file_extension": ".py",
   "mimetype": "text/x-python",
   "name": "python",
   "nbconvert_exporter": "python",
   "pygments_lexer": "ipython3",
   "version": "3.6.1"
  }
 },
 "nbformat": 4,
 "nbformat_minor": 2
}
