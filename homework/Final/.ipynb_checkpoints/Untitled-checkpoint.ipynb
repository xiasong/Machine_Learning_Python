{
 "cells": [
  {
   "cell_type": "code",
   "execution_count": 1,
   "metadata": {
    "collapsed": true
   },
   "outputs": [],
   "source": [
    "import gzip\n",
    "import pandas as pd\n",
    "from collections import defaultdict"
   ]
  },
  {
   "cell_type": "code",
   "execution_count": 2,
   "metadata": {
    "collapsed": true
   },
   "outputs": [],
   "source": [
    "def parse(path):\n",
    "   g = gzip.open(path, 'rb')\n",
    "   for l in g:\n",
    "     yield eval(l)\n",
    "    \n",
    "#getDF but spererate helpful field into outOf and nHelpful two fields\n",
    "def getDF(path):\n",
    "    i = 0\n",
    "    df = {}\n",
    "    for d in parse(path):\n",
    "        a = d['helpful']\n",
    "        d.update(a) #spererate helpful field into outOf and nHelpful two fields\n",
    "        df[i] = d\n",
    "        i += 1\n",
    "    return pd.DataFrame.from_dict(df, orient='index')"
   ]
  },
  {
   "cell_type": "code",
   "execution_count": null,
   "metadata": {
    "collapsed": true
   },
   "outputs": [],
   "source": [
    "#read raw data into dataframe without outOf = 0\n",
    "path_train = '/Users/xiasong/Documents/Class_2016/DSE/DSE220/homework/Final/train.json.gz'\n",
    "path_test = '/Users/xiasong/Documents/Class_2016/DSE/DSE220/homework/Final/test_Helpful.json.gz'\n",
    "df_raw = getDF(path_train)\n",
    "test_df_raw = getDF(path_test)"
   ]
  },
  {
   "cell_type": "code",
   "execution_count": null,
   "metadata": {},
   "outputs": [],
   "source": [
    "df_raw.shape, test_df_raw.shape"
   ]
  },
  {
   "cell_type": "code",
   "execution_count": 5,
   "metadata": {
    "collapsed": true,
    "scrolled": true
   },
   "outputs": [],
   "source": [
    "# in our analysis, the three columns (cateoryID, categories, price,helpful) are not useful\n",
    "df = df_raw.drop(['categoryID', 'categories', 'price', 'helpful'], axis=1)\n",
    "test_df = test_df_raw.drop(['categoryID', 'categories', 'price', 'helpful'], axis = 1)"
   ]
  },
  {
   "cell_type": "code",
   "execution_count": 6,
   "metadata": {
    "collapsed": true
   },
   "outputs": [],
   "source": [
    "#extract each review text length\n",
    "reviewlen = []\n",
    "for i in df['reviewText']:\n",
    "    a = i.split()\n",
    "    reviewlen.append(len(a))"
   ]
  },
  {
   "cell_type": "code",
   "execution_count": 7,
   "metadata": {
    "collapsed": true
   },
   "outputs": [],
   "source": [
    "#extract each review summary length\n",
    "summarylen = []\n",
    "for i in df['summary']:\n",
    "    a = i.split()\n",
    "    summarylen.append(len(a))"
   ]
  },
  {
   "cell_type": "code",
   "execution_count": 8,
   "metadata": {
    "collapsed": true
   },
   "outputs": [],
   "source": [
    "#extract each review summary length\n",
    "import string\n",
    "summarycappun = []\n",
    "for i in df['summary']:\n",
    "    a = sum(1 for c in i if (c.isupper() or c in string.punctuation))\n",
    "    summarycappun.append(a)"
   ]
  },
  {
   "cell_type": "code",
   "execution_count": 9,
   "metadata": {
    "collapsed": true
   },
   "outputs": [],
   "source": [
    "#calculate helpratio, positive number of helpful vote to total number of vote\n",
    "a = len(df['outOf'])\n",
    "b = df['outOf']\n",
    "c = df['nHelpful']\n",
    "helpratio = []\n",
    "for i in range(a):\n",
    "    if b[i] == 0:\n",
    "        helpratio.append(0)\n",
    "    else:\n",
    "        d = c[i]/b[i]\n",
    "        helpratio.append(d)"
   ]
  },
  {
   "cell_type": "code",
   "execution_count": 10,
   "metadata": {
    "collapsed": true
   },
   "outputs": [],
   "source": [
    "df['reviewlen'] = reviewlen \n",
    "df['summarylen'] = summarylen\n",
    "df['summarycappun'] = summarycappun \n",
    "df['helpratio'] =helpratio "
   ]
  },
  {
   "cell_type": "code",
   "execution_count": 11,
   "metadata": {
    "collapsed": true
   },
   "outputs": [],
   "source": [
    "#calculate summaryratio, length of summary to length of review text\n",
    "a = len(df['outOf'])\n",
    "b = df['summarylen']\n",
    "c = df['reviewlen']\n",
    "summaryratio = []\n",
    "for i in range(a):\n",
    "    if (b[i] == 0):\n",
    "        summaryratio.append(0)\n",
    "    elif (c[i] == 0):\n",
    "        summaryratio.append(0)\n",
    "    else:\n",
    "        d = b[i]/c[i]\n",
    "        summaryratio.append(d)\n",
    "df['summaryratio'] = summaryratio"
   ]
  },
  {
   "cell_type": "code",
   "execution_count": 12,
   "metadata": {
    "collapsed": true
   },
   "outputs": [],
   "source": [
    "#calculate summarycapratio, number of cap letter and punctuations to length of summary\n",
    "a = len(df['outOf'])\n",
    "b = df['summarycappun']\n",
    "c = df['summarylen']\n",
    "summarycapratio = []\n",
    "for i in range(a):\n",
    "    if (b[i] == 0):\n",
    "        summarycapratio.append(0)\n",
    "    elif (c[i] == 0):\n",
    "        summarycapratio.append(0)\n",
    "    else:\n",
    "        d = b[i]/c[i]\n",
    "        summarycapratio.append(d)\n",
    "df['summarycapratio'] = summarycapratio"
   ]
  },
  {
   "cell_type": "code",
   "execution_count": 13,
   "metadata": {
    "collapsed": true
   },
   "outputs": [],
   "source": [
    "#extract each review summary length\n",
    "import string\n",
    "reviewcap = []\n",
    "for i in df['reviewText']:\n",
    "    a = sum(1 for c in i if c.isupper())\n",
    "    reviewcap.append(a)\n",
    "df['reviewcap'] = reviewcap"
   ]
  },
  {
   "cell_type": "code",
   "execution_count": 14,
   "metadata": {
    "collapsed": true
   },
   "outputs": [],
   "source": [
    "#according to helpratio classify the review as two group (helpratio > 0.6), 1: helpful (1), 2: not helpful (0)\n",
    "helpclass = []\n",
    "a = len(df['outOf'])\n",
    "b = df['helpratio']\n",
    "c = []\n",
    "for i in range(a):\n",
    "    if b[i] > 0.6:\n",
    "        c.append(1)\n",
    "    else:\n",
    "        c.append(0)\n",
    "df['helpgroup'] = c"
   ]
  },
  {
   "cell_type": "code",
   "execution_count": 15,
   "metadata": {},
   "outputs": [
    {
     "data": {
      "text/html": [
       "<div>\n",
       "<table border=\"1\" class=\"dataframe\">\n",
       "  <thead>\n",
       "    <tr style=\"text-align: right;\">\n",
       "      <th></th>\n",
       "      <th>itemID</th>\n",
       "      <th>reviewerID</th>\n",
       "      <th>rating</th>\n",
       "      <th>reviewText</th>\n",
       "      <th>reviewHash</th>\n",
       "      <th>reviewTime</th>\n",
       "      <th>summary</th>\n",
       "      <th>unixReviewTime</th>\n",
       "      <th>outOf</th>\n",
       "      <th>nHelpful</th>\n",
       "      <th>reviewlen</th>\n",
       "      <th>summarylen</th>\n",
       "      <th>summarycappun</th>\n",
       "      <th>helpratio</th>\n",
       "      <th>summaryratio</th>\n",
       "      <th>summarycapratio</th>\n",
       "      <th>reviewcap</th>\n",
       "      <th>helpgroup</th>\n",
       "    </tr>\n",
       "  </thead>\n",
       "  <tbody>\n",
       "    <tr>\n",
       "      <th>0</th>\n",
       "      <td>I655355328</td>\n",
       "      <td>U745881038</td>\n",
       "      <td>3.0</td>\n",
       "      <td>These are cute, but they are a little small.  ...</td>\n",
       "      <td>R115160670</td>\n",
       "      <td>05 20, 2014</td>\n",
       "      <td>Cute</td>\n",
       "      <td>1400544000</td>\n",
       "      <td>0</td>\n",
       "      <td>0</td>\n",
       "      <td>24</td>\n",
       "      <td>1</td>\n",
       "      <td>1</td>\n",
       "      <td>0.0</td>\n",
       "      <td>0.041667</td>\n",
       "      <td>1.0</td>\n",
       "      <td>3</td>\n",
       "      <td>0</td>\n",
       "    </tr>\n",
       "    <tr>\n",
       "      <th>1</th>\n",
       "      <td>I241092314</td>\n",
       "      <td>U023577405</td>\n",
       "      <td>4.0</td>\n",
       "      <td>I love the look of this bra, it is what I want...</td>\n",
       "      <td>R800651687</td>\n",
       "      <td>02 7, 2013</td>\n",
       "      <td>Beautiful but size runs small</td>\n",
       "      <td>1360195200</td>\n",
       "      <td>0</td>\n",
       "      <td>0</td>\n",
       "      <td>57</td>\n",
       "      <td>5</td>\n",
       "      <td>1</td>\n",
       "      <td>0.0</td>\n",
       "      <td>0.087719</td>\n",
       "      <td>0.2</td>\n",
       "      <td>8</td>\n",
       "      <td>0</td>\n",
       "    </tr>\n",
       "  </tbody>\n",
       "</table>\n",
       "</div>"
      ],
      "text/plain": [
       "       itemID  reviewerID  rating  \\\n",
       "0  I655355328  U745881038     3.0   \n",
       "1  I241092314  U023577405     4.0   \n",
       "\n",
       "                                          reviewText  reviewHash   reviewTime  \\\n",
       "0  These are cute, but they are a little small.  ...  R115160670  05 20, 2014   \n",
       "1  I love the look of this bra, it is what I want...  R800651687   02 7, 2013   \n",
       "\n",
       "                         summary  unixReviewTime  outOf  nHelpful  reviewlen  \\\n",
       "0                           Cute      1400544000      0         0         24   \n",
       "1  Beautiful but size runs small      1360195200      0         0         57   \n",
       "\n",
       "   summarylen  summarycappun  helpratio  summaryratio  summarycapratio  \\\n",
       "0           1              1        0.0      0.041667              1.0   \n",
       "1           5              1        0.0      0.087719              0.2   \n",
       "\n",
       "   reviewcap  helpgroup  \n",
       "0          3          0  \n",
       "1          8          0  "
      ]
     },
     "execution_count": 15,
     "metadata": {},
     "output_type": "execute_result"
    }
   ],
   "source": [
    "df.head(2)"
   ]
  },
  {
   "cell_type": "code",
   "execution_count": 17,
   "metadata": {
    "collapsed": true
   },
   "outputs": [],
   "source": [
    "#explarotory the relationship between other variables and nHelpful \n",
    "def polyfit(x,y,degree):\n",
    "    results = {}\n",
    "    coeffs = np.polyfit(x,y,degree)\n",
    "    results['polynomial'] = coeffs.tolist()\n",
    "    p = np.poly1d(coeffs)\n",
    "    yhat = p(x)\n",
    "    ybar = np.sum(y)/len(y)\n",
    "    ssreg = np.sum((yhat-ybar) **2)\n",
    "    sstot = np.sum((y-ybar)**2)\n",
    "    results['determination'] = ssreg / sstot\n",
    "    return results"
   ]
  },
  {
   "cell_type": "code",
   "execution_count": 18,
   "metadata": {},
   "outputs": [
    {
     "data": {
      "image/png": "[encoded data removed]",
      "text/plain": [
       "<matplotlib.figure.Figure at 0x12274e400>"
      ]
     },
     "metadata": {},
     "output_type": "display_data"
    }
   ],
   "source": [
    "# relationship between outOf and nHelpful\n",
    "import matplotlib.pyplot as plt\n",
    "import numpy as np\n",
    "x = df['outOf']\n",
    "y = df['nHelpful']\n",
    "fig, ax = plt.subplots()\n",
    "fit = np.polyfit(x,y,deg=1)\n",
    "ax.plot(x, fit[0] * x + fit[1], color = 'red')\n",
    "ax.scatter(x,y)\n",
    "ax.set_title('Relationshipe of outOf and nHelpful')\n",
    "ax.set_xlabel(\"outOf\")\n",
    "ax.set_ylabel(\"nHelpful\")\n",
    "plt.show()"
   ]
  },
  {
   "cell_type": "code",
   "execution_count": 19,
   "metadata": {},
   "outputs": [
    {
     "data": {
      "text/plain": [
       "{'determination': 0.976864008092722,\n",
       " 'polynomial': [0.9188345033009212, -0.08753259582386476]}"
      ]
     },
     "execution_count": 19,
     "metadata": {},
     "output_type": "execute_result"
    }
   ],
   "source": [
    "polyfit(x,y,1)"
   ]
  },
  {
   "cell_type": "code",
   "execution_count": 20,
   "metadata": {},
   "outputs": [
    {
     "data": {
      "image/png": "[encoded data removed]",
      "text/plain": [
       "<matplotlib.figure.Figure at 0x12274e828>"
      ]
     },
     "metadata": {},
     "output_type": "display_data"
    }
   ],
   "source": [
    "# relationship between rating and nHelpful\n",
    "import matplotlib.pyplot as plt\n",
    "import numpy as np\n",
    "x = df['rating']\n",
    "y = df['nHelpful']\n",
    "fig, ax = plt.subplots()\n",
    "#fit = np.polyfit(x,y,deg=1)\n",
    "#ax.plot(x, fit[0] * x + fit[1], color = 'red')\n",
    "ax.scatter(x,y)\n",
    "ax.set_title('Relationshipe of rating score and nHelpful')\n",
    "ax.set_xlabel(\"rating\")\n",
    "ax.set_ylabel(\"nHelpful\")\n",
    "plt.show()"
   ]
  },
  {
   "cell_type": "code",
   "execution_count": 21,
   "metadata": {},
   "outputs": [
    {
     "data": {
      "text/plain": [
       "{'determination': 0.000246864745110516,\n",
       " 'polynomial': [-0.08316854469697157, 1.467456519143727]}"
      ]
     },
     "execution_count": 21,
     "metadata": {},
     "output_type": "execute_result"
    }
   ],
   "source": [
    "polyfit(x,y,1)"
   ]
  },
  {
   "cell_type": "code",
   "execution_count": 22,
   "metadata": {},
   "outputs": [
    {
     "data": {
      "image/png": "[encoded data removed]",
      "text/plain": [
       "<matplotlib.figure.Figure at 0x127274a58>"
      ]
     },
     "metadata": {},
     "output_type": "display_data"
    }
   ],
   "source": [
    "# relationship between reviewlen and nHelpful\n",
    "import matplotlib.pyplot as plt\n",
    "import numpy as np\n",
    "x = df['reviewlen']\n",
    "y = df['nHelpful']\n",
    "fig, ax = plt.subplots()\n",
    "#fit = np.polyfit(x,y,deg=1)\n",
    "#ax.plot(x, fit[0] * x + fit[1], color = 'red')\n",
    "ax.scatter(x,y)\n",
    "ax.set_title('Relationshipe of reviewlen and nHelpful')\n",
    "ax.set_xlabel(\"reviewlen\")\n",
    "ax.set_ylabel(\"nHelpful\")\n",
    "plt.show()"
   ]
  },
  {
   "cell_type": "code",
   "execution_count": 23,
   "metadata": {},
   "outputs": [
    {
     "data": {
      "text/plain": [
       "{'determination': 0.059484561878993709,\n",
       " 'polynomial': [0.02413105755583328, -0.3123465927961181]}"
      ]
     },
     "execution_count": 23,
     "metadata": {},
     "output_type": "execute_result"
    }
   ],
   "source": [
    "polyfit(x,y,1)"
   ]
  },
  {
   "cell_type": "code",
   "execution_count": 24,
   "metadata": {},
   "outputs": [
    {
     "data": {
      "image/png": "[encoded data removed]",
      "text/plain": [
       "<matplotlib.figure.Figure at 0x122a61710>"
      ]
     },
     "metadata": {},
     "output_type": "display_data"
    }
   ],
   "source": [
    "# relationship between summarylen and nHelpful\n",
    "import matplotlib.pyplot as plt\n",
    "import numpy as np\n",
    "x = df['summarylen']\n",
    "y = df['nHelpful']\n",
    "fig, ax = plt.subplots()\n",
    "#fit = np.polyfit(x,y,deg=1)\n",
    "#ax.plot(x, fit[0] * x + fit[1], color = 'red')\n",
    "ax.scatter(x,y)\n",
    "ax.set_title('Relationshipe of summarylen and nHelpful')\n",
    "ax.set_xlabel(\"summarylen\")\n",
    "ax.set_ylabel(\"nHelpful\")\n",
    "plt.show()"
   ]
  },
  {
   "cell_type": "code",
   "execution_count": 25,
   "metadata": {},
   "outputs": [
    {
     "data": {
      "text/plain": [
       "{'determination': 0.0032042832638110642,\n",
       " 'polynomial': [0.1294585605953361, 0.6424610023443891]}"
      ]
     },
     "execution_count": 25,
     "metadata": {},
     "output_type": "execute_result"
    }
   ],
   "source": [
    "polyfit(x,y,1)"
   ]
  },
  {
   "cell_type": "code",
   "execution_count": 26,
   "metadata": {
    "scrolled": true
   },
   "outputs": [
    {
     "data": {
      "image/png": "[encoded data removed]",
      "text/plain": [
       "<matplotlib.figure.Figure at 0x12886a7f0>"
      ]
     },
     "metadata": {},
     "output_type": "display_data"
    }
   ],
   "source": [
    "# relationship between helpratio and nHelpful\n",
    "import matplotlib.pyplot as plt\n",
    "import numpy as np\n",
    "x = df['helpratio']\n",
    "y = df['nHelpful']\n",
    "fig, ax = plt.subplots()\n",
    "#fit = np.polyfit(x,y,deg=1)\n",
    "#ax.plot(x, fit[0] * x + fit[1], color = 'red')\n",
    "ax.scatter(x,y)\n",
    "ax.set_title('Relationshipe of helpratio and nHelpful')\n",
    "ax.set_xlabel(\"helpratio\")\n",
    "ax.set_ylabel(\"nHelpful\")\n",
    "plt.show()"
   ]
  },
  {
   "cell_type": "code",
   "execution_count": 28,
   "metadata": {},
   "outputs": [
    {
     "data": {
      "image/png": "[encoded data removed]",
      "text/plain": [
       "<matplotlib.figure.Figure at 0x1273aae10>"
      ]
     },
     "metadata": {},
     "output_type": "display_data"
    }
   ],
   "source": [
    "# relationship between helpratio and nHelpful\n",
    "import matplotlib.pyplot as plt\n",
    "import numpy as np\n",
    "x = df['summarycappun']\n",
    "y = df['nHelpful']\n",
    "fig, ax = plt.subplots()\n",
    "#fit = np.polyfit(x,y,deg=1)\n",
    "#ax.plot(x, fit[0] * x + fit[1], color = 'red')\n",
    "ax.scatter(x,y)\n",
    "ax.set_title('Relationshipe of summarycappun and nHelpful')\n",
    "ax.set_xlabel(\"summarycappun\")\n",
    "ax.set_ylabel(\"nHelpful\")\n",
    "plt.show()"
   ]
  },
  {
   "cell_type": "code",
   "execution_count": 29,
   "metadata": {},
   "outputs": [
    {
     "data": {
      "image/png": "[encoded data removed]",
      "text/plain": [
       "<matplotlib.figure.Figure at 0x128e42898>"
      ]
     },
     "metadata": {},
     "output_type": "display_data"
    }
   ],
   "source": [
    "# relationship between helpratio and nHelpful\n",
    "import matplotlib.pyplot as plt\n",
    "import numpy as np\n",
    "x = df['summarycapratio']\n",
    "y = df['nHelpful']\n",
    "fig, ax = plt.subplots()\n",
    "#fit = np.polyfit(x,y,deg=1)\n",
    "#ax.plot(x, fit[0] * x + fit[1], color = 'red')\n",
    "ax.scatter(x,y)\n",
    "ax.set_title('Relationshipe of summarycap ratio and nHelpful')\n",
    "ax.set_xlabel(\"summarycapratio\")\n",
    "ax.set_ylabel(\"nHelpful\")\n",
    "plt.show()"
   ]
  },
  {
   "cell_type": "code",
   "execution_count": 30,
   "metadata": {},
   "outputs": [
    {
     "data": {
      "image/png": "[encoded data removed]",
      "text/plain": [
       "<matplotlib.figure.Figure at 0x129293668>"
      ]
     },
     "metadata": {},
     "output_type": "display_data"
    }
   ],
   "source": [
    "# relationship between helpratio and nHelpful\n",
    "import matplotlib.pyplot as plt\n",
    "import numpy as np\n",
    "x = df['reviewcap']\n",
    "y = df['nHelpful']\n",
    "fig, ax = plt.subplots()\n",
    "#fit = np.polyfit(x,y,deg=1)\n",
    "#ax.plot(x, fit[0] * x + fit[1], color = 'red')\n",
    "ax.scatter(x,y)\n",
    "ax.set_title('Relationshipe of reviewcap ratio and nHelpful')\n",
    "ax.set_xlabel(\"reviewcap\")\n",
    "ax.set_ylabel(\"nHelpful\")\n",
    "plt.show()"
   ]
  },
  {
   "cell_type": "code",
   "execution_count": 31,
   "metadata": {},
   "outputs": [
    {
     "data": {
      "image/png": "[encoded data removed]",
      "text/plain": [
       "<matplotlib.figure.Figure at 0x128e8ab38>"
      ]
     },
     "metadata": {},
     "output_type": "display_data"
    }
   ],
   "source": [
    "# relationship between helpratio and nHelpful\n",
    "import matplotlib.pyplot as plt\n",
    "import numpy as np\n",
    "x = df['reviewlen']\n",
    "y = df['helpratio']\n",
    "fig, ax = plt.subplots()\n",
    "#fit = np.polyfit(x,y,deg=1)\n",
    "#ax.plot(x, fit[0] * x + fit[1], color = 'red')\n",
    "ax.scatter(x,y)\n",
    "ax.set_title('Relationshipe of helpratio and reviewlen')\n",
    "ax.set_xlabel(\"reveiwlen\")\n",
    "ax.set_ylabel(\"helpratio\")\n",
    "plt.show()"
   ]
  },
  {
   "cell_type": "code",
   "execution_count": 32,
   "metadata": {},
   "outputs": [
    {
     "data": {
      "image/png": "[encoded data removed]",
      "text/plain": [
       "<matplotlib.figure.Figure at 0x129adbba8>"
      ]
     },
     "metadata": {},
     "output_type": "display_data"
    }
   ],
   "source": [
    "# relationship between helpratio and nHelpful\n",
    "import matplotlib.pyplot as plt\n",
    "import numpy as np\n",
    "x = df['summarylen']\n",
    "y = df['helpratio']\n",
    "fig, ax = plt.subplots()\n",
    "#fit = np.polyfit(x,y,deg=1)\n",
    "#ax.plot(x, fit[0] * x + fit[1], color = 'red')\n",
    "ax.scatter(x,y)\n",
    "ax.set_title('Relationshipe of helpratio and summary length')\n",
    "ax.set_xlabel(\"summarylen\")\n",
    "ax.set_ylabel(\"helpratio\")\n",
    "plt.show()"
   ]
  },
  {
   "cell_type": "code",
   "execution_count": 34,
   "metadata": {},
   "outputs": [
    {
     "data": {
      "image/png": "[encoded data removed]",
      "text/plain": [
       "<matplotlib.figure.Figure at 0x129b33eb8>"
      ]
     },
     "metadata": {},
     "output_type": "display_data"
    }
   ],
   "source": [
    "import matplotlib.pyplot as plt\n",
    "import numpy as np\n",
    "x = df['summarycappun']\n",
    "y = df['helpratio']\n",
    "fig, ax = plt.subplots()\n",
    "#fit = np.polyfit(x,y,deg=1)\n",
    "#ax.plot(x, fit[0] * x + fit[1], color = 'red')\n",
    "ax.scatter(x,y)\n",
    "ax.set_title('Relationshipe of helpratio and summary cap')\n",
    "ax.set_xlabel(\"summarycappun\")\n",
    "ax.set_ylabel(\"helpratio\")\n",
    "plt.show()"
   ]
  },
  {
   "cell_type": "code",
   "execution_count": 35,
   "metadata": {},
   "outputs": [
    {
     "data": {
      "image/png": "[encoded data removed]",
      "text/plain": [
       "<matplotlib.figure.Figure at 0x12a050400>"
      ]
     },
     "metadata": {},
     "output_type": "display_data"
    }
   ],
   "source": [
    "import matplotlib.pyplot as plt\n",
    "import numpy as np\n",
    "x = df['summarycapratio']\n",
    "y = df['helpratio']\n",
    "fig, ax = plt.subplots()\n",
    "#fit = np.polyfit(x,y,deg=1)\n",
    "#ax.plot(x, fit[0] * x + fit[1], color = 'red')\n",
    "ax.scatter(x,y)\n",
    "ax.set_title('Relationshipe of helpratio and summary cap ratio')\n",
    "ax.set_xlabel(\"summarycapratio\")\n",
    "ax.set_ylabel(\"helpratio\")\n",
    "plt.show()"
   ]
  },
  {
   "cell_type": "code",
   "execution_count": 36,
   "metadata": {},
   "outputs": [
    {
     "data": {
      "image/png": "[encoded data removed]",
      "text/plain": [
       "<matplotlib.figure.Figure at 0x12a3a0b38>"
      ]
     },
     "metadata": {},
     "output_type": "display_data"
    }
   ],
   "source": [
    "import matplotlib.pyplot as plt\n",
    "import numpy as np\n",
    "x = df['reviewcap']\n",
    "y = df['helpratio']\n",
    "fig, ax = plt.subplots()\n",
    "#fit = np.polyfit(x,y,deg=1)\n",
    "#ax.plot(x, fit[0] * x + fit[1], color = 'red')\n",
    "ax.scatter(x,y)\n",
    "ax.set_title('Relationshipe of helpratio and reviewcap')\n",
    "ax.set_xlabel(\"reviewcap\")\n",
    "ax.set_ylabel(\"helpratio\")\n",
    "plt.show()"
   ]
  },
  {
   "cell_type": "code",
   "execution_count": 37,
   "metadata": {
    "collapsed": true
   },
   "outputs": [],
   "source": [
    "#train data into train and validation\n",
    "import math\n",
    "a = math.floor(df.shape[0] * 0.2)\n",
    "b = df.shape[0] - a\n",
    "df_train = df.loc[0:b,]\n",
    "df_val = df.tail(n=a)"
   ]
  },
  {
   "cell_type": "code",
   "execution_count": 38,
   "metadata": {
    "collapsed": true,
    "scrolled": true
   },
   "outputs": [],
   "source": [
    "from sklearn.linear_model import LinearRegression\n",
    "X = df_train[['outOf', 'reviewlen', 'rating', 'summarylen', 'helpratio']].as_matrix(columns=None)\n",
    "X_val = df_val[['outOf', 'reviewlen', 'rating','summarylen', 'helpratio']].as_matrix(columns=None)\n",
    "y = df_train['nHelpful']\n",
    "y_val = df_val['nHelpful']\n",
    "theta,residuals,rank,s = np.linalg.lstsq(X, y)"
   ]
  },
  {
   "cell_type": "code",
   "execution_count": 39,
   "metadata": {
    "collapsed": true
   },
   "outputs": [],
   "source": [
    "predictions_val = np.dot(X_val, theta)\n",
    "y_true_pred = np.dot(X, theta)"
   ]
  },
  {
   "cell_type": "code",
   "execution_count": 40,
   "metadata": {},
   "outputs": [
    {
     "name": "stdout",
     "output_type": "stream",
     "text": [
      "0.234250320605\n",
      "0.238377761153\n"
     ]
    }
   ],
   "source": [
    "from sklearn.metrics import mean_absolute_error\n",
    "\n",
    "print (mean_absolute_error(y_val, predictions_val))\n",
    "print (mean_absolute_error(y, y_true_pred))"
   ]
  },
  {
   "cell_type": "code",
   "execution_count": 41,
   "metadata": {
    "collapsed": true
   },
   "outputs": [],
   "source": [
    "#add ones\n",
    "X = df_train[['outOf']].as_matrix(columns=None)\n",
    "#X = np.c_[X, np.ones(len(X))]\n",
    "X_val = df_val[['outOf']].as_matrix(columns=None)\n",
    "#X_val = np.c_[X_val, np.ones(len(X_val))]\n",
    "y = df_train['nHelpful']\n",
    "y_val = df_val['nHelpful']\n",
    "theta,residuals,rank,s = np.linalg.lstsq(X, y)"
   ]
  },
  {
   "cell_type": "code",
   "execution_count": 42,
   "metadata": {
    "collapsed": true
   },
   "outputs": [],
   "source": [
    "predictions_val = np.dot(X_val, theta)\n",
    "y_true_pred = np.dot(X, theta)"
   ]
  },
  {
   "cell_type": "code",
   "execution_count": 43,
   "metadata": {},
   "outputs": [
    {
     "name": "stdout",
     "output_type": "stream",
     "text": [
      "0.187323772106\n",
      "0.190542199772\n"
     ]
    }
   ],
   "source": [
    "from sklearn.metrics import mean_absolute_error\n",
    "\n",
    "print (mean_absolute_error(y_val, predictions_val))\n",
    "print (mean_absolute_error(y, y_true_pred))"
   ]
  },
  {
   "cell_type": "markdown",
   "metadata": {},
   "source": [
    "Classify different condition of helpfulness"
   ]
  },
  {
   "cell_type": "code",
   "execution_count": 44,
   "metadata": {},
   "outputs": [
    {
     "data": {
      "text/plain": [
       "(0.68492, 0.03989, 0.27519)"
      ]
     },
     "execution_count": 44,
     "metadata": {},
     "output_type": "execute_result"
    }
   ],
   "source": [
    "import numpy as np\n",
    "#from numpy import ndarray.tolist\n",
    "#1.Both outof and nhelpful are zeros\n",
    "zz = np.where((df['outOf'] == 0) & (df['nHelpful'] == 0))\n",
    "zz = list(zz[0])\n",
    "#2.Outof nonzero but nhelpful is zero\n",
    "nz = np.where((df['outOf'] != 0) & (df['nHelpful'] == 0))\n",
    "nz = list(nz[0])\n",
    "#3.Both outof and nhelpful are nonzero\n",
    "nn = np.where(df['nHelpful'] != 0)\n",
    "nn = list(nn[0])\n",
    "\n",
    "#percentage of each category \n",
    "totlen = len(zz) + len(nz) + len(nn)\n",
    "Pzz = len(zz)/totlen\n",
    "Pnz = len(nz)/totlen\n",
    "Pnn = len(nn)/totlen\n",
    "Pzz, Pnz, Pnn"
   ]
  },
  {
   "cell_type": "code",
   "execution_count": 45,
   "metadata": {
    "collapsed": true
   },
   "outputs": [],
   "source": [
    "zz_df = df.loc[zz,:]\n",
    "nz_df = df.loc[nz,:]\n",
    "nn_df = df.loc[nn,:]"
   ]
  },
  {
   "cell_type": "code",
   "execution_count": 46,
   "metadata": {
    "collapsed": true
   },
   "outputs": [],
   "source": [
    "nnratio_filter = np.where((df['helpratio'] >= 0.6) & (df['helpratio'] <= 0.99))\n",
    "nnratio_filter = list(nnratio_filter[0])\n",
    "nnratio_df = df.loc[nnratio_filter,:]"
   ]
  },
  {
   "cell_type": "code",
   "execution_count": 47,
   "metadata": {
    "collapsed": true
   },
   "outputs": [],
   "source": [
    "summarycap_filter = nz = np.where((df['summarycapratio'] <= 0.5) & (df['summarycappun'] <= 3))\n",
    "summarycap_filter = list(summarycap_filter[0])\n",
    "summarycap_df = df.loc[summarycap_filter,:]"
   ]
  },
  {
   "cell_type": "code",
   "execution_count": 48,
   "metadata": {
    "collapsed": true
   },
   "outputs": [],
   "source": [
    "reviewcap_filter = nz = np.where((df['reviewcap'] <= 50))\n",
    "reviewcap_filter = list(reviewcap_filter[0])\n",
    "reviewcap_df = df.loc[reviewcap_filter,:]"
   ]
  },
  {
   "cell_type": "code",
   "execution_count": 49,
   "metadata": {},
   "outputs": [
    {
     "data": {
      "image/png": "[encoded data removed]",
      "text/plain": [
       "<matplotlib.figure.Figure at 0x12ec99c18>"
      ]
     },
     "metadata": {},
     "output_type": "display_data"
    },
    {
     "data": {
      "image/png": "[encoded data removed]",
      "text/plain": [
       "<matplotlib.figure.Figure at 0x12a89cb00>"
      ]
     },
     "metadata": {},
     "output_type": "display_data"
    },
    {
     "data": {
      "image/png": "[encoded data removed]",
      "text/plain": [
       "<matplotlib.figure.Figure at 0x13316a240>"
      ]
     },
     "metadata": {},
     "output_type": "display_data"
    },
    {
     "data": {
      "image/png": "[encoded data removed]",
      "text/plain": [
       "<matplotlib.figure.Figure at 0x133254dd8>"
      ]
     },
     "metadata": {},
     "output_type": "display_data"
    },
    {
     "data": {
      "image/png": "[encoded data removed]",
      "text/plain": [
       "<matplotlib.figure.Figure at 0x12a8b7fd0>"
      ]
     },
     "metadata": {},
     "output_type": "display_data"
    },
    {
     "data": {
      "image/png": "[encoded data removed]",
      "text/plain": [
       "<matplotlib.figure.Figure at 0x136ad8710>"
      ]
     },
     "metadata": {},
     "output_type": "display_data"
    }
   ],
   "source": [
    "# relationship between outOf and nHelpful\n",
    "import matplotlib.pyplot as plt\n",
    "import numpy as np\n",
    "\n",
    "a = [zz_df, nz_df, nn_df, nnratio_df, summarycap_df, reviewcap_df]\n",
    "for i in a:\n",
    "    x = i['outOf']\n",
    "    y = i['nHelpful']\n",
    "    fig, ax = plt.subplots()\n",
    "    #fit = np.polyfit(x,y,deg=1)\n",
    "    #ax.plot(x, fit[0] * x + fit[1], color = 'red')\n",
    "    ax.scatter(x,y)\n",
    "    ax.set_title('Relationshipe of outOf and nHelpful')\n",
    "    ax.set_xlabel(\"outOf\")\n",
    "    ax.set_ylabel(\"nHelpful\")\n",
    "    plt.show()"
   ]
  },
  {
   "cell_type": "code",
   "execution_count": 50,
   "metadata": {
    "collapsed": true
   },
   "outputs": [],
   "source": [
    "nnratio_filter = np.where((df['helpratio'] >= 0.6) & (df['helpratio'] <= 0.99))\n",
    "nnratio_filter = list(nnratio_filter[0])\n",
    "nnratio_df = df.loc[nnratio_filter,:]"
   ]
  },
  {
   "cell_type": "code",
   "execution_count": 51,
   "metadata": {
    "scrolled": true
   },
   "outputs": [
    {
     "name": "stdout",
     "output_type": "stream",
     "text": [
      "0.178925\n"
     ]
    }
   ],
   "source": [
    "# we will use the nnratio_df to simulate our predictive model\n",
    "X = nnratio_df[['outOf']].as_matrix(columns=None)\n",
    "X_val = df_val[['outOf']].as_matrix(columns=None)\n",
    "y = nnratio_df['nHelpful']\n",
    "y_val = df_val['nHelpful']\n",
    "theta,residuals,rank,s = np.linalg.lstsq(X, y)\n",
    "predictions_val = np.dot(X_val, theta)\n",
    "prediciotns_val = list(predictions_val)\n",
    "predictions = []\n",
    "for i in predictions_val:\n",
    "    predictions.append(round(i))\n",
    "predictions = np.asarray(predictions)\n",
    "print (mean_absolute_error(y_val, predictions))"
   ]
  },
  {
   "cell_type": "code",
   "execution_count": 52,
   "metadata": {},
   "outputs": [
    {
     "name": "stdout",
     "output_type": "stream",
     "text": [
      "0.118975\n"
     ]
    }
   ],
   "source": [
    "## when we use our model to predict test data, we use helpratio = 0.6 as our threshhold \n",
    "# if threshhold less than 0.6 number of help is 0 otherwise use model to calculate number of help\n",
    "a = list(df_val['helpratio'])\n",
    "b = list(df_val['outOf'])\n",
    "c = []\n",
    "for i in range(len(a)):\n",
    "    if (a[i] >= 0.6):\n",
    "        d = np.dot(b[i], theta)\n",
    "        d = d[0]\n",
    "        c.append(d)\n",
    "    #elif a[i] > 20:\n",
    "        #d.append(0)\n",
    "    else:\n",
    "        c.append(0)\n",
    "e = []\n",
    "for i in c:\n",
    "    e.append(round(i))\n",
    "predictions_val = np.asarray(e)\n",
    "print (mean_absolute_error(y_val, predictions_val))"
   ]
  },
  {
   "cell_type": "markdown",
   "metadata": {},
   "source": [
    "## According review text content to classify review as helpful group and unhelpful group"
   ]
  },
  {
   "cell_type": "code",
   "execution_count": 16,
   "metadata": {},
   "outputs": [
    {
     "data": {
      "text/plain": [
       "(0,\n",
       " \"I ordered according to the size chart but it's uncomfortably small, so buy a size larger and you'll be fine. Other than that this leotard is great.\",\n",
       " 'These are cute, but they are a little small.  When I put them on, my legs stretch the fabric making the black fade out.')"
      ]
     },
     "execution_count": 16,
     "metadata": {},
     "output_type": "execute_result"
    }
   ],
   "source": [
    "#according to review text\n",
    "train_data = list(df['reviewText'])\n",
    "y_data = list(df['helpgroup'])\n",
    "test_data = list(test_df['reviewText'])\n",
    "y_data[0], test_data[0], train_data[0]"
   ]
  },
  {
   "cell_type": "code",
   "execution_count": 17,
   "metadata": {
    "collapsed": true
   },
   "outputs": [],
   "source": [
    "from sklearn.model_selection import train_test_split\n",
    "x_train, x_val, y_train, y_val = \\\n",
    "        train_test_split(train_data, y_data, test_size=.2, random_state=42)"
   ]
  },
  {
   "cell_type": "code",
   "execution_count": 18,
   "metadata": {},
   "outputs": [
    {
     "data": {
      "text/plain": [
       "160000"
      ]
     },
     "execution_count": 18,
     "metadata": {},
     "output_type": "execute_result"
    }
   ],
   "source": [
    "len(x_train)"
   ]
  },
  {
   "cell_type": "code",
   "execution_count": 19,
   "metadata": {},
   "outputs": [
    {
     "name": "stdout",
     "output_type": "stream",
     "text": [
      "OrderedDict([(0, 121634), (1, 38366)])\n"
     ]
    }
   ],
   "source": [
    "import collections\n",
    "lab_count1=dict(collections.Counter(y_train))\n",
    "lab_count = collections.OrderedDict(sorted(lab_count1.items()))\n",
    "print (lab_count)"
   ]
  },
  {
   "cell_type": "code",
   "execution_count": 20,
   "metadata": {
    "collapsed": true
   },
   "outputs": [],
   "source": [
    "#train data processing\n",
    "from nltk.corpus import stopwords\n",
    "X_train = []\n",
    "exclude = set(string.punctuation)\n",
    "stop_words = set(stopwords.words('english'))\n",
    "for i in range(len(x_train)):\n",
    "    A = x_train[i].lower() #lowercase for each word\n",
    "    A = ''.join(ch for ch in A if ch not in exclude) #remove punctuation\n",
    "    filtered_words = [word for word in A.split() if word not in stop_words] #remove stopwords\n",
    "    B = ' '.join(word for word in filtered_words)\n",
    "    X_train.append(B)"
   ]
  },
  {
   "cell_type": "code",
   "execution_count": 21,
   "metadata": {
    "collapsed": true
   },
   "outputs": [],
   "source": [
    "#val data processing\n",
    "from nltk.corpus import stopwords\n",
    "X_val = []\n",
    "exclude = set(string.punctuation)\n",
    "stop_words = set(stopwords.words('english'))\n",
    "for i in range(len(x_val)):\n",
    "    A = x_val[i].lower() #lowercase for each word\n",
    "    A = ''.join(ch for ch in A if ch not in exclude) #remove punctuation\n",
    "    filtered_words = [word for word in A.split() if word not in stop_words] #remove stopwords\n",
    "    B = ' '.join(word for word in filtered_words)\n",
    "    X_val.append(B)"
   ]
  },
  {
   "cell_type": "code",
   "execution_count": 22,
   "metadata": {
    "collapsed": true
   },
   "outputs": [],
   "source": [
    "#test data processing\n",
    "X_test = []\n",
    "exclude = set(string.punctuation)\n",
    "stop_words = set(stopwords.words('english'))\n",
    "for i in range(len(test_data)):\n",
    "    C = test_data[i].lower() #lowercase for each word\n",
    "    C = ''.join(ch for ch in C if ch not in exclude) #remove punctuation\n",
    "    filtered_words = [word for word in C.split() if word not in stop_words] #remove stopwords\n",
    "    D = ' '.join(word for word in filtered_words)\n",
    "    X_test.append(D)"
   ]
  },
  {
   "cell_type": "code",
   "execution_count": 23,
   "metadata": {},
   "outputs": [
    {
     "name": "stdout",
     "output_type": "stream",
     "text": [
      "(160000, 117761) (40000, 117761) (14000, 117761)\n"
     ]
    }
   ],
   "source": [
    "# TfidfVectorizer for train data\n",
    "from sklearn.feature_extraction.text import TfidfVectorizer\n",
    "count_vect = TfidfVectorizer()\n",
    "X_train_counts = count_vect.fit_transform(X_train) #fit and transform\n",
    "X_val_counts = count_vect.transform(X_val)\n",
    "X_test_counts = count_vect.transform(X_test)\n",
    "print (X_train_counts.shape, X_val_counts.shape, X_test_counts.shape)"
   ]
  },
  {
   "cell_type": "code",
   "execution_count": null,
   "metadata": {
    "collapsed": true
   },
   "outputs": [],
   "source": [
    "#dimension reduction\n",
    "from sklearn.decomposition import TruncatedSVD\n",
    "from sklearn.random_projection import sparse_random_matrix\n",
    "svd = TruncatedSVD(n_components=100, n_iter=7, random_state=42)\n",
    "X_train=svd.fit_transform(X_train_counts) \n",
    "X_test=svd.fit_transform(X_test_counts) \n",
    "X_val=svd.fit_transform(X_val_counts) "
   ]
  },
  {
   "cell_type": "code",
   "execution_count": 24,
   "metadata": {},
   "outputs": [
    {
     "name": "stdout",
     "output_type": "stream",
     "text": [
      "0.687325\n"
     ]
    }
   ],
   "source": [
    "# Perceptron Model\n",
    "from sklearn.linear_model import Perceptron\n",
    "from sklearn.metrics import accuracy_score\n",
    "clf = Perceptron()\n",
    "# fit\n",
    "clf.fit(X_train_counts, y_train)\n",
    "# predict\n",
    "#prediction_test = clf.predict(X_test_counts)\n",
    "prediction_per = clf.predict(X_val_counts)\n",
    "#evaluate\n",
    "print (accuracy_score(y_val, prediction_per))"
   ]
  },
  {
   "cell_type": "code",
   "execution_count": 25,
   "metadata": {},
   "outputs": [
    {
     "name": "stdout",
     "output_type": "stream",
     "text": [
      "0.743525\n"
     ]
    }
   ],
   "source": [
    "#MultinomialNB Model\n",
    "from sklearn.naive_bayes import MultinomialNB\n",
    "clf = MultinomialNB(alpha=.01)\n",
    "clf.fit(X_train_counts, y_train)\n",
    "#prediction_test = clf.predict(X_test_counts)\n",
    "prediction_nb = clf.predict(X_val_counts)\n",
    "print (accuracy_score(y_val, prediction_nb))"
   ]
  },
  {
   "cell_type": "code",
   "execution_count": 26,
   "metadata": {},
   "outputs": [
    {
     "name": "stdout",
     "output_type": "stream",
     "text": [
      "0.7574\n"
     ]
    }
   ],
   "source": [
    "from sklearn.tree import DecisionTreeClassifier\n",
    "clf = DecisionTreeClassifier(max_depth=5)\n",
    "clf.fit(X_train_counts, y_train)\n",
    "#prediction_test = clf.predict(X_test_counts)\n",
    "prediction_dec = clf.predict(X_val_counts)\n",
    "print (accuracy_score(y_val, prediction_dec))"
   ]
  },
  {
   "cell_type": "code",
   "execution_count": 27,
   "metadata": {},
   "outputs": [
    {
     "name": "stdout",
     "output_type": "stream",
     "text": [
      "0.756275\n"
     ]
    }
   ],
   "source": [
    "from sklearn.ensemble import RandomForestClassifier, AdaBoostClassifier\n",
    "clf = RandomForestClassifier(max_depth=5)\n",
    "clf.fit(X_train_counts, y_train)\n",
    "#prediction_test = clf.predict(X_test_counts)\n",
    "prediction_ran = clf.predict(X_val_counts)\n",
    "print (accuracy_score(y_val, prediction_ran))"
   ]
  },
  {
   "cell_type": "code",
   "execution_count": 28,
   "metadata": {},
   "outputs": [
    {
     "name": "stdout",
     "output_type": "stream",
     "text": [
      "0.757225\n"
     ]
    }
   ],
   "source": [
    "clf = AdaBoostClassifier()\n",
    "clf.fit(X_train_counts, y_train)\n",
    "#prediction_test = clf.predict(X_test_counts)\n",
    "prediction_ada = clf.predict(X_val_counts)\n",
    "print (accuracy_score(y_val, prediction_ada))"
   ]
  },
  {
   "cell_type": "code",
   "execution_count": null,
   "metadata": {
    "collapsed": true
   },
   "outputs": [],
   "source": [
    "from sklearn.svm import SVC\n",
    "clf = SVC(kernel='linear', C=0.025)\n",
    "clf.fit(X_train_counts, y_train)\n",
    "#prediction_test = clf.predict(X_test_counts)\n",
    "prediction_svc = clf.predict(X_val_counts)\n",
    "print (accuracy_score(y_val, prediction_svc))"
   ]
  },
  {
   "cell_type": "code",
   "execution_count": null,
   "metadata": {
    "collapsed": true
   },
   "outputs": [],
   "source": [
    "#K-nearest_neighbor Model\n",
    "from sklearn.neighbors import KNeighborsClassifier\n",
    "clf = KNeighborsClassifier(n_neighbors=3)\n",
    "clf.fit(X_train_counts, y_train)\n",
    "#prediction_test = clf.predict(X_test_counts)\n",
    "prediction_knn = clf.predict(X_val_counts)\n",
    "print (accuracy_score(y_val, prediction_knn))"
   ]
  },
  {
   "cell_type": "code",
   "execution_count": null,
   "metadata": {
    "collapsed": true
   },
   "outputs": [],
   "source": [
    "from sklearn.svm import SVC\n",
    "clf = SVC()\n",
    "clf.fit(X_train_counts, y_train)\n",
    "#prediction_test = clf.predict(X_test_counts)\n",
    "prediction_svc = clf.predict(X_val_counts)\n",
    "print (accuracy_score(y_val, prediction_svc))"
   ]
  },
  {
   "cell_type": "code",
   "execution_count": 79,
   "metadata": {},
   "outputs": [
    {
     "data": {
      "text/html": [
       "<div>\n",
       "<table border=\"1\" class=\"dataframe\">\n",
       "  <thead>\n",
       "    <tr style=\"text-align: right;\">\n",
       "      <th></th>\n",
       "      <th>itemID</th>\n",
       "      <th>reviewerID</th>\n",
       "      <th>rating</th>\n",
       "      <th>reviewText</th>\n",
       "      <th>reviewHash</th>\n",
       "      <th>reviewTime</th>\n",
       "      <th>summary</th>\n",
       "      <th>unixReviewTime</th>\n",
       "      <th>outOf</th>\n",
       "      <th>helpgroup</th>\n",
       "    </tr>\n",
       "  </thead>\n",
       "  <tbody>\n",
       "    <tr>\n",
       "      <th>0</th>\n",
       "      <td>I520932398</td>\n",
       "      <td>U816789534</td>\n",
       "      <td>3.0</td>\n",
       "      <td>I ordered according to the size chart but it's...</td>\n",
       "      <td>R157684793</td>\n",
       "      <td>07 15, 2011</td>\n",
       "      <td>Too small</td>\n",
       "      <td>1310688000</td>\n",
       "      <td>2</td>\n",
       "      <td>0</td>\n",
       "    </tr>\n",
       "    <tr>\n",
       "      <th>1</th>\n",
       "      <td>I969532331</td>\n",
       "      <td>U987148846</td>\n",
       "      <td>4.0</td>\n",
       "      <td>Super thin but really cute and not cheap-looki...</td>\n",
       "      <td>R732719858</td>\n",
       "      <td>07 17, 2013</td>\n",
       "      <td>Fun hoodie</td>\n",
       "      <td>1374019200</td>\n",
       "      <td>0</td>\n",
       "      <td>1</td>\n",
       "    </tr>\n",
       "    <tr>\n",
       "      <th>2</th>\n",
       "      <td>I149943341</td>\n",
       "      <td>U628436634</td>\n",
       "      <td>5.0</td>\n",
       "      <td>It was a present for my sis, and she loves Fle...</td>\n",
       "      <td>R352659313</td>\n",
       "      <td>12 8, 2013</td>\n",
       "      <td>A Perfect hook up</td>\n",
       "      <td>1386460800</td>\n",
       "      <td>1</td>\n",
       "      <td>0</td>\n",
       "    </tr>\n",
       "    <tr>\n",
       "      <th>3</th>\n",
       "      <td>I909025835</td>\n",
       "      <td>U924107228</td>\n",
       "      <td>5.0</td>\n",
       "      <td>I love this thing!  I guess they don't make th...</td>\n",
       "      <td>R277416618</td>\n",
       "      <td>11 22, 2012</td>\n",
       "      <td>I love this thing...</td>\n",
       "      <td>1353542400</td>\n",
       "      <td>1</td>\n",
       "      <td>0</td>\n",
       "    </tr>\n",
       "    <tr>\n",
       "      <th>4</th>\n",
       "      <td>I228439768</td>\n",
       "      <td>U060135484</td>\n",
       "      <td>4.0</td>\n",
       "      <td>I liked it and I wear it...it's a little bit s...</td>\n",
       "      <td>R645892076</td>\n",
       "      <td>04 1, 2014</td>\n",
       "      <td>I liked it...</td>\n",
       "      <td>1396310400</td>\n",
       "      <td>0</td>\n",
       "      <td>1</td>\n",
       "    </tr>\n",
       "    <tr>\n",
       "      <th>5</th>\n",
       "      <td>I408726477</td>\n",
       "      <td>U545844741</td>\n",
       "      <td>5.0</td>\n",
       "      <td>wear these in my second hole.  They are perfec...</td>\n",
       "      <td>R065846831</td>\n",
       "      <td>12 21, 2013</td>\n",
       "      <td>Small and flat</td>\n",
       "      <td>1387584000</td>\n",
       "      <td>2</td>\n",
       "      <td>0</td>\n",
       "    </tr>\n",
       "    <tr>\n",
       "      <th>6</th>\n",
       "      <td>I042812088</td>\n",
       "      <td>U879097575</td>\n",
       "      <td>5.0</td>\n",
       "      <td>Bought this for my son. He if very pleased wit...</td>\n",
       "      <td>R524830256</td>\n",
       "      <td>07 7, 2014</td>\n",
       "      <td>Bought this for my son. He if very pleased wit...</td>\n",
       "      <td>1404691200</td>\n",
       "      <td>0</td>\n",
       "      <td>0</td>\n",
       "    </tr>\n",
       "    <tr>\n",
       "      <th>7</th>\n",
       "      <td>I353318513</td>\n",
       "      <td>U264684350</td>\n",
       "      <td>5.0</td>\n",
       "      <td>I heard about these from folks using them in t...</td>\n",
       "      <td>R395555609</td>\n",
       "      <td>11 17, 2013</td>\n",
       "      <td>Spectacular</td>\n",
       "      <td>1384646400</td>\n",
       "      <td>2</td>\n",
       "      <td>0</td>\n",
       "    </tr>\n",
       "    <tr>\n",
       "      <th>8</th>\n",
       "      <td>I733837672</td>\n",
       "      <td>U327027513</td>\n",
       "      <td>3.0</td>\n",
       "      <td>It is like the picture, and is a pale blue. Th...</td>\n",
       "      <td>R750199554</td>\n",
       "      <td>05 7, 2014</td>\n",
       "      <td>Cheap</td>\n",
       "      <td>1399420800</td>\n",
       "      <td>0</td>\n",
       "      <td>0</td>\n",
       "    </tr>\n",
       "    <tr>\n",
       "      <th>9</th>\n",
       "      <td>I377485038</td>\n",
       "      <td>U084509585</td>\n",
       "      <td>5.0</td>\n",
       "      <td>Just put on some thick socks and these are war...</td>\n",
       "      <td>R045146863</td>\n",
       "      <td>11 9, 2013</td>\n",
       "      <td>My son loves these boots.</td>\n",
       "      <td>1383955200</td>\n",
       "      <td>0</td>\n",
       "      <td>0</td>\n",
       "    </tr>\n",
       "    <tr>\n",
       "      <th>10</th>\n",
       "      <td>I091418453</td>\n",
       "      <td>U341760324</td>\n",
       "      <td>2.0</td>\n",
       "      <td>as someone have already said in the review , t...</td>\n",
       "      <td>R256541659</td>\n",
       "      <td>10 21, 2012</td>\n",
       "      <td>too tight</td>\n",
       "      <td>1350777600</td>\n",
       "      <td>1</td>\n",
       "      <td>0</td>\n",
       "    </tr>\n",
       "    <tr>\n",
       "      <th>11</th>\n",
       "      <td>I893531658</td>\n",
       "      <td>U824094685</td>\n",
       "      <td>1.0</td>\n",
       "      <td>Sorry I didn't read the size correctly.  They ...</td>\n",
       "      <td>R151873914</td>\n",
       "      <td>01 7, 2013</td>\n",
       "      <td>Spring and Summer PJs</td>\n",
       "      <td>1357516800</td>\n",
       "      <td>0</td>\n",
       "      <td>1</td>\n",
       "    </tr>\n",
       "    <tr>\n",
       "      <th>12</th>\n",
       "      <td>I844465995</td>\n",
       "      <td>U950017718</td>\n",
       "      <td>5.0</td>\n",
       "      <td>These jeans fit perfectly. I bought a pair fro...</td>\n",
       "      <td>R250274881</td>\n",
       "      <td>06 7, 2013</td>\n",
       "      <td>Great fit and very flattering.</td>\n",
       "      <td>1370563200</td>\n",
       "      <td>0</td>\n",
       "      <td>0</td>\n",
       "    </tr>\n",
       "    <tr>\n",
       "      <th>13</th>\n",
       "      <td>I980442797</td>\n",
       "      <td>U387091708</td>\n",
       "      <td>4.0</td>\n",
       "      <td>I thought by the description that this jacket ...</td>\n",
       "      <td>R750607151</td>\n",
       "      <td>12 11, 2012</td>\n",
       "      <td>fits well but the weight is light</td>\n",
       "      <td>1355184000</td>\n",
       "      <td>0</td>\n",
       "      <td>1</td>\n",
       "    </tr>\n",
       "    <tr>\n",
       "      <th>14</th>\n",
       "      <td>I366470229</td>\n",
       "      <td>U236547875</td>\n",
       "      <td>3.0</td>\n",
       "      <td>The first washing of these socks left them cov...</td>\n",
       "      <td>R470730040</td>\n",
       "      <td>10 13, 2012</td>\n",
       "      <td>Good But Not Great</td>\n",
       "      <td>1350086400</td>\n",
       "      <td>0</td>\n",
       "      <td>0</td>\n",
       "    </tr>\n",
       "    <tr>\n",
       "      <th>15</th>\n",
       "      <td>I736962885</td>\n",
       "      <td>U432872022</td>\n",
       "      <td>5.0</td>\n",
       "      <td>The items fit was true to size. It's a very go...</td>\n",
       "      <td>R511642973</td>\n",
       "      <td>10 15, 2013</td>\n",
       "      <td>Good Quality</td>\n",
       "      <td>1381795200</td>\n",
       "      <td>0</td>\n",
       "      <td>0</td>\n",
       "    </tr>\n",
       "    <tr>\n",
       "      <th>16</th>\n",
       "      <td>I427303859</td>\n",
       "      <td>U270443513</td>\n",
       "      <td>5.0</td>\n",
       "      <td>I have Bali bras that needed a few more inches...</td>\n",
       "      <td>R303267991</td>\n",
       "      <td>01 27, 2014</td>\n",
       "      <td>Very happy with this purchase</td>\n",
       "      <td>1390780800</td>\n",
       "      <td>0</td>\n",
       "      <td>0</td>\n",
       "    </tr>\n",
       "    <tr>\n",
       "      <th>17</th>\n",
       "      <td>I820551196</td>\n",
       "      <td>U588788668</td>\n",
       "      <td>5.0</td>\n",
       "      <td>These are great all-purpose shoes, and they're...</td>\n",
       "      <td>R289549687</td>\n",
       "      <td>05 14, 2014</td>\n",
       "      <td>love these shoes!</td>\n",
       "      <td>1400025600</td>\n",
       "      <td>0</td>\n",
       "      <td>1</td>\n",
       "    </tr>\n",
       "    <tr>\n",
       "      <th>18</th>\n",
       "      <td>I691088214</td>\n",
       "      <td>U517613245</td>\n",
       "      <td>4.0</td>\n",
       "      <td>I bought this sweater as a staple--who doesn't...</td>\n",
       "      <td>R006228042</td>\n",
       "      <td>01 12, 2014</td>\n",
       "      <td>good basic throw on sweater</td>\n",
       "      <td>1389484800</td>\n",
       "      <td>0</td>\n",
       "      <td>1</td>\n",
       "    </tr>\n",
       "    <tr>\n",
       "      <th>19</th>\n",
       "      <td>I900506478</td>\n",
       "      <td>U446914559</td>\n",
       "      <td>5.0</td>\n",
       "      <td>These gloves are perfect for outdoor photo sho...</td>\n",
       "      <td>R302678572</td>\n",
       "      <td>12 13, 2013</td>\n",
       "      <td>Perfect!!!</td>\n",
       "      <td>1386892800</td>\n",
       "      <td>0</td>\n",
       "      <td>0</td>\n",
       "    </tr>\n",
       "    <tr>\n",
       "      <th>20</th>\n",
       "      <td>I498793580</td>\n",
       "      <td>U927802545</td>\n",
       "      <td>5.0</td>\n",
       "      <td>The shirt fits just like it is supposed to. Wa...</td>\n",
       "      <td>R108719602</td>\n",
       "      <td>03 26, 2014</td>\n",
       "      <td>Fun Shirt</td>\n",
       "      <td>1395792000</td>\n",
       "      <td>0</td>\n",
       "      <td>0</td>\n",
       "    </tr>\n",
       "    <tr>\n",
       "      <th>21</th>\n",
       "      <td>I573728606</td>\n",
       "      <td>U932317086</td>\n",
       "      <td>5.0</td>\n",
       "      <td>My 10 year old son who's always worn briefs de...</td>\n",
       "      <td>R753640868</td>\n",
       "      <td>07 17, 2011</td>\n",
       "      <td>Size medium fit my 10 year old son perfectly.</td>\n",
       "      <td>1310860800</td>\n",
       "      <td>1</td>\n",
       "      <td>0</td>\n",
       "    </tr>\n",
       "    <tr>\n",
       "      <th>22</th>\n",
       "      <td>I642774782</td>\n",
       "      <td>U744403576</td>\n",
       "      <td>5.0</td>\n",
       "      <td>bought as a gift for my wife.  Both of us are ...</td>\n",
       "      <td>R308891197</td>\n",
       "      <td>01 1, 2013</td>\n",
       "      <td>Nice</td>\n",
       "      <td>1356998400</td>\n",
       "      <td>0</td>\n",
       "      <td>0</td>\n",
       "    </tr>\n",
       "    <tr>\n",
       "      <th>23</th>\n",
       "      <td>I395036037</td>\n",
       "      <td>U746097202</td>\n",
       "      <td>5.0</td>\n",
       "      <td>I ordered this up a size for my son, he is nor...</td>\n",
       "      <td>R391417975</td>\n",
       "      <td>08 8, 2013</td>\n",
       "      <td>Perfect</td>\n",
       "      <td>1375920000</td>\n",
       "      <td>3</td>\n",
       "      <td>0</td>\n",
       "    </tr>\n",
       "    <tr>\n",
       "      <th>24</th>\n",
       "      <td>I505394208</td>\n",
       "      <td>U146170317</td>\n",
       "      <td>2.0</td>\n",
       "      <td>not Zenana brand and fit is smaller than the n...</td>\n",
       "      <td>R617514726</td>\n",
       "      <td>02 21, 2014</td>\n",
       "      <td>not as described</td>\n",
       "      <td>1392940800</td>\n",
       "      <td>1</td>\n",
       "      <td>1</td>\n",
       "    </tr>\n",
       "    <tr>\n",
       "      <th>25</th>\n",
       "      <td>I747564308</td>\n",
       "      <td>U507300074</td>\n",
       "      <td>2.0</td>\n",
       "      <td>This bra has really nice soft smooth fabric, a...</td>\n",
       "      <td>R898823701</td>\n",
       "      <td>09 26, 2013</td>\n",
       "      <td>Poor design in the cups</td>\n",
       "      <td>1380153600</td>\n",
       "      <td>0</td>\n",
       "      <td>1</td>\n",
       "    </tr>\n",
       "    <tr>\n",
       "      <th>26</th>\n",
       "      <td>I729439171</td>\n",
       "      <td>U895978547</td>\n",
       "      <td>5.0</td>\n",
       "      <td>Having read the reviews here that say these ru...</td>\n",
       "      <td>R343444213</td>\n",
       "      <td>07 15, 2014</td>\n",
       "      <td>US polo jeans size 6</td>\n",
       "      <td>1405382400</td>\n",
       "      <td>0</td>\n",
       "      <td>0</td>\n",
       "    </tr>\n",
       "    <tr>\n",
       "      <th>27</th>\n",
       "      <td>I715003164</td>\n",
       "      <td>U064452096</td>\n",
       "      <td>1.0</td>\n",
       "      <td>Sizing is horrible on these things.they must u...</td>\n",
       "      <td>R678804632</td>\n",
       "      <td>02 18, 2014</td>\n",
       "      <td>way too small</td>\n",
       "      <td>1392681600</td>\n",
       "      <td>3</td>\n",
       "      <td>0</td>\n",
       "    </tr>\n",
       "    <tr>\n",
       "      <th>28</th>\n",
       "      <td>I797983704</td>\n",
       "      <td>U797444357</td>\n",
       "      <td>2.0</td>\n",
       "      <td>I liked the pictured dress and had to order th...</td>\n",
       "      <td>R586792790</td>\n",
       "      <td>05 2, 2014</td>\n",
       "      <td>Odd fitting</td>\n",
       "      <td>1398988800</td>\n",
       "      <td>3</td>\n",
       "      <td>1</td>\n",
       "    </tr>\n",
       "    <tr>\n",
       "      <th>29</th>\n",
       "      <td>I085214504</td>\n",
       "      <td>U165221054</td>\n",
       "      <td>2.0</td>\n",
       "      <td>They fit as expected.  At the time we bought t...</td>\n",
       "      <td>R584968817</td>\n",
       "      <td>01 31, 2014</td>\n",
       "      <td>Just ok</td>\n",
       "      <td>1391126400</td>\n",
       "      <td>0</td>\n",
       "      <td>0</td>\n",
       "    </tr>\n",
       "    <tr>\n",
       "      <th>...</th>\n",
       "      <td>...</td>\n",
       "      <td>...</td>\n",
       "      <td>...</td>\n",
       "      <td>...</td>\n",
       "      <td>...</td>\n",
       "      <td>...</td>\n",
       "      <td>...</td>\n",
       "      <td>...</td>\n",
       "      <td>...</td>\n",
       "      <td>...</td>\n",
       "    </tr>\n",
       "    <tr>\n",
       "      <th>70</th>\n",
       "      <td>I985128535</td>\n",
       "      <td>U337551528</td>\n",
       "      <td>4.0</td>\n",
       "      <td>These are VERY comfortable, a good fit (comfy ...</td>\n",
       "      <td>R670068049</td>\n",
       "      <td>05 19, 2013</td>\n",
       "      <td>comfy, good length, but they flare out at the hem</td>\n",
       "      <td>1368921600</td>\n",
       "      <td>9</td>\n",
       "      <td>1</td>\n",
       "    </tr>\n",
       "    <tr>\n",
       "      <th>71</th>\n",
       "      <td>I280809967</td>\n",
       "      <td>U912498211</td>\n",
       "      <td>2.0</td>\n",
       "      <td>The sandals looked really nice for the price a...</td>\n",
       "      <td>R286490066</td>\n",
       "      <td>05 1, 2014</td>\n",
       "      <td>Way too small</td>\n",
       "      <td>1398902400</td>\n",
       "      <td>0</td>\n",
       "      <td>0</td>\n",
       "    </tr>\n",
       "    <tr>\n",
       "      <th>72</th>\n",
       "      <td>I540956088</td>\n",
       "      <td>U586602759</td>\n",
       "      <td>5.0</td>\n",
       "      <td>I got my first BellaBand last week and already...</td>\n",
       "      <td>R184033448</td>\n",
       "      <td>07 30, 2009</td>\n",
       "      <td>A must-have item</td>\n",
       "      <td>1248912000</td>\n",
       "      <td>5</td>\n",
       "      <td>0</td>\n",
       "    </tr>\n",
       "    <tr>\n",
       "      <th>73</th>\n",
       "      <td>I214500309</td>\n",
       "      <td>U266177758</td>\n",
       "      <td>5.0</td>\n",
       "      <td>I love love LOVE this dress! It's cute and cla...</td>\n",
       "      <td>R939069328</td>\n",
       "      <td>05 4, 2014</td>\n",
       "      <td>Order BIG!</td>\n",
       "      <td>1399161600</td>\n",
       "      <td>0</td>\n",
       "      <td>1</td>\n",
       "    </tr>\n",
       "    <tr>\n",
       "      <th>74</th>\n",
       "      <td>I063719919</td>\n",
       "      <td>U773622992</td>\n",
       "      <td>5.0</td>\n",
       "      <td>It's just what I always wanted - all without h...</td>\n",
       "      <td>R762159920</td>\n",
       "      <td>03 27, 2012</td>\n",
       "      <td>It's just what I always wanted!</td>\n",
       "      <td>1332806400</td>\n",
       "      <td>0</td>\n",
       "      <td>0</td>\n",
       "    </tr>\n",
       "    <tr>\n",
       "      <th>75</th>\n",
       "      <td>I729520477</td>\n",
       "      <td>U500488907</td>\n",
       "      <td>5.0</td>\n",
       "      <td>A LOVELY  AND BEAUTIFUL PIECE OF JEWELRY. I GO...</td>\n",
       "      <td>R455188177</td>\n",
       "      <td>01 14, 2014</td>\n",
       "      <td>BEAUTIFUL</td>\n",
       "      <td>1389657600</td>\n",
       "      <td>3</td>\n",
       "      <td>0</td>\n",
       "    </tr>\n",
       "    <tr>\n",
       "      <th>76</th>\n",
       "      <td>I449764950</td>\n",
       "      <td>U213926918</td>\n",
       "      <td>3.0</td>\n",
       "      <td>Face it, there's nothing pretty about rain pan...</td>\n",
       "      <td>R773639098</td>\n",
       "      <td>07 6, 2014</td>\n",
       "      <td>The Dreaded Corduroy Sound</td>\n",
       "      <td>1404604800</td>\n",
       "      <td>0</td>\n",
       "      <td>0</td>\n",
       "    </tr>\n",
       "    <tr>\n",
       "      <th>77</th>\n",
       "      <td>I585021106</td>\n",
       "      <td>U268390473</td>\n",
       "      <td>4.0</td>\n",
       "      <td>I was expecting a sweater type material, but w...</td>\n",
       "      <td>R614100969</td>\n",
       "      <td>03 4, 2014</td>\n",
       "      <td>Comfy and Cute!</td>\n",
       "      <td>1393891200</td>\n",
       "      <td>0</td>\n",
       "      <td>0</td>\n",
       "    </tr>\n",
       "    <tr>\n",
       "      <th>78</th>\n",
       "      <td>I426865261</td>\n",
       "      <td>U498065186</td>\n",
       "      <td>3.0</td>\n",
       "      <td>I did like the look of the shoe, it's gorgeous...</td>\n",
       "      <td>R006393162</td>\n",
       "      <td>03 11, 2013</td>\n",
       "      <td>Okay</td>\n",
       "      <td>1362960000</td>\n",
       "      <td>1</td>\n",
       "      <td>0</td>\n",
       "    </tr>\n",
       "    <tr>\n",
       "      <th>79</th>\n",
       "      <td>I848445363</td>\n",
       "      <td>U512677873</td>\n",
       "      <td>5.0</td>\n",
       "      <td>i received the underwear in good time and they...</td>\n",
       "      <td>R140143357</td>\n",
       "      <td>11 20, 2012</td>\n",
       "      <td>under there under wear</td>\n",
       "      <td>1353369600</td>\n",
       "      <td>0</td>\n",
       "      <td>0</td>\n",
       "    </tr>\n",
       "    <tr>\n",
       "      <th>80</th>\n",
       "      <td>I485348252</td>\n",
       "      <td>U547336676</td>\n",
       "      <td>5.0</td>\n",
       "      <td>this top was as expected perfect material cool...</td>\n",
       "      <td>R317295707</td>\n",
       "      <td>08 31, 2013</td>\n",
       "      <td>perfect</td>\n",
       "      <td>1377907200</td>\n",
       "      <td>10</td>\n",
       "      <td>0</td>\n",
       "    </tr>\n",
       "    <tr>\n",
       "      <th>81</th>\n",
       "      <td>I533714865</td>\n",
       "      <td>U677887835</td>\n",
       "      <td>4.0</td>\n",
       "      <td>I ordered size 9 and they fit true to size. Th...</td>\n",
       "      <td>R181987982</td>\n",
       "      <td>10 9, 2013</td>\n",
       "      <td>Bargain shoes</td>\n",
       "      <td>1381276800</td>\n",
       "      <td>1</td>\n",
       "      <td>1</td>\n",
       "    </tr>\n",
       "    <tr>\n",
       "      <th>82</th>\n",
       "      <td>I182185467</td>\n",
       "      <td>U577320882</td>\n",
       "      <td>5.0</td>\n",
       "      <td>Great products at affordable prices are very p...</td>\n",
       "      <td>R297726846</td>\n",
       "      <td>01 12, 2014</td>\n",
       "      <td>good</td>\n",
       "      <td>1389484800</td>\n",
       "      <td>0</td>\n",
       "      <td>0</td>\n",
       "    </tr>\n",
       "    <tr>\n",
       "      <th>83</th>\n",
       "      <td>I402154843</td>\n",
       "      <td>U029188938</td>\n",
       "      <td>5.0</td>\n",
       "      <td>I bought this for my granddaughter's first pro...</td>\n",
       "      <td>R183686028</td>\n",
       "      <td>03 8, 2014</td>\n",
       "      <td>Classy purse</td>\n",
       "      <td>1394236800</td>\n",
       "      <td>0</td>\n",
       "      <td>0</td>\n",
       "    </tr>\n",
       "    <tr>\n",
       "      <th>84</th>\n",
       "      <td>I295462385</td>\n",
       "      <td>U293333908</td>\n",
       "      <td>5.0</td>\n",
       "      <td>I bought these shoes for myself for Zumba work...</td>\n",
       "      <td>R559962968</td>\n",
       "      <td>02 21, 2013</td>\n",
       "      <td>Ryka Women's Synergy Cross Training Shoe, Chro...</td>\n",
       "      <td>1361404800</td>\n",
       "      <td>1</td>\n",
       "      <td>0</td>\n",
       "    </tr>\n",
       "    <tr>\n",
       "      <th>85</th>\n",
       "      <td>I242788027</td>\n",
       "      <td>U527310864</td>\n",
       "      <td>5.0</td>\n",
       "      <td>I ordered a size larger than usual expecting t...</td>\n",
       "      <td>R192865857</td>\n",
       "      <td>04 28, 2014</td>\n",
       "      <td>Surprising fit!</td>\n",
       "      <td>1398643200</td>\n",
       "      <td>0</td>\n",
       "      <td>0</td>\n",
       "    </tr>\n",
       "    <tr>\n",
       "      <th>86</th>\n",
       "      <td>I851226823</td>\n",
       "      <td>U147488873</td>\n",
       "      <td>2.0</td>\n",
       "      <td>Wanted so badly to have a pair of Ray Ban Avia...</td>\n",
       "      <td>R716265527</td>\n",
       "      <td>06 11, 2013</td>\n",
       "      <td>Way too big for my face....</td>\n",
       "      <td>1370908800</td>\n",
       "      <td>0</td>\n",
       "      <td>0</td>\n",
       "    </tr>\n",
       "    <tr>\n",
       "      <th>87</th>\n",
       "      <td>I245177978</td>\n",
       "      <td>U381549672</td>\n",
       "      <td>3.0</td>\n",
       "      <td>I bought this skirt larger than I normally buy...</td>\n",
       "      <td>R962465666</td>\n",
       "      <td>04 18, 2014</td>\n",
       "      <td>tye dye versions way smaller</td>\n",
       "      <td>1397779200</td>\n",
       "      <td>5</td>\n",
       "      <td>1</td>\n",
       "    </tr>\n",
       "    <tr>\n",
       "      <th>88</th>\n",
       "      <td>I351734527</td>\n",
       "      <td>U071824257</td>\n",
       "      <td>5.0</td>\n",
       "      <td>I love these shoes.  They're extremely light w...</td>\n",
       "      <td>R924682216</td>\n",
       "      <td>03 18, 2013</td>\n",
       "      <td>Love these Shoes</td>\n",
       "      <td>1363564800</td>\n",
       "      <td>0</td>\n",
       "      <td>0</td>\n",
       "    </tr>\n",
       "    <tr>\n",
       "      <th>89</th>\n",
       "      <td>I447228942</td>\n",
       "      <td>U950821827</td>\n",
       "      <td>5.0</td>\n",
       "      <td>Really a nice looking shoe. I needed something...</td>\n",
       "      <td>R304605844</td>\n",
       "      <td>06 10, 2013</td>\n",
       "      <td>Clarks ankle strap shoe</td>\n",
       "      <td>1370822400</td>\n",
       "      <td>0</td>\n",
       "      <td>0</td>\n",
       "    </tr>\n",
       "    <tr>\n",
       "      <th>90</th>\n",
       "      <td>I433584784</td>\n",
       "      <td>U255756056</td>\n",
       "      <td>5.0</td>\n",
       "      <td>Faded out somewhat, but it fits great.  Stay t...</td>\n",
       "      <td>R895475196</td>\n",
       "      <td>07 10, 2014</td>\n",
       "      <td>Fits great</td>\n",
       "      <td>1404950400</td>\n",
       "      <td>0</td>\n",
       "      <td>0</td>\n",
       "    </tr>\n",
       "    <tr>\n",
       "      <th>91</th>\n",
       "      <td>I105572154</td>\n",
       "      <td>U325025095</td>\n",
       "      <td>4.0</td>\n",
       "      <td>Wash up well.  Good support.  Makes me look go...</td>\n",
       "      <td>R144011557</td>\n",
       "      <td>12 1, 2012</td>\n",
       "      <td>Flattering</td>\n",
       "      <td>1354320000</td>\n",
       "      <td>0</td>\n",
       "      <td>0</td>\n",
       "    </tr>\n",
       "    <tr>\n",
       "      <th>92</th>\n",
       "      <td>I109093466</td>\n",
       "      <td>U142937241</td>\n",
       "      <td>3.0</td>\n",
       "      <td>I know of the legend of the three wolf one moo...</td>\n",
       "      <td>R225104972</td>\n",
       "      <td>05 29, 2014</td>\n",
       "      <td>Not quite the power I was looking for.</td>\n",
       "      <td>1401321600</td>\n",
       "      <td>0</td>\n",
       "      <td>1</td>\n",
       "    </tr>\n",
       "    <tr>\n",
       "      <th>93</th>\n",
       "      <td>I557557706</td>\n",
       "      <td>U718024247</td>\n",
       "      <td>5.0</td>\n",
       "      <td>I ordered these in a 9 Wide,and they fit perfe...</td>\n",
       "      <td>R211106778</td>\n",
       "      <td>10 8, 2010</td>\n",
       "      <td>Keds Leather Sneaker</td>\n",
       "      <td>1286496000</td>\n",
       "      <td>3</td>\n",
       "      <td>1</td>\n",
       "    </tr>\n",
       "    <tr>\n",
       "      <th>94</th>\n",
       "      <td>I371266423</td>\n",
       "      <td>U677631977</td>\n",
       "      <td>5.0</td>\n",
       "      <td>I'm a 34 DDD so I get the 36 DD and it works g...</td>\n",
       "      <td>R737155285</td>\n",
       "      <td>06 4, 2014</td>\n",
       "      <td>Works great!</td>\n",
       "      <td>1401840000</td>\n",
       "      <td>0</td>\n",
       "      <td>1</td>\n",
       "    </tr>\n",
       "    <tr>\n",
       "      <th>95</th>\n",
       "      <td>I423083467</td>\n",
       "      <td>U994869037</td>\n",
       "      <td>5.0</td>\n",
       "      <td>i ordered these in M (a size smaller then i us...</td>\n",
       "      <td>R963297433</td>\n",
       "      <td>12 23, 2013</td>\n",
       "      <td>Don't believe them!!!!! Not too small!!!</td>\n",
       "      <td>1387756800</td>\n",
       "      <td>0</td>\n",
       "      <td>1</td>\n",
       "    </tr>\n",
       "    <tr>\n",
       "      <th>96</th>\n",
       "      <td>I822988927</td>\n",
       "      <td>U987982759</td>\n",
       "      <td>5.0</td>\n",
       "      <td>A lot of room for my son to grow. Good quality...</td>\n",
       "      <td>R085624499</td>\n",
       "      <td>03 11, 2014</td>\n",
       "      <td>Shorts</td>\n",
       "      <td>1394496000</td>\n",
       "      <td>0</td>\n",
       "      <td>0</td>\n",
       "    </tr>\n",
       "    <tr>\n",
       "      <th>97</th>\n",
       "      <td>I254049415</td>\n",
       "      <td>U152240274</td>\n",
       "      <td>5.0</td>\n",
       "      <td>im 5\"6  120lbs my chest size is a 36\".  i read...</td>\n",
       "      <td>R908832882</td>\n",
       "      <td>08 6, 2013</td>\n",
       "      <td>runs small</td>\n",
       "      <td>1375747200</td>\n",
       "      <td>17</td>\n",
       "      <td>0</td>\n",
       "    </tr>\n",
       "    <tr>\n",
       "      <th>98</th>\n",
       "      <td>I849087567</td>\n",
       "      <td>U380735283</td>\n",
       "      <td>5.0</td>\n",
       "      <td>I love this bra!  I'm a 44DD and I love the de...</td>\n",
       "      <td>R424538323</td>\n",
       "      <td>02 18, 2014</td>\n",
       "      <td>Great fit!</td>\n",
       "      <td>1392681600</td>\n",
       "      <td>1</td>\n",
       "      <td>0</td>\n",
       "    </tr>\n",
       "    <tr>\n",
       "      <th>99</th>\n",
       "      <td>I886316852</td>\n",
       "      <td>U747651499</td>\n",
       "      <td>4.0</td>\n",
       "      <td>PROS:-I have not had any trouble with these pa...</td>\n",
       "      <td>R221413918</td>\n",
       "      <td>10 18, 2012</td>\n",
       "      <td>PROS &amp; CONS</td>\n",
       "      <td>1350518400</td>\n",
       "      <td>0</td>\n",
       "      <td>1</td>\n",
       "    </tr>\n",
       "  </tbody>\n",
       "</table>\n",
       "<p>100 rows × 10 columns</p>\n",
       "</div>"
      ],
      "text/plain": [
       "        itemID  reviewerID  rating  \\\n",
       "0   I520932398  U816789534     3.0   \n",
       "1   I969532331  U987148846     4.0   \n",
       "2   I149943341  U628436634     5.0   \n",
       "3   I909025835  U924107228     5.0   \n",
       "4   I228439768  U060135484     4.0   \n",
       "5   I408726477  U545844741     5.0   \n",
       "6   I042812088  U879097575     5.0   \n",
       "7   I353318513  U264684350     5.0   \n",
       "8   I733837672  U327027513     3.0   \n",
       "9   I377485038  U084509585     5.0   \n",
       "10  I091418453  U341760324     2.0   \n",
       "11  I893531658  U824094685     1.0   \n",
       "12  I844465995  U950017718     5.0   \n",
       "13  I980442797  U387091708     4.0   \n",
       "14  I366470229  U236547875     3.0   \n",
       "15  I736962885  U432872022     5.0   \n",
       "16  I427303859  U270443513     5.0   \n",
       "17  I820551196  U588788668     5.0   \n",
       "18  I691088214  U517613245     4.0   \n",
       "19  I900506478  U446914559     5.0   \n",
       "20  I498793580  U927802545     5.0   \n",
       "21  I573728606  U932317086     5.0   \n",
       "22  I642774782  U744403576     5.0   \n",
       "23  I395036037  U746097202     5.0   \n",
       "24  I505394208  U146170317     2.0   \n",
       "25  I747564308  U507300074     2.0   \n",
       "26  I729439171  U895978547     5.0   \n",
       "27  I715003164  U064452096     1.0   \n",
       "28  I797983704  U797444357     2.0   \n",
       "29  I085214504  U165221054     2.0   \n",
       "..         ...         ...     ...   \n",
       "70  I985128535  U337551528     4.0   \n",
       "71  I280809967  U912498211     2.0   \n",
       "72  I540956088  U586602759     5.0   \n",
       "73  I214500309  U266177758     5.0   \n",
       "74  I063719919  U773622992     5.0   \n",
       "75  I729520477  U500488907     5.0   \n",
       "76  I449764950  U213926918     3.0   \n",
       "77  I585021106  U268390473     4.0   \n",
       "78  I426865261  U498065186     3.0   \n",
       "79  I848445363  U512677873     5.0   \n",
       "80  I485348252  U547336676     5.0   \n",
       "81  I533714865  U677887835     4.0   \n",
       "82  I182185467  U577320882     5.0   \n",
       "83  I402154843  U029188938     5.0   \n",
       "84  I295462385  U293333908     5.0   \n",
       "85  I242788027  U527310864     5.0   \n",
       "86  I851226823  U147488873     2.0   \n",
       "87  I245177978  U381549672     3.0   \n",
       "88  I351734527  U071824257     5.0   \n",
       "89  I447228942  U950821827     5.0   \n",
       "90  I433584784  U255756056     5.0   \n",
       "91  I105572154  U325025095     4.0   \n",
       "92  I109093466  U142937241     3.0   \n",
       "93  I557557706  U718024247     5.0   \n",
       "94  I371266423  U677631977     5.0   \n",
       "95  I423083467  U994869037     5.0   \n",
       "96  I822988927  U987982759     5.0   \n",
       "97  I254049415  U152240274     5.0   \n",
       "98  I849087567  U380735283     5.0   \n",
       "99  I886316852  U747651499     4.0   \n",
       "\n",
       "                                           reviewText  reviewHash  \\\n",
       "0   I ordered according to the size chart but it's...  R157684793   \n",
       "1   Super thin but really cute and not cheap-looki...  R732719858   \n",
       "2   It was a present for my sis, and she loves Fle...  R352659313   \n",
       "3   I love this thing!  I guess they don't make th...  R277416618   \n",
       "4   I liked it and I wear it...it's a little bit s...  R645892076   \n",
       "5   wear these in my second hole.  They are perfec...  R065846831   \n",
       "6   Bought this for my son. He if very pleased wit...  R524830256   \n",
       "7   I heard about these from folks using them in t...  R395555609   \n",
       "8   It is like the picture, and is a pale blue. Th...  R750199554   \n",
       "9   Just put on some thick socks and these are war...  R045146863   \n",
       "10  as someone have already said in the review , t...  R256541659   \n",
       "11  Sorry I didn't read the size correctly.  They ...  R151873914   \n",
       "12  These jeans fit perfectly. I bought a pair fro...  R250274881   \n",
       "13  I thought by the description that this jacket ...  R750607151   \n",
       "14  The first washing of these socks left them cov...  R470730040   \n",
       "15  The items fit was true to size. It's a very go...  R511642973   \n",
       "16  I have Bali bras that needed a few more inches...  R303267991   \n",
       "17  These are great all-purpose shoes, and they're...  R289549687   \n",
       "18  I bought this sweater as a staple--who doesn't...  R006228042   \n",
       "19  These gloves are perfect for outdoor photo sho...  R302678572   \n",
       "20  The shirt fits just like it is supposed to. Wa...  R108719602   \n",
       "21  My 10 year old son who's always worn briefs de...  R753640868   \n",
       "22  bought as a gift for my wife.  Both of us are ...  R308891197   \n",
       "23  I ordered this up a size for my son, he is nor...  R391417975   \n",
       "24  not Zenana brand and fit is smaller than the n...  R617514726   \n",
       "25  This bra has really nice soft smooth fabric, a...  R898823701   \n",
       "26  Having read the reviews here that say these ru...  R343444213   \n",
       "27  Sizing is horrible on these things.they must u...  R678804632   \n",
       "28  I liked the pictured dress and had to order th...  R586792790   \n",
       "29  They fit as expected.  At the time we bought t...  R584968817   \n",
       "..                                                ...         ...   \n",
       "70  These are VERY comfortable, a good fit (comfy ...  R670068049   \n",
       "71  The sandals looked really nice for the price a...  R286490066   \n",
       "72  I got my first BellaBand last week and already...  R184033448   \n",
       "73  I love love LOVE this dress! It's cute and cla...  R939069328   \n",
       "74  It's just what I always wanted - all without h...  R762159920   \n",
       "75  A LOVELY  AND BEAUTIFUL PIECE OF JEWELRY. I GO...  R455188177   \n",
       "76  Face it, there's nothing pretty about rain pan...  R773639098   \n",
       "77  I was expecting a sweater type material, but w...  R614100969   \n",
       "78  I did like the look of the shoe, it's gorgeous...  R006393162   \n",
       "79  i received the underwear in good time and they...  R140143357   \n",
       "80  this top was as expected perfect material cool...  R317295707   \n",
       "81  I ordered size 9 and they fit true to size. Th...  R181987982   \n",
       "82  Great products at affordable prices are very p...  R297726846   \n",
       "83  I bought this for my granddaughter's first pro...  R183686028   \n",
       "84  I bought these shoes for myself for Zumba work...  R559962968   \n",
       "85  I ordered a size larger than usual expecting t...  R192865857   \n",
       "86  Wanted so badly to have a pair of Ray Ban Avia...  R716265527   \n",
       "87  I bought this skirt larger than I normally buy...  R962465666   \n",
       "88  I love these shoes.  They're extremely light w...  R924682216   \n",
       "89  Really a nice looking shoe. I needed something...  R304605844   \n",
       "90  Faded out somewhat, but it fits great.  Stay t...  R895475196   \n",
       "91  Wash up well.  Good support.  Makes me look go...  R144011557   \n",
       "92  I know of the legend of the three wolf one moo...  R225104972   \n",
       "93  I ordered these in a 9 Wide,and they fit perfe...  R211106778   \n",
       "94  I'm a 34 DDD so I get the 36 DD and it works g...  R737155285   \n",
       "95  i ordered these in M (a size smaller then i us...  R963297433   \n",
       "96  A lot of room for my son to grow. Good quality...  R085624499   \n",
       "97  im 5\"6  120lbs my chest size is a 36\".  i read...  R908832882   \n",
       "98  I love this bra!  I'm a 44DD and I love the de...  R424538323   \n",
       "99  PROS:-I have not had any trouble with these pa...  R221413918   \n",
       "\n",
       "     reviewTime                                            summary  \\\n",
       "0   07 15, 2011                                          Too small   \n",
       "1   07 17, 2013                                         Fun hoodie   \n",
       "2    12 8, 2013                                  A Perfect hook up   \n",
       "3   11 22, 2012                               I love this thing...   \n",
       "4    04 1, 2014                                      I liked it...   \n",
       "5   12 21, 2013                                     Small and flat   \n",
       "6    07 7, 2014  Bought this for my son. He if very pleased wit...   \n",
       "7   11 17, 2013                                        Spectacular   \n",
       "8    05 7, 2014                                              Cheap   \n",
       "9    11 9, 2013                          My son loves these boots.   \n",
       "10  10 21, 2012                                          too tight   \n",
       "11   01 7, 2013                              Spring and Summer PJs   \n",
       "12   06 7, 2013                     Great fit and very flattering.   \n",
       "13  12 11, 2012                  fits well but the weight is light   \n",
       "14  10 13, 2012                                 Good But Not Great   \n",
       "15  10 15, 2013                                       Good Quality   \n",
       "16  01 27, 2014                      Very happy with this purchase   \n",
       "17  05 14, 2014                                  love these shoes!   \n",
       "18  01 12, 2014                        good basic throw on sweater   \n",
       "19  12 13, 2013                                         Perfect!!!   \n",
       "20  03 26, 2014                                          Fun Shirt   \n",
       "21  07 17, 2011      Size medium fit my 10 year old son perfectly.   \n",
       "22   01 1, 2013                                               Nice   \n",
       "23   08 8, 2013                                            Perfect   \n",
       "24  02 21, 2014                                   not as described   \n",
       "25  09 26, 2013                            Poor design in the cups   \n",
       "26  07 15, 2014                               US polo jeans size 6   \n",
       "27  02 18, 2014                                      way too small   \n",
       "28   05 2, 2014                                        Odd fitting   \n",
       "29  01 31, 2014                                            Just ok   \n",
       "..          ...                                                ...   \n",
       "70  05 19, 2013  comfy, good length, but they flare out at the hem   \n",
       "71   05 1, 2014                                      Way too small   \n",
       "72  07 30, 2009                                   A must-have item   \n",
       "73   05 4, 2014                                         Order BIG!   \n",
       "74  03 27, 2012                    It's just what I always wanted!   \n",
       "75  01 14, 2014                                          BEAUTIFUL   \n",
       "76   07 6, 2014                         The Dreaded Corduroy Sound   \n",
       "77   03 4, 2014                                    Comfy and Cute!   \n",
       "78  03 11, 2013                                               Okay   \n",
       "79  11 20, 2012                             under there under wear   \n",
       "80  08 31, 2013                                            perfect   \n",
       "81   10 9, 2013                                      Bargain shoes   \n",
       "82  01 12, 2014                                               good   \n",
       "83   03 8, 2014                                       Classy purse   \n",
       "84  02 21, 2013  Ryka Women's Synergy Cross Training Shoe, Chro...   \n",
       "85  04 28, 2014                                    Surprising fit!   \n",
       "86  06 11, 2013                        Way too big for my face....   \n",
       "87  04 18, 2014                       tye dye versions way smaller   \n",
       "88  03 18, 2013                                   Love these Shoes   \n",
       "89  06 10, 2013                            Clarks ankle strap shoe   \n",
       "90  07 10, 2014                                         Fits great   \n",
       "91   12 1, 2012                                         Flattering   \n",
       "92  05 29, 2014             Not quite the power I was looking for.   \n",
       "93   10 8, 2010                               Keds Leather Sneaker   \n",
       "94   06 4, 2014                                       Works great!   \n",
       "95  12 23, 2013           Don't believe them!!!!! Not too small!!!   \n",
       "96  03 11, 2014                                             Shorts   \n",
       "97   08 6, 2013                                         runs small   \n",
       "98  02 18, 2014                                         Great fit!   \n",
       "99  10 18, 2012                                        PROS & CONS   \n",
       "\n",
       "    unixReviewTime  outOf  helpgroup  \n",
       "0       1310688000      2          0  \n",
       "1       1374019200      0          1  \n",
       "2       1386460800      1          0  \n",
       "3       1353542400      1          0  \n",
       "4       1396310400      0          1  \n",
       "5       1387584000      2          0  \n",
       "6       1404691200      0          0  \n",
       "7       1384646400      2          0  \n",
       "8       1399420800      0          0  \n",
       "9       1383955200      0          0  \n",
       "10      1350777600      1          0  \n",
       "11      1357516800      0          1  \n",
       "12      1370563200      0          0  \n",
       "13      1355184000      0          1  \n",
       "14      1350086400      0          0  \n",
       "15      1381795200      0          0  \n",
       "16      1390780800      0          0  \n",
       "17      1400025600      0          1  \n",
       "18      1389484800      0          1  \n",
       "19      1386892800      0          0  \n",
       "20      1395792000      0          0  \n",
       "21      1310860800      1          0  \n",
       "22      1356998400      0          0  \n",
       "23      1375920000      3          0  \n",
       "24      1392940800      1          1  \n",
       "25      1380153600      0          1  \n",
       "26      1405382400      0          0  \n",
       "27      1392681600      3          0  \n",
       "28      1398988800      3          1  \n",
       "29      1391126400      0          0  \n",
       "..             ...    ...        ...  \n",
       "70      1368921600      9          1  \n",
       "71      1398902400      0          0  \n",
       "72      1248912000      5          0  \n",
       "73      1399161600      0          1  \n",
       "74      1332806400      0          0  \n",
       "75      1389657600      3          0  \n",
       "76      1404604800      0          0  \n",
       "77      1393891200      0          0  \n",
       "78      1362960000      1          0  \n",
       "79      1353369600      0          0  \n",
       "80      1377907200     10          0  \n",
       "81      1381276800      1          1  \n",
       "82      1389484800      0          0  \n",
       "83      1394236800      0          0  \n",
       "84      1361404800      1          0  \n",
       "85      1398643200      0          0  \n",
       "86      1370908800      0          0  \n",
       "87      1397779200      5          1  \n",
       "88      1363564800      0          0  \n",
       "89      1370822400      0          0  \n",
       "90      1404950400      0          0  \n",
       "91      1354320000      0          0  \n",
       "92      1401321600      0          1  \n",
       "93      1286496000      3          1  \n",
       "94      1401840000      0          1  \n",
       "95      1387756800      0          1  \n",
       "96      1394496000      0          0  \n",
       "97      1375747200     17          0  \n",
       "98      1392681600      1          0  \n",
       "99      1350518400      0          1  \n",
       "\n",
       "[100 rows x 10 columns]"
      ]
     },
     "execution_count": 79,
     "metadata": {},
     "output_type": "execute_result"
    }
   ],
   "source": [
    "test_df['helpgroup'] = list(prediction_test)\n",
    "test_df.head(100)"
   ]
  },
  {
   "cell_type": "markdown",
   "metadata": {},
   "source": [
    "## Use our model to predict number of help in test data"
   ]
  },
  {
   "cell_type": "code",
   "execution_count": 442,
   "metadata": {
    "collapsed": true
   },
   "outputs": [],
   "source": [
    "X = df[['outOf']].as_matrix(columns=None)\n",
    "y = df['nHelpful']\n",
    "theta,residuals,rank,s = np.linalg.lstsq(X, y)\n",
    "X_test = test_df[['outOf']].as_matrix(columns=None)\n",
    "predictions_test = np.dot(X_test, theta)"
   ]
  },
  {
   "cell_type": "code",
   "execution_count": 443,
   "metadata": {
    "collapsed": true
   },
   "outputs": [],
   "source": [
    "predictions_test = list(predictions_test)\n",
    "predictions = []\n",
    "for i in predictions_test:\n",
    "    predictions.append(round(i))"
   ]
  },
  {
   "cell_type": "code",
   "execution_count": 447,
   "metadata": {},
   "outputs": [
    {
     "data": {
      "text/html": [
       "<div>\n",
       "<table border=\"1\" class=\"dataframe\">\n",
       "  <thead>\n",
       "    <tr style=\"text-align: right;\">\n",
       "      <th></th>\n",
       "      <th>itemID</th>\n",
       "      <th>reviewerID</th>\n",
       "      <th>rating</th>\n",
       "      <th>reviewText</th>\n",
       "      <th>reviewHash</th>\n",
       "      <th>reviewTime</th>\n",
       "      <th>summary</th>\n",
       "      <th>unixReviewTime</th>\n",
       "      <th>outOf</th>\n",
       "      <th>predictions</th>\n",
       "    </tr>\n",
       "  </thead>\n",
       "  <tbody>\n",
       "    <tr>\n",
       "      <th>0</th>\n",
       "      <td>I520932398</td>\n",
       "      <td>U816789534</td>\n",
       "      <td>3.0</td>\n",
       "      <td>I ordered according to the size chart but it's...</td>\n",
       "      <td>R157684793</td>\n",
       "      <td>07 15, 2011</td>\n",
       "      <td>Too small</td>\n",
       "      <td>1310688000</td>\n",
       "      <td>2</td>\n",
       "      <td>2.0</td>\n",
       "    </tr>\n",
       "    <tr>\n",
       "      <th>1</th>\n",
       "      <td>I969532331</td>\n",
       "      <td>U987148846</td>\n",
       "      <td>4.0</td>\n",
       "      <td>Super thin but really cute and not cheap-looki...</td>\n",
       "      <td>R732719858</td>\n",
       "      <td>07 17, 2013</td>\n",
       "      <td>Fun hoodie</td>\n",
       "      <td>1374019200</td>\n",
       "      <td>0</td>\n",
       "      <td>0.0</td>\n",
       "    </tr>\n",
       "    <tr>\n",
       "      <th>2</th>\n",
       "      <td>I149943341</td>\n",
       "      <td>U628436634</td>\n",
       "      <td>5.0</td>\n",
       "      <td>It was a present for my sis, and she loves Fle...</td>\n",
       "      <td>R352659313</td>\n",
       "      <td>12 8, 2013</td>\n",
       "      <td>A Perfect hook up</td>\n",
       "      <td>1386460800</td>\n",
       "      <td>1</td>\n",
       "      <td>1.0</td>\n",
       "    </tr>\n",
       "    <tr>\n",
       "      <th>3</th>\n",
       "      <td>I909025835</td>\n",
       "      <td>U924107228</td>\n",
       "      <td>5.0</td>\n",
       "      <td>I love this thing!  I guess they don't make th...</td>\n",
       "      <td>R277416618</td>\n",
       "      <td>11 22, 2012</td>\n",
       "      <td>I love this thing...</td>\n",
       "      <td>1353542400</td>\n",
       "      <td>1</td>\n",
       "      <td>1.0</td>\n",
       "    </tr>\n",
       "    <tr>\n",
       "      <th>4</th>\n",
       "      <td>I228439768</td>\n",
       "      <td>U060135484</td>\n",
       "      <td>4.0</td>\n",
       "      <td>I liked it and I wear it...it's a little bit s...</td>\n",
       "      <td>R645892076</td>\n",
       "      <td>04 1, 2014</td>\n",
       "      <td>I liked it...</td>\n",
       "      <td>1396310400</td>\n",
       "      <td>0</td>\n",
       "      <td>0.0</td>\n",
       "    </tr>\n",
       "  </tbody>\n",
       "</table>\n",
       "</div>"
      ],
      "text/plain": [
       "       itemID  reviewerID  rating  \\\n",
       "0  I520932398  U816789534     3.0   \n",
       "1  I969532331  U987148846     4.0   \n",
       "2  I149943341  U628436634     5.0   \n",
       "3  I909025835  U924107228     5.0   \n",
       "4  I228439768  U060135484     4.0   \n",
       "\n",
       "                                          reviewText  reviewHash   reviewTime  \\\n",
       "0  I ordered according to the size chart but it's...  R157684793  07 15, 2011   \n",
       "1  Super thin but really cute and not cheap-looki...  R732719858  07 17, 2013   \n",
       "2  It was a present for my sis, and she loves Fle...  R352659313   12 8, 2013   \n",
       "3  I love this thing!  I guess they don't make th...  R277416618  11 22, 2012   \n",
       "4  I liked it and I wear it...it's a little bit s...  R645892076   04 1, 2014   \n",
       "\n",
       "                summary  unixReviewTime  outOf  predictions  \n",
       "0             Too small      1310688000      2          2.0  \n",
       "1            Fun hoodie      1374019200      0          0.0  \n",
       "2     A Perfect hook up      1386460800      1          1.0  \n",
       "3  I love this thing...      1353542400      1          1.0  \n",
       "4         I liked it...      1396310400      0          0.0  "
      ]
     },
     "execution_count": 447,
     "metadata": {},
     "output_type": "execute_result"
    }
   ],
   "source": [
    "test_df['predictions'] = predictions\n",
    "test_df.head()"
   ]
  },
  {
   "cell_type": "code",
   "execution_count": 451,
   "metadata": {
    "collapsed": true
   },
   "outputs": [],
   "source": [
    "predictions = open(\"predictions_Helpful.txt\", 'w')\n",
    "a = test_df['reviewerID']\n",
    "b = test_df['itemID']\n",
    "c = test_df['outOf']\n",
    "d = test_df['predictions']\n",
    "for i in range(len(a)):\n",
    "    e = a[i]\n",
    "    f = b[i]\n",
    "    g = c[i]\n",
    "    h = d[i]\n",
    "    predictions.write(e + '-' + f + '-' + str(g) + ',' + str(h) + '\\n')\n",
    "predictions.close()"
   ]
  },
  {
   "cell_type": "code",
   "execution_count": null,
   "metadata": {
    "collapsed": true
   },
   "outputs": [],
   "source": []
  }
 ],
 "metadata": {
  "kernelspec": {
   "display_name": "Python [conda env:py36]",
   "language": "python",
   "name": "conda-env-py36-py"
  },
  "language_info": {
   "codemirror_mode": {
    "name": "ipython",
    "version": 3
   },
   "file_extension": ".py",
   "mimetype": "text/x-python",
   "name": "python",
   "nbconvert_exporter": "python",
   "pygments_lexer": "ipython3",
   "version": "3.6.1"
  }
 },
 "nbformat": 4,
 "nbformat_minor": 2
}
