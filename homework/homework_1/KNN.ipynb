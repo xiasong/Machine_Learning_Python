{
 "cells": [
  {
   "cell_type": "code",
   "execution_count": 83,
   "metadata": {
    "collapsed": false
   },
   "outputs": [],
   "source": [
    "from sklearn import datasets\n",
    "import pydotplus\n",
    "from sklearn.model_selection import train_test_split\n",
    "import pandas as pd\n",
    "import numpy as np\n",
    "from sklearn.neighbors import KNeighborsClassifier\n",
    "import matplotlib.pyplot as plt"
   ]
  },
  {
   "cell_type": "code",
   "execution_count": 2,
   "metadata": {
    "collapsed": true
   },
   "outputs": [],
   "source": [
    "# Load the wine dataset\n",
    "wtestdata = pd.read_csv('wine_test_data.csv')\n",
    "wtestlabels = pd.read_csv('wine_test_labels.csv')\n",
    "wtraindata = pd.read_csv('wine_train_data.csv')\n",
    "wtrainlabels = pd.read_csv('wine_train_labels.csv')\n",
    "wvaldata = pd.read_csv('wine_val_data.csv')\n",
    "wvallabels = pd.read_csv('wine_val_labels.csv')"
   ]
  },
  {
   "cell_type": "code",
   "execution_count": 19,
   "metadata": {
    "collapsed": true
   },
   "outputs": [],
   "source": [
    "#Concat train data and validation data\n",
    "X_trainframes = [wtraindata, wvaldata]\n",
    "Y_trainframes = [wtrainlabels,wvallabels]\n",
    "X_train = pd.concat(X_trainframes)\n",
    "Y_train = pd.concat(Y_trainframes)"
   ]
  },
  {
   "cell_type": "code",
   "execution_count": 14,
   "metadata": {
    "collapsed": true
   },
   "outputs": [],
   "source": [
    "#Normalize data\n",
    "X_train_norm=(X_train-X_train.mean())/X_train.std()\n",
    "wtraindata_norm=(wtraindata-X_train.mean())/X_train.std()\n",
    "wvaldata_norm=(wvaldata-X_train.mean())/X_train.std()\n",
    "wtestdata_norm=(wtestdata-X_train.mean())/X_train.std()\n",
    "#print(X_train_norm.mean(), X_train_norm.std())\n",
    "#print(wtraindata_norm.mean(), wtraindata_norm.std())\n",
    "#print(wvaldata_norm.mean(), wvaldata_norm.std())\n",
    "#print(wtestdata_norm.mean(), wtestdata_norm.std())"
   ]
  },
  {
   "cell_type": "markdown",
   "metadata": {},
   "source": [
    "Question 7: Train k-nn model on train + validation data and report accuracy\n",
    "on test data. Use Euclidean distance and k=3. (1 mark)"
   ]
  },
  {
   "cell_type": "code",
   "execution_count": 48,
   "metadata": {
    "collapsed": false
   },
   "outputs": [
    {
     "name": "stdout",
     "output_type": "stream",
     "text": [
      "Accuracy = 0.871794871795 at k = 3\n"
     ]
    }
   ],
   "source": [
    "clf = KNeighborsClassifier(3, p=2) # p = 1 corresponds to Manhattan distance\n",
    "# p = 2 gives Euclidean distance (default is p = 2 and hence, Euclidean distance)\n",
    "clf.fit(X_train_norm, Y_train.values.ravel())\n",
    "predictions = clf.predict(wtestdata_norm)\n",
    "wtestlab = list(wtestlabels['class'])\n",
    "accuracy = np.sum(predictions == wtestlab)/(len(predictions))\n",
    "print (\"Accuracy = \" + str(accuracy) + \" at k = 3\")"
   ]
  },
  {
   "cell_type": "markdown",
   "metadata": {},
   "source": [
    "Question 8: Train the model on train data for distance metrics de\f",
    "ned by `1,\n",
    "`inf , `2. Report the accuracies on the validation data. Select the best metric\n",
    "and report the accuracy on the test data for the selected metric. Use k=3. (1\n",
    "mark)"
   ]
  },
  {
   "cell_type": "code",
   "execution_count": 65,
   "metadata": {
    "collapsed": false
   },
   "outputs": [
    {
     "name": "stdout",
     "output_type": "stream",
     "text": [
      "Accuracy = 0.948717948718 using distance metric manhattan\n",
      "Accuracy = 0.923076923077 using distance metric chebyshev\n",
      "Accuracy = 0.923076923077 using distance metric euclidean\n"
     ]
    }
   ],
   "source": [
    "for i in ('manhattan','chebyshev','euclidean'):\n",
    "    clf = KNeighborsClassifier(3, metric=i)\n",
    "    clf.fit(wtraindata_norm, wtrainlabels.values.ravel())\n",
    "    predictions = clf.predict(wvaldata_norm)\n",
    "    wvallab = list(wvallabels['class'])\n",
    "    accuracy = np.sum(predictions == wvallab)/(len(predictions))\n",
    "    print (\"Accuracy = \" + str(accuracy) + \" using distance metric %s\" %i)"
   ]
  },
  {
   "cell_type": "markdown",
   "metadata": {},
   "source": [
    "Results showed us that the manhattan distance is te best metric for our validation data"
   ]
  },
  {
   "cell_type": "code",
   "execution_count": 52,
   "metadata": {
    "collapsed": false
   },
   "outputs": [
    {
     "name": "stdout",
     "output_type": "stream",
     "text": [
      "Accuracy = 0.948717948718 at k = 3\n"
     ]
    }
   ],
   "source": [
    "#test data predition\n",
    "clf = KNeighborsClassifier(3, metric='manhattan')\n",
    "clf.fit(wtraindata_norm, wtrainlabels.values.ravel())\n",
    "predictions = clf.predict(wtestdata_norm)\n",
    "wtestlab = list(wtestlabels['class'])\n",
    "accuracy = np.sum(predictions == wtestlab)/(len(predictions))\n",
    "print (\"Accuracy = \" + str(accuracy) + \" at k = 3\")"
   ]
  },
  {
   "cell_type": "markdown",
   "metadata": {},
   "source": [
    "Question 9: Train the k-nn model on train data for k=1,3,5,7,9. Report and\n",
    "plot the accuracies on the validation data. Select the best 'k' value and report\n",
    "the accuracy on the test data for the selected 'k'. Use Euclidean distance. (2\n",
    "marks)"
   ]
  },
  {
   "cell_type": "code",
   "execution_count": 84,
   "metadata": {
    "collapsed": false
   },
   "outputs": [
    {
     "name": "stdout",
     "output_type": "stream",
     "text": [
      "Accuracy = 0.948717948718 at k = 1\n",
      "Accuracy = 0.923076923077 at k = 3\n",
      "Accuracy = 0.948717948718 at k = 5\n",
      "Accuracy = 0.974358974359 at k = 7\n",
      "Accuracy = 0.948717948718 at k = 9\n"
     ]
    }
   ],
   "source": [
    "accu=pd.DataFrame(columns=['kvalue','accuracy'])\n",
    "for i in (1,3,5,7,9):\n",
    "    clf = KNeighborsClassifier(i, p=2)\n",
    "    clf.fit(wtraindata_norm, wtrainlabels.values.ravel())\n",
    "    predictions = clf.predict(wvaldata_norm)\n",
    "    wvallab = list(wvallabels['class'])\n",
    "    accuracy = np.sum(predictions == wvallab)/(len(predictions))\n",
    "    data = pd.DataFrame({'kvalue': [i],'accuracy':[accuracy]})\n",
    "    accu=accu.append(data)\n",
    "    print (\"Accuracy = \" + str(accuracy) + \" at k = %s\" % i)"
   ]
  },
  {
   "cell_type": "markdown",
   "metadata": {},
   "source": [
    "Results showed us when we use k = 7, we got the highest accuracy for our validation data"
   ]
  },
  {
   "cell_type": "code",
   "execution_count": 90,
   "metadata": {
    "collapsed": false
   },
   "outputs": [
    {
     "data": {
      "image/png": "[encoded data removed]",
      "text/plain": [
       "<matplotlib.figure.Figure at 0x116d54908>"
      ]
     },
     "metadata": {},
     "output_type": "display_data"
    }
   ],
   "source": [
    "#plot accuracy with k value\n",
    "plt.scatter(accu['kvalue'], accu['accuracy'])\n",
    "plt.plot(accu['kvalue'], accu['accuracy'])\n",
    "plt.xlabel('K Value')\n",
    "plt.ylabel('Accuracy')\n",
    "plt.title(\"Accuracy to K Value\")\n",
    "plt.show()"
   ]
  },
  {
   "cell_type": "code",
   "execution_count": 55,
   "metadata": {
    "collapsed": false
   },
   "outputs": [
    {
     "name": "stdout",
     "output_type": "stream",
     "text": [
      "Accuracy = 0.948717948718 at k=7\n"
     ]
    }
   ],
   "source": [
    "clf = KNeighborsClassifier(7, p=2)\n",
    "clf.fit(wtraindata_norm, wtrainlabels.values.ravel())\n",
    "predictions = clf.predict(wtestdata_norm)\n",
    "wtestlab = list(wtestlabels['class'])\n",
    "accuracy = np.sum(predictions == wtestlab)/(len(predictions))\n",
    "print (\"Accuracy = \" + str(accuracy) + \" at k=7\")"
   ]
  },
  {
   "cell_type": "markdown",
   "metadata": {},
   "source": [
    "Question 10: Instead of using full train data, train the model using the \f",
    "rst\n",
    "20, 40, 60, 80 and 100 data samples from train data. Keep the validation set\n",
    "unchanged during this analysis. Report and plot the accuracies on the validation\n",
    "data. Use Euclidean distance and k=3. Note: Don't shu\u000fe the data and use\n",
    "only the '\f",
    "rst n samples', otherwise your answers may di\u000b",
    "er. (2 marks)"
   ]
  },
  {
   "cell_type": "code",
   "execution_count": 97,
   "metadata": {
    "collapsed": false
   },
   "outputs": [
    {
     "name": "stdout",
     "output_type": "stream",
     "text": [
      "when our samples are 20:\n",
      "We get validation accuracy = 0.948717948718\n",
      "when our samples are 40:\n",
      "We get validation accuracy = 1.0\n",
      "when our samples are 60:\n",
      "We get validation accuracy = 1.0\n",
      "when our samples are 80:\n",
      "We get validation accuracy = 1.0\n",
      "when our samples are 100:\n",
      "We get validation accuracy = 0.923076923077\n"
     ]
    }
   ],
   "source": [
    "accu=pd.DataFrame(columns=['Sample','accuracy'])\n",
    "for i in (20,40,60,80,100):\n",
    "    data = wtraindata_norm.head(i)\n",
    "    labels = wtrainlabels.head(i)\n",
    "    clf = KNeighborsClassifier(3, p=2)\n",
    "    clf.fit(data, labels.values.ravel())\n",
    "    predictions = clf.predict(wvaldata_norm)\n",
    "    wvallab = list(wvallabels['class'])\n",
    "    accuracy = np.sum(predictions == wvallab)/(len(predictions))\n",
    "    data = pd.DataFrame({'Sample': [i],'accuracy':[accuracy]})\n",
    "    accu=accu.append(data)\n",
    "    print ('when our samples are %s:' % i)\n",
    "    print ('We get validation accuracy = ' + str(accuracy)) "
   ]
  },
  {
   "cell_type": "code",
   "execution_count": 95,
   "metadata": {
    "collapsed": false
   },
   "outputs": [
    {
     "data": {
      "image/png": "[encoded data removed]",
      "text/plain": [
       "<matplotlib.figure.Figure at 0x116b96ef0>"
      ]
     },
     "metadata": {},
     "output_type": "display_data"
    }
   ],
   "source": [
    "#plot accuracy with sample size\n",
    "plt.scatter(accu['Sample'], accu['accuracy'])\n",
    "plt.plot(accu['Sample'], accu['accuracy'])\n",
    "plt.xlabel('Sample Size')\n",
    "plt.ylabel('Accuracy')\n",
    "plt.title(\"Accuracy to Sample Size\")\n",
    "plt.show()"
   ]
  },
  {
   "cell_type": "code",
   "execution_count": null,
   "metadata": {
    "collapsed": true
   },
   "outputs": [],
   "source": []
  }
 ],
 "metadata": {
  "kernelspec": {
   "display_name": "Python [conda env:py36]",
   "language": "python",
   "name": "conda-env-py36-py"
  },
  "language_info": {
   "codemirror_mode": {
    "name": "ipython",
    "version": 3
   },
   "file_extension": ".py",
   "mimetype": "text/x-python",
   "name": "python",
   "nbconvert_exporter": "python",
   "pygments_lexer": "ipython3",
   "version": "3.6.1"
  }
 },
 "nbformat": 4,
 "nbformat_minor": 2
}
