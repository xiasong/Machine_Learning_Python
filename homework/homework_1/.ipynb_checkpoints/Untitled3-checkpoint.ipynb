{
 "cells": [
  {
   "cell_type": "code",
   "execution_count": 1,
   "metadata": {
    "collapsed": true
   },
   "outputs": [],
   "source": [
    "from sklearn import datasets\n",
    "from sklearn.tree import DecisionTreeClassifier, export_graphviz\n",
    "import pydotplus\n",
    "from sklearn.model_selection import train_test_split\n",
    "import pandas as pd\n",
    "import numpy as np\n",
    "import matplotlib.pyplot as plt"
   ]
  },
  {
   "cell_type": "code",
   "execution_count": 2,
   "metadata": {
    "collapsed": true
   },
   "outputs": [],
   "source": [
    "# Load the wine dataset\n",
    "wtestdata = pd.read_csv('wine_test_data.csv')\n",
    "wtestlabels = pd.read_csv('wine_test_labels.csv')\n",
    "wtraindata = pd.read_csv('wine_train_data.csv')\n",
    "wtrainlabels = pd.read_csv('wine_train_labels.csv')\n",
    "wvaldata = pd.read_csv('wine_val_data.csv')\n",
    "wvallabels = pd.read_csv('wine_val_labels.csv')"
   ]
  },
  {
   "cell_type": "code",
   "execution_count": 6,
   "metadata": {
    "collapsed": false
   },
   "outputs": [
    {
     "name": "stdout",
     "output_type": "stream",
     "text": [
      "Validation accuracy = 0.974358974359\n"
     ]
    }
   ],
   "source": [
    "clf = DecisionTreeClassifier(criterion='gini')\n",
    "clf.fit(wtraindata, wtrainlabels)\n",
    "val_pred = clf.predict(wvaldata)\n",
    "wvallab = list(wvallabels['class'])\n",
    "print ('Validation accuracy = ' + str(np.sum(val_pred == wvallab)*1.0/len(val_pred)))"
   ]
  },
  {
   "cell_type": "code",
   "execution_count": 5,
   "metadata": {
    "collapsed": false
   },
   "outputs": [
    {
     "name": "stdout",
     "output_type": "stream",
     "text": [
      "Validation accuracy = 0.948717948718\n"
     ]
    }
   ],
   "source": [
    "clf = DecisionTreeClassifier(criterion='gini')\n",
    "clf.fit(wtraindata, wtrainlabels)\n",
    "val_pred = clf.predict(wvaldata)\n",
    "wvallab = list(wvallabels['class'])\n",
    "print ('Validation accuracy = ' + str(np.sum(val_pred == wvallab)*1.0/len(val_pred)))"
   ]
  },
  {
   "cell_type": "markdown",
   "metadata": {},
   "source": [
    "According the accuracy of two criterions, we will use gini to train our model"
   ]
  },
  {
   "cell_type": "code",
   "execution_count": 7,
   "metadata": {
    "collapsed": true
   },
   "outputs": [],
   "source": [
    "#Using train data and validation data to training our model\n",
    "X_trainframes = [wtraindata, wvaldata]\n",
    "Y_trainframes = [wtrainlabels,wvallabels]\n",
    "X_train = pd.concat(X_trainframes)\n",
    "Y_train = pd.concat(Y_trainframes)"
   ]
  },
  {
   "cell_type": "code",
   "execution_count": 13,
   "metadata": {
    "collapsed": false
   },
   "outputs": [
    {
     "name": "stdout",
     "output_type": "stream",
     "text": [
      "Test accuracy = 0.769230769231\n"
     ]
    }
   ],
   "source": [
    "#The accuracy on the test data\n",
    "clf = DecisionTreeClassifier(criterion='gini')\n",
    "clf.fit(X_train, Y_train)\n",
    "test_pred = clf.predict(wtestdata)\n",
    "wtestlab = list(wtestlabels['class'])\n",
    "print ('Test accuracy = ' + str(np.sum(test_pred == wtestlab)*1.0/len(test_pred)))"
   ]
  },
  {
   "cell_type": "markdown",
   "metadata": {},
   "source": [
    "Our results showed that the accuracy on the validataion data is 95% by using Decision Tree model\n",
    "on train data for entropy criterions. However, the accuracy on the validation data is 97% when using\n",
    "gini criterions. According to our results we adopted entropy criteerions to predict the test data. When we use trained model to predict test data, the accuracy attained 77%."
   ]
  },
  {
   "cell_type": "markdown",
   "metadata": {},
   "source": [
    "Question 5: Use the criterion selected above to train Decision Tree model on train data for min\n",
    "samples split=f2,5,10,20g and report the accuracies on the validation data. Select the best\n",
    "parameter and report the accuracy on the test data. (2 marks)"
   ]
  },
  {
   "cell_type": "code",
   "execution_count": 16,
   "metadata": {
    "collapsed": false
   },
   "outputs": [
    {
     "name": "stdout",
     "output_type": "stream",
     "text": [
      "when min_sample_split is 2\n",
      "we get the Validation accuracy = 0.897435897436\n",
      "when min_sample_split is 5\n",
      "we get the Validation accuracy = 0.974358974359\n",
      "when min_sample_split is 10\n",
      "we get the Validation accuracy = 0.948717948718\n",
      "when min_sample_split is 20\n",
      "we get the Validation accuracy = 0.923076923077\n"
     ]
    }
   ],
   "source": [
    "#min_sample_split=2,5,10,20\n",
    "for i in (2,5,10,20):\n",
    "    clf = DecisionTreeClassifier(criterion='gini', min_samples_split=i)\n",
    "    clf.fit(wtraindata, wtrainlabels)\n",
    "    val_pred = clf.predict(wvaldata)\n",
    "    wvallab = list(wvallabels['class'])\n",
    "    print ('when min_sample_split is %s' % i)\n",
    "    print ('we get the Validation accuracy = ' + str(np.sum(val_pred == wvallab)*1.0/len(val_pred)))"
   ]
  },
  {
   "cell_type": "code",
   "execution_count": 17,
   "metadata": {
    "collapsed": false
   },
   "outputs": [
    {
     "name": "stdout",
     "output_type": "stream",
     "text": [
      "Test accuracy = 0.74358974359\n"
     ]
    }
   ],
   "source": [
    "#The accuracy on the test data\n",
    "clf = DecisionTreeClassifier(criterion='gini', min_samples_split=5)\n",
    "clf.fit(X_train, Y_train)\n",
    "test_pred = clf.predict(wtestdata)\n",
    "wtestlab = list(wtestlabels['class'])\n",
    "print ('Test accuracy = ' + str(np.sum(test_pred == wtestlab)*1.0/len(test_pred)))"
   ]
  },
  {
   "cell_type": "markdown",
   "metadata": {},
   "source": [
    "When we use min_sample_split in 2,5,10, and 20,the accuracy on the validataion data is 90%, 97%,\n",
    "95% and 92% respectively. Therefore, we select min_sample_split 5 as our parameters in our\n",
    "model. When we use trained model to predict test data, the accuracy attained 74%."
   ]
  },
  {
   "cell_type": "markdown",
   "metadata": {},
   "source": [
    "Question 6: Use the parameters selected above (Q4 and Q5) to train Decision Tree model using the\n",
    "rst 20, 40, 60, 80 and 100 samples from train data. Keep the validation set unchanged during this\n",
    "analysis. Report and plot the accuracies on the validation data. (2 marks)"
   ]
  },
  {
   "cell_type": "code",
   "execution_count": 18,
   "metadata": {
    "collapsed": false
   },
   "outputs": [
    {
     "name": "stdout",
     "output_type": "stream",
     "text": [
      "when our samples are first 20\n",
      "We get validation accuracy = 0.769230769231\n",
      "when our samples are first 40\n",
      "We get validation accuracy = 0.769230769231\n",
      "when our samples are first 60\n",
      "We get validation accuracy = 0.846153846154\n",
      "when our samples are first 80\n",
      "We get validation accuracy = 0.948717948718\n",
      "when our samples are first 100\n",
      "We get validation accuracy = 0.948717948718\n"
     ]
    }
   ],
   "source": [
    "#train data using the first 20 samples\n",
    "accu=pd.DataFrame(columns=['Sample','accuracy'])\n",
    "for i in (20,40,60,80,100):\n",
    "    data = wtraindata.head(i)\n",
    "    labels = wtrainlabels.head(i)\n",
    "    clf = DecisionTreeClassifier(criterion='gini', min_samples_split=5)\n",
    "    clf.fit(data, labels)\n",
    "    val_pred = clf.predict(wvaldata)\n",
    "    accuracy = np.sum(val_pred == wvallab)*1.0/len(val_pred)\n",
    "    data = pd.DataFrame({'Sample': [i],'accuracy':[accuracy]})\n",
    "    accu=accu.append(data)\n",
    "    wvallab = list(wvallabels['class'])\n",
    "    print ('when our samples are first %s' % i)\n",
    "    print ('We get validation accuracy = ' + str(np.sum(val_pred == wvallab)*1.0/len(val_pred)))"
   ]
  },
  {
   "cell_type": "code",
   "execution_count": 19,
   "metadata": {
    "collapsed": false
   },
   "outputs": [
    {
     "data": {
      "image/png": "[encoded data removed]",
      "text/plain": [
       "<matplotlib.figure.Figure at 0x1141e28d0>"
      ]
     },
     "metadata": {},
     "output_type": "display_data"
    }
   ],
   "source": [
    "#plot accuracy with k value\n",
    "plt.scatter(accu['Sample'], accu['accuracy'])\n",
    "plt.plot(accu['Sample'], accu['accuracy'])\n",
    "plt.xlabel('Sample Size')\n",
    "plt.ylabel('Accuracy')\n",
    "plt.title(\"Accuracy to Sample Size\")\n",
    "plt.show()"
   ]
  },
  {
   "cell_type": "code",
   "execution_count": null,
   "metadata": {
    "collapsed": true
   },
   "outputs": [],
   "source": []
  }
 ],
 "metadata": {
  "kernelspec": {
   "display_name": "Python [conda env:py36]",
   "language": "python",
   "name": "conda-env-py36-py"
  },
  "language_info": {
   "codemirror_mode": {
    "name": "ipython",
    "version": 3
   },
   "file_extension": ".py",
   "mimetype": "text/x-python",
   "name": "python",
   "nbconvert_exporter": "python",
   "pygments_lexer": "ipython3",
   "version": "3.6.1"
  }
 },
 "nbformat": 4,
 "nbformat_minor": 2
}
