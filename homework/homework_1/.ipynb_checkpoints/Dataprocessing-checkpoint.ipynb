{
 "cells": [
  {
   "cell_type": "code",
   "execution_count": 1,
   "metadata": {
    "collapsed": false
   },
   "outputs": [
    {
     "name": "stdout",
     "output_type": "stream",
     "text": [
      "/Users/xiasong/Documents/Class_2016/DSE/DSE220/homework/homework_1\n",
      "Dataprocessing.ipynb  KNN.pdf               wine_train_data.csv\n",
      "Dataprocessing.pdf    Untitled1.ipynb       wine_train_labels.csv\n",
      "Decisiontree.ipynb    Untitled2.ipynb       wine_val_data.csv\n",
      "Decisiontree.pdf      wine_modified.csv     wine_val_labels.csv\n",
      "Homework_1.pdf        wine_test_data.csv\n",
      "KNN.ipynb             wine_test_labels.csv\n"
     ]
    }
   ],
   "source": [
    "!pwd\n",
    "!ls"
   ]
  },
  {
   "cell_type": "code",
   "execution_count": 58,
   "metadata": {
    "collapsed": true
   },
   "outputs": [],
   "source": [
    "import csv\n",
    "import pandas as pd\n",
    "import numpy as np\n",
    "import scipy as sp\n",
    "from numpy import nan"
   ]
  },
  {
   "cell_type": "markdown",
   "metadata": {},
   "source": [
    "The questions in this section are sequential steps. So use the data obtained\n",
    "after Question 1 for Question 2 and so on."
   ]
  },
  {
   "cell_type": "code",
   "execution_count": 4,
   "metadata": {
    "collapsed": false
   },
   "outputs": [
    {
     "data": {
      "text/html": [
       "<div>\n",
       "<table border=\"1\" class=\"dataframe\">\n",
       "  <thead>\n",
       "    <tr style=\"text-align: right;\">\n",
       "      <th></th>\n",
       "      <th>class</th>\n",
       "      <th>Alcohol</th>\n",
       "      <th>Malic acid</th>\n",
       "      <th>Ash</th>\n",
       "      <th>Alcalinity of ash</th>\n",
       "      <th>Magnesium</th>\n",
       "      <th>Total phenols</th>\n",
       "      <th>Flavanoids</th>\n",
       "      <th>Nonflavanoid phenols</th>\n",
       "      <th>Proanthocyanins</th>\n",
       "      <th>Color intensity</th>\n",
       "      <th>Hue</th>\n",
       "      <th>OD280/OD315</th>\n",
       "      <th>Proline</th>\n",
       "    </tr>\n",
       "  </thead>\n",
       "  <tbody>\n",
       "    <tr>\n",
       "      <th>0</th>\n",
       "      <td>1.0</td>\n",
       "      <td>14.23</td>\n",
       "      <td>1.71</td>\n",
       "      <td>2.43</td>\n",
       "      <td>15.6</td>\n",
       "      <td>127.0</td>\n",
       "      <td>2.80</td>\n",
       "      <td>3.06</td>\n",
       "      <td>0.28</td>\n",
       "      <td>2.29</td>\n",
       "      <td>5.64</td>\n",
       "      <td>1.04</td>\n",
       "      <td>3.92</td>\n",
       "      <td>1065.0</td>\n",
       "    </tr>\n",
       "    <tr>\n",
       "      <th>1</th>\n",
       "      <td>1.0</td>\n",
       "      <td>13.20</td>\n",
       "      <td>1.78</td>\n",
       "      <td>NaN</td>\n",
       "      <td>11.2</td>\n",
       "      <td>100.0</td>\n",
       "      <td>2.65</td>\n",
       "      <td>2.76</td>\n",
       "      <td>0.26</td>\n",
       "      <td>1.28</td>\n",
       "      <td>4.38</td>\n",
       "      <td>1.05</td>\n",
       "      <td>3.40</td>\n",
       "      <td>1050.0</td>\n",
       "    </tr>\n",
       "    <tr>\n",
       "      <th>2</th>\n",
       "      <td>1.0</td>\n",
       "      <td>13.16</td>\n",
       "      <td>2.36</td>\n",
       "      <td>NaN</td>\n",
       "      <td>18.6</td>\n",
       "      <td>101.0</td>\n",
       "      <td>2.80</td>\n",
       "      <td>3.24</td>\n",
       "      <td>0.30</td>\n",
       "      <td>2.81</td>\n",
       "      <td>5.68</td>\n",
       "      <td>1.03</td>\n",
       "      <td>3.17</td>\n",
       "      <td>1185.0</td>\n",
       "    </tr>\n",
       "    <tr>\n",
       "      <th>3</th>\n",
       "      <td>1.0</td>\n",
       "      <td>14.37</td>\n",
       "      <td>NaN</td>\n",
       "      <td>2.50</td>\n",
       "      <td>NaN</td>\n",
       "      <td>NaN</td>\n",
       "      <td>3.85</td>\n",
       "      <td>NaN</td>\n",
       "      <td>NaN</td>\n",
       "      <td>NaN</td>\n",
       "      <td>7.80</td>\n",
       "      <td>NaN</td>\n",
       "      <td>NaN</td>\n",
       "      <td>NaN</td>\n",
       "    </tr>\n",
       "    <tr>\n",
       "      <th>4</th>\n",
       "      <td>1.0</td>\n",
       "      <td>13.24</td>\n",
       "      <td>2.59</td>\n",
       "      <td>NaN</td>\n",
       "      <td>21.0</td>\n",
       "      <td>118.0</td>\n",
       "      <td>2.80</td>\n",
       "      <td>2.69</td>\n",
       "      <td>0.39</td>\n",
       "      <td>1.82</td>\n",
       "      <td>4.32</td>\n",
       "      <td>1.04</td>\n",
       "      <td>2.93</td>\n",
       "      <td>735.0</td>\n",
       "    </tr>\n",
       "  </tbody>\n",
       "</table>\n",
       "</div>"
      ],
      "text/plain": [
       "   class  Alcohol  Malic acid   Ash  Alcalinity of ash  Magnesium  \\\n",
       "0    1.0    14.23        1.71  2.43               15.6      127.0   \n",
       "1    1.0    13.20        1.78   NaN               11.2      100.0   \n",
       "2    1.0    13.16        2.36   NaN               18.6      101.0   \n",
       "3    1.0    14.37         NaN  2.50                NaN        NaN   \n",
       "4    1.0    13.24        2.59   NaN               21.0      118.0   \n",
       "\n",
       "   Total phenols  Flavanoids  Nonflavanoid phenols  Proanthocyanins  \\\n",
       "0           2.80        3.06                  0.28             2.29   \n",
       "1           2.65        2.76                  0.26             1.28   \n",
       "2           2.80        3.24                  0.30             2.81   \n",
       "3           3.85         NaN                   NaN              NaN   \n",
       "4           2.80        2.69                  0.39             1.82   \n",
       "\n",
       "   Color intensity   Hue  OD280/OD315  Proline  \n",
       "0             5.64  1.04         3.92   1065.0  \n",
       "1             4.38  1.05         3.40   1050.0  \n",
       "2             5.68  1.03         3.17   1185.0  \n",
       "3             7.80   NaN          NaN      NaN  \n",
       "4             4.32  1.04         2.93    735.0  "
      ]
     },
     "execution_count": 4,
     "metadata": {},
     "output_type": "execute_result"
    }
   ],
   "source": [
    "wmod = pd.read_csv('wine_modified.csv')\n",
    "wmod.head()"
   ]
  },
  {
   "cell_type": "markdown",
   "metadata": {},
   "source": [
    "Question 1: Remove the rows with missing labels ('class') and rows with more\n",
    "than 7 missing features. Report the remaining number of rows. (1 mark)\n",
    "\n",
    "Answer: the original number of rows is 178 and remaining number of rows is 154."
   ]
  },
  {
   "cell_type": "code",
   "execution_count": 48,
   "metadata": {
    "collapsed": false
   },
   "outputs": [
    {
     "data": {
      "text/plain": [
       "178"
      ]
     },
     "execution_count": 48,
     "metadata": {},
     "output_type": "execute_result"
    }
   ],
   "source": [
    "# create a function to find missing values\n",
    "def num_missing(x):\n",
    "    return sum(x.isnull())\n",
    "len(wmod)"
   ]
  },
  {
   "cell_type": "code",
   "execution_count": 121,
   "metadata": {
    "collapsed": false
   },
   "outputs": [],
   "source": [
    "wmodclrow=pd.DataFrame(columns=('class','Alcohol','Malic acid','Ash','Alcalinity of ash',\n",
    "                                'Magnesium','Total phenols','Flavanoids','Nonflavanoid phenols',\n",
    "                                'Proanthocyanins','Color intensity','Hue','OD280/OD315','Proline'))\n",
    "for i in range(len(wmod)):\n",
    "    rows=wmod.iloc[i]\n",
    "    if (pd.isnull(rows['class'])==False) and (num_missing(rows) <= 7):\n",
    "        wmodclrow=wmodclrow.append(wmod.iloc[i])"
   ]
  },
  {
   "cell_type": "code",
   "execution_count": 122,
   "metadata": {
    "collapsed": false
   },
   "outputs": [
    {
     "data": {
      "text/plain": [
       "(154, 14)"
      ]
     },
     "execution_count": 122,
     "metadata": {},
     "output_type": "execute_result"
    }
   ],
   "source": [
    "wmodclrow.shape"
   ]
  },
  {
   "cell_type": "markdown",
   "metadata": {},
   "source": [
    "Question 2: Remove features with > 50% of missing values. For other fea-\n",
    "tures with missing values \f",
    "ll them with the mean of the corresponding features.\n",
    "Report the removed features (if any) and standard deviation of features with\n",
    "missing values after \f",
    "lling. (2 marks)"
   ]
  },
  {
   "cell_type": "code",
   "execution_count": 139,
   "metadata": {
    "collapsed": false
   },
   "outputs": [
    {
     "name": "stdout",
     "output_type": "stream",
     "text": [
      "Ash\n"
     ]
    }
   ],
   "source": [
    "#look for the column with missing values larger than 50%\n",
    "wmodclcol=wmodclrow\n",
    "for column in wmodclcol:\n",
    "    rownum = len(wmodclcol)\n",
    "    if num_missing(wmodclcol[column]) > rownum/2:\n",
    "        print (column)"
   ]
  },
  {
   "cell_type": "code",
   "execution_count": 140,
   "metadata": {
    "collapsed": false
   },
   "outputs": [],
   "source": [
    "#drop the column with missing values larger than 50%\n",
    "wmodclcol=wmodclcol.drop(['Ash'], axis=1)\n",
    "#fill other column's missing values with the mean of column\n",
    "wmodclcolfil=wmodclcol.fillna(wmodclcol.mean())"
   ]
  },
  {
   "cell_type": "code",
   "execution_count": 134,
   "metadata": {
    "collapsed": false
   },
   "outputs": [
    {
     "name": "stdout",
     "output_type": "stream",
     "text": [
      "The removed feature is \"Ash\" and the following is the standard deviation of features with missing value after filling\n"
     ]
    },
    {
     "data": {
      "text/plain": [
       "class                     0.766522\n",
       "Alcohol                   3.804067\n",
       "Malic acid                1.116005\n",
       "Alcalinity of ash         3.456794\n",
       "Magnesium                14.440377\n",
       "Total phenols             0.617237\n",
       "Flavanoids                0.873573\n",
       "Nonflavanoid phenols      0.127083\n",
       "Proanthocyanins           0.587671\n",
       "Color intensity           2.325204\n",
       "Hue                       0.229412\n",
       "OD280/OD315               0.723261\n",
       "Proline                 303.033368\n",
       "dtype: float64"
      ]
     },
     "execution_count": 134,
     "metadata": {},
     "output_type": "execute_result"
    }
   ],
   "source": [
    "print('The removed feature is \"Ash\" and the following is the standard deviation of' \n",
    "      'features with missing value after filling')\n",
    "wmodclcolfil.std()"
   ]
  },
  {
   "cell_type": "markdown",
   "metadata": {},
   "source": [
    "Question 3: Detect and remove rows with any outliers/incorrect values in fea-\n",
    "tures 'alcohol' and 'proline' (if any). Clearly state the basis of your removal. (1\n",
    "mark)"
   ]
  },
  {
   "cell_type": "code",
   "execution_count": 142,
   "metadata": {
    "collapsed": true
   },
   "outputs": [],
   "source": [
    "def replace(group):\n",
    "    mean, std = group.mean(), group.std()\n",
    "    outliers = (group - mean).abs() > 3*std\n",
    "    group[outliers] = nan        # or \"group[~outliers].mean()\"\n",
    "    return group"
   ]
  },
  {
   "cell_type": "code",
   "execution_count": 161,
   "metadata": {
    "collapsed": false
   },
   "outputs": [],
   "source": [
    "wmodclcolfil['Alcohol']=replace(wmodclcolfil['Alcohol'])\n",
    "wmodclcolfil['Proline']=replace(wmodclcolfil['Proline'])"
   ]
  },
  {
   "cell_type": "code",
   "execution_count": 162,
   "metadata": {
    "collapsed": false
   },
   "outputs": [],
   "source": [
    "wmodclcolfilout=pd.DataFrame(columns=('class','Alcohol','Malic acid','Alcalinity of ash','Magnesium',\n",
    "                                      'Total phenols','Flavanoids','Nonflavanoid phenols','Proanthocyanins',\n",
    "                                      'Color intensity','Hue','OD280/OD315','Proline'))\n",
    "for i in range(len(wmodclcolfil)):\n",
    "    rows=wmodclcolfil.iloc[i]\n",
    "    if (pd.isnull(rows['Alcohol'])==False) and (pd.isnull(rows['Proline'])==False):\n",
    "        wmodclcolfilout=wmodclcolfilout.append(wmodclcolfil.iloc[i])"
   ]
  },
  {
   "cell_type": "code",
   "execution_count": 166,
   "metadata": {
    "collapsed": false
   },
   "outputs": [
    {
     "name": "stdout",
     "output_type": "stream",
     "text": [
      "148 154\n"
     ]
    }
   ],
   "source": [
    "print (len(wmodclcolfilout['Alcohol']),len(wmodclcolfil['Alcohol']))"
   ]
  },
  {
   "cell_type": "markdown",
   "metadata": {},
   "source": [
    "In this problem, we remove the outliers based on the difference between value and feature mean larger than 3 times of feature's standard deviation"
   ]
  },
  {
   "cell_type": "code",
   "execution_count": null,
   "metadata": {
    "collapsed": true
   },
   "outputs": [],
   "source": []
  }
 ],
 "metadata": {
  "kernelspec": {
   "display_name": "Python [conda env:py36]",
   "language": "python",
   "name": "conda-env-py36-py"
  },
  "language_info": {
   "codemirror_mode": {
    "name": "ipython",
    "version": 3
   },
   "file_extension": ".py",
   "mimetype": "text/x-python",
   "name": "python",
   "nbconvert_exporter": "python",
   "pygments_lexer": "ipython3",
   "version": "3.6.1"
  }
 },
 "nbformat": 4,
 "nbformat_minor": 2
}
