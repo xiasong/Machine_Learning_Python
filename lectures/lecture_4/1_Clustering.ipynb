{
 "cells": [
  {
   "cell_type": "markdown",
   "metadata": {},
   "source": [
    "# K-Means Clustering"
   ]
  },
  {
   "cell_type": "raw",
   "metadata": {},
   "source": [
    "This notebook demonstrates Clustering\n",
    "Outline:\n",
    "    K-means clustering on the iris dataset. \n",
    "    Plot and visualize the clusters in 3-D\n",
    "    Choosing 'K'\n",
    "    n_init parameter\n",
    "    Visualizing cluster centers with each iteration\n",
    "    Agglomerative Clustering"
   ]
  },
  {
   "cell_type": "code",
   "execution_count": 1,
   "metadata": {
    "collapsed": true
   },
   "outputs": [],
   "source": [
    "import numpy as np\n",
    "import matplotlib.pyplot as plt\n",
    "from mpl_toolkits.mplot3d import Axes3D\n",
    "from sklearn.cluster import KMeans\n",
    "from sklearn import datasets"
   ]
  },
  {
   "cell_type": "code",
   "execution_count": 2,
   "metadata": {
    "collapsed": true
   },
   "outputs": [],
   "source": [
    "# Load iris data\n",
    "iris = datasets.load_iris()\n",
    "X = iris.data\n",
    "y = iris.target"
   ]
  },
  {
   "cell_type": "markdown",
   "metadata": {},
   "source": [
    "What is the difference between calling KMeans and any classifier using sklearn?"
   ]
  },
  {
   "cell_type": "code",
   "execution_count": 3,
   "metadata": {
    "collapsed": true
   },
   "outputs": [],
   "source": [
    "# Initialize k-means\n",
    "k_means = KMeans(n_clusters=3, init='random')\n",
    "# Fit the k-means by passing it the input\n",
    "k_means.fit(X)\n",
    "# Retrieve labels (cluster ids) for all the inputs\n",
    "labels = k_means.labels_"
   ]
  },
  {
   "cell_type": "code",
   "execution_count": null,
   "metadata": {},
   "outputs": [],
   "source": [
    "# One label (cluster id) for each point in training data\n",
    "print (len(labels))\n",
    "print (labels[0])\n",
    "print (labels[80])\n",
    "print (labels[139])"
   ]
  },
  {
   "cell_type": "code",
   "execution_count": null,
   "metadata": {},
   "outputs": [],
   "source": [
    "# Sum of distances of samples to their closest cluster center.\n",
    "print (k_means.inertia_)\n",
    "# Same as the cost function we have been discussing"
   ]
  },
  {
   "cell_type": "markdown",
   "metadata": {},
   "source": [
    "# Using k-means++"
   ]
  },
  {
   "cell_type": "code",
   "execution_count": null,
   "metadata": {
    "collapsed": true
   },
   "outputs": [],
   "source": [
    "# Initialize k-means\n",
    "k_means = KMeans(n_clusters=3, init='k-means++') \n",
    "# Fit the k-means by passing it the input\n",
    "k_means.fit(X)\n",
    "# Retrieve labels (cluster ids) for all the inputs\n",
    "labels = k_means.labels_"
   ]
  },
  {
   "cell_type": "markdown",
   "metadata": {},
   "source": [
    "# Plotting the clusters in 3-D using Axes3D library"
   ]
  },
  {
   "cell_type": "code",
   "execution_count": null,
   "metadata": {},
   "outputs": [],
   "source": [
    "colors = ['red','green','blue','purple', 'black']\n",
    "colors_1 = [colors[labels[i]] for i in range(len(labels))]\n",
    "\n",
    "fig = plt.figure(1, figsize=(5, 4))\n",
    "plt.clf()\n",
    "# 'elev' stores the elevation angle in the z plane\n",
    "ax = Axes3D(fig, elev=50)\n",
    "plt.cla()#clear axes\n",
    "ax.scatter(X[:, 3], X[:, 0], X[:, 2], c=colors_1)# Plotting just three columns, because we can't plot 4!\n",
    "ax.w_xaxis.set_ticklabels([]) # Removes markings along the axes\n",
    "ax.w_yaxis.set_ticklabels([])\n",
    "ax.w_zaxis.set_ticklabels([])\n",
    "ax.set_xlabel('Petal width')\n",
    "ax.set_ylabel('Sepal length')\n",
    "ax.set_zlabel('Petal length')\n",
    "plt.show()\n",
    "print (k_means.inertia_)"
   ]
  },
  {
   "cell_type": "code",
   "execution_count": null,
   "metadata": {},
   "outputs": [],
   "source": [
    "# Change number of clusters to 5 and repeat\n",
    "colors = ['red','green','blue','purple', 'black']\n",
    "\n",
    "k_means = KMeans(n_clusters=5) \n",
    "k_means.fit(X)\n",
    "labels = k_means.labels_\n",
    "colors_1 = [colors[labels[i]] for i in range(len(labels))]\n",
    "fig = plt.figure(1, figsize=(5, 4))\n",
    "plt.clf()\n",
    "ax = Axes3D(fig, rect=[0, 0, .95, 1], elev=50)#, azim=134)\n",
    "plt.cla()\n",
    "ax.scatter(X[:, 3], X[:, 0], X[:, 2], c=colors_1)\n",
    "ax.w_xaxis.set_ticklabels([])\n",
    "ax.w_yaxis.set_ticklabels([])\n",
    "ax.w_zaxis.set_ticklabels([])\n",
    "ax.set_xlabel('Petal width')\n",
    "ax.set_ylabel('Sepal length')\n",
    "ax.set_zlabel('Petal length')\n",
    "plt.show()\n",
    "print (k_means.inertia_)"
   ]
  },
  {
   "cell_type": "markdown",
   "metadata": {},
   "source": [
    "# Number of clusters v/s inertia"
   ]
  },
  {
   "cell_type": "code",
   "execution_count": null,
   "metadata": {},
   "outputs": [],
   "source": [
    "plt.clf()\n",
    "n_list = np.arange(1,30,1)\n",
    "inertia = []\n",
    "for n in n_list: \n",
    "    k_means = KMeans(n_clusters=n) \n",
    "    k_means.fit(X)\n",
    "    inertia.append(k_means.inertia_)\n",
    "plt.plot(n_list, inertia)\n",
    "plt.xlabel('Number of clusters')\n",
    "plt.ylabel('Inertia')\n",
    "plt.show()"
   ]
  },
  {
   "cell_type": "markdown",
   "metadata": {},
   "source": [
    "Elbow Method: See the elbow and decide that to be your value of 'K'"
   ]
  },
  {
   "cell_type": "markdown",
   "metadata": {},
   "source": [
    "# The n_init parameter"
   ]
  },
  {
   "cell_type": "code",
   "execution_count": null,
   "metadata": {},
   "outputs": [],
   "source": [
    "# n_init = Number of time the k-means algorithm will be run \n",
    "# with different centroid seeds. The final results will be \n",
    "# the best output of n_init consecutive runs in terms of inertia.\n",
    "\n",
    "plt.clf()\n",
    "n_init_list = np.arange(1,30,1)\n",
    "inertia = []\n",
    "for n in n_init_list: \n",
    "    k_means = KMeans(n_clusters=5, n_init=n, init='random', random_state=5) \n",
    "    k_means.fit(X)\n",
    "    inertia.append(k_means.inertia_)\n",
    "plt.plot(n_init_list, inertia)\n",
    "plt.show()"
   ]
  },
  {
   "cell_type": "markdown",
   "metadata": {},
   "source": [
    "# Visualizing the Centers with iteration"
   ]
  },
  {
   "cell_type": "code",
   "execution_count": null,
   "metadata": {},
   "outputs": [],
   "source": [
    "for i in np.arange(1,7,1):\n",
    "    k_means = KMeans(n_clusters=5, n_init=1, max_iter=i, init='random', random_state=5) \n",
    "    k_means.fit(X)\n",
    "    labels = k_means.labels_\n",
    "    colors_1 = [colors[labels[i]] for i in range(len(labels))]\n",
    "    fig = plt.figure(1, figsize=(5, 4))\n",
    "    plt.clf()\n",
    "    ax = Axes3D(fig, rect=[0, 0, .95, 1], elev=50)#, azim=134)\n",
    "    plt.cla()\n",
    "    ax.scatter(X[:, 3], X[:, 0], X[:, 2], c='red')\n",
    "    ax.scatter(k_means.cluster_centers_[:,3], k_means.cluster_centers_[:,0],k_means.cluster_centers_[:,2], c='black',s=100)\n",
    "    ax.w_xaxis.set_ticklabels([])\n",
    "    ax.w_yaxis.set_ticklabels([])\n",
    "    ax.w_zaxis.set_ticklabels([])\n",
    "    ax.set_xlabel('Petal width')\n",
    "    ax.set_ylabel('Sepal length')\n",
    "    ax.set_zlabel('Petal length')\n",
    "    plt.show()\n",
    "    print (k_means.inertia_)"
   ]
  },
  {
   "cell_type": "markdown",
   "metadata": {},
   "source": [
    "# Agglomerative Clustering"
   ]
  },
  {
   "cell_type": "code",
   "execution_count": null,
   "metadata": {},
   "outputs": [],
   "source": [
    "# Authors: Gael Varoquaux, Nelle Varoquaux\n",
    "# License: BSD 3 clause\n",
    "\n",
    "import time\n",
    "import matplotlib.pyplot as plt\n",
    "import numpy as np\n",
    "\n",
    "from sklearn.cluster import AgglomerativeClustering\n",
    "\n",
    "# Generate sample data\n",
    "n_samples = 500\n",
    "np.random.seed(0)\n",
    "t = 1.5 * np.pi * (1 + 3 * np.random.rand(1, n_samples))\n",
    "x = t * np.cos(t)\n",
    "y = t * np.sin(t)\n",
    "\n",
    "X = np.concatenate((x, y))\n",
    "X += .7 * np.random.randn(2, n_samples)\n",
    "X = X.T\n",
    "plt.scatter(X[:, 0], X[:, 1], c='blue', cmap=plt.cm.spectral)\n",
    "plt.axis('equal')\n",
    "plt.axis('off')\n",
    "plt.show()"
   ]
  },
  {
   "cell_type": "code",
   "execution_count": null,
   "metadata": {},
   "outputs": [],
   "source": [
    "n_clusters = 3\n",
    "\n",
    "plt.figure(figsize=(10, 4))\n",
    "for index, linkage in enumerate(('average', 'complete', 'ward')):\n",
    "    plt.subplot(1, 3, index + 1)\n",
    "    model = AgglomerativeClustering(linkage=linkage,\n",
    "                                   n_clusters=n_clusters)\n",
    "    t0 = time.time()\n",
    "    model.fit(X)\n",
    "    elapsed_time = time.time() - t0\n",
    "    plt.scatter(X[:, 0], X[:, 1], c=model.labels_,\n",
    "              cmap=plt.cm.spectral)\n",
    "    plt.title('linkage=%s' % (linkage),\n",
    "                 fontdict=dict(verticalalignment='top'))\n",
    "    plt.axis('equal')\n",
    "    plt.axis('off')\n",
    "\n",
    "    plt.subplots_adjust(bottom=0, top=.89, wspace=0,\n",
    "                                left=0, right=1)\n",
    "    plt.suptitle('n_cluster=%i' %\n",
    "                         (n_clusters), size=17)\n",
    "\n",
    "\n",
    "plt.show()"
   ]
  },
  {
   "cell_type": "code",
   "execution_count": null,
   "metadata": {
    "collapsed": true
   },
   "outputs": [],
   "source": []
  }
 ],
 "metadata": {
  "anaconda-cloud": {},
  "kernelspec": {
   "display_name": "Python [conda env:py36]",
   "language": "python",
   "name": "conda-env-py36-py"
  },
  "language_info": {
   "codemirror_mode": {
    "name": "ipython",
    "version": 3
   },
   "file_extension": ".py",
   "mimetype": "text/x-python",
   "name": "python",
   "nbconvert_exporter": "python",
   "pygments_lexer": "ipython3",
   "version": "3.6.1"
  }
 },
 "nbformat": 4,
 "nbformat_minor": 1
}
