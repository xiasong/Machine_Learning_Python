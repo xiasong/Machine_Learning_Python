{
 "cells": [
  {
   "cell_type": "raw",
   "metadata": {
    "deletable": true,
    "editable": true
   },
   "source": [
    "1. Create a classification problem with 3 classes, 15 features and 5000 rows\n",
    "2. Take the last 1000 rows to be the test set\n",
    "3. Run Gaussian naive bayes on this problem and report test accuracy\n",
    "4. Calculate class prior probabilities for each class in training data (first 4k rows)\n",
    "5. Calculate the probability of the samples for each class in the test set\n",
    "\n",
    "References:\n",
    "    http://scikit-learn.org/stable/modules/generated/sklearn.datasets.make_classification.html\n",
    "    http://scikit-learn.org/stable/modules/generated/sklearn.naive_bayes.GaussianNB.html#sklearn.naive_bayes.GaussianNB"
   ]
  }
 ],
 "metadata": {
  "kernelspec": {
   "display_name": "Python [default]",
   "language": "python",
   "name": "python3"
  },
  "language_info": {
   "codemirror_mode": {
    "name": "ipython",
    "version": 3
   },
   "file_extension": ".py",
   "mimetype": "text/x-python",
   "name": "python",
   "nbconvert_exporter": "python",
   "pygments_lexer": "ipython3",
   "version": "3.5.3"
  }
 },
 "nbformat": 4,
 "nbformat_minor": 2
}
