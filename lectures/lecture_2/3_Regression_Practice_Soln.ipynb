{
 "cells": [
  {
   "cell_type": "raw",
   "metadata": {
    "deletable": true,
    "editable": true
   },
   "source": [
    "1. Make a regression problem with 20 features and 1000 rows using make_regression\n",
    "2. Add columns of one to the data\n",
    "3. Split data - 80/20 split\n",
    "4. Compare MSE/MAE/R2 score on training and testing data using:\n",
    "    a. Least Squares Regression\n",
    "    b. Gradient Descent\n",
    "    c. 20 random features (replace existing features)"
   ]
  },
  {
   "cell_type": "code",
   "execution_count": 8,
   "metadata": {
    "collapsed": false,
    "deletable": true,
    "editable": true
   },
   "outputs": [],
   "source": [
    "from sklearn.datasets import make_regression\n",
    "import numpy as np\n",
    "from sklearn.model_selection import train_test_split\n",
    "\n",
    "X, y = make_regression(n_samples=1000, n_features=20)\n",
    "\n",
    "X = np.c_[X, np.ones(len(X))]\n",
    "\n",
    "# Split data into training and testing datasets\n",
    "X_train, X_test, y_train, y_test = train_test_split(X, y, test_size=0.2, random_state=5)"
   ]
  },
  {
   "cell_type": "code",
   "execution_count": 9,
   "metadata": {
    "collapsed": false,
    "deletable": true,
    "editable": true
   },
   "outputs": [
    {
     "name": "stdout",
     "output_type": "stream",
     "text": [
      "2.65336363143e-26\n",
      "2.37657610422e-26\n",
      "1.27711174969e-13\n",
      "1.23331345137e-13\n",
      "1.0\n",
      "1.0\n"
     ]
    }
   ],
   "source": [
    "# Least squares regression\n",
    "theta,residuals,rank,s = np.linalg.lstsq(X_train, y_train)\n",
    "\n",
    "# Make predictions on the test data\n",
    "predictions = np.dot(X_test, theta)\n",
    "# Let's see the output on training data as well, to see the training error\n",
    "y_true_pred = np.dot(X_train, theta)\n",
    "\n",
    "# MSE calculation\n",
    "from sklearn.metrics import mean_squared_error\n",
    "print (mean_squared_error(y_test, predictions))\n",
    "print (mean_squared_error(y_train, y_true_pred))\n",
    "\n",
    "# MAE\n",
    "from sklearn.metrics import mean_absolute_error\n",
    "print (mean_absolute_error(y_test, predictions))\n",
    "print (mean_absolute_error(y_train, y_true_pred))\n",
    "\n",
    "# R2\n",
    "from sklearn.metrics import r2_score\n",
    "print (r2_score(y_test, predictions))\n",
    "print (r2_score(y_train, y_true_pred))"
   ]
  },
  {
   "cell_type": "code",
   "execution_count": null,
   "metadata": {
    "collapsed": false,
    "deletable": true,
    "editable": true
   },
   "outputs": [],
   "source": [
    "import scipy\n",
    "\n",
    "### Gradient descent ###\n",
    "\n",
    "# Objective\n",
    "def f(theta, X, y, lam):\n",
    "    theta = np.matrix(theta).T\n",
    "    X = np.matrix(X)\n",
    "    y = np.matrix(y).T\n",
    "    diff = X*theta - y\n",
    "    diffSq = diff.T*diff\n",
    "    diffSqReg = diffSq / len(X) + lam*(theta.T*theta)\n",
    "    #print (\"offset =\", diffSqReg.flatten().tolist())\n",
    "    return diffSqReg.flatten().tolist()[0]\n",
    "\n",
    "# Derivative\n",
    "def fprime(theta, X, y, lam):\n",
    "    theta = np.matrix(theta).T\n",
    "    X = np.matrix(X)\n",
    "    y = np.matrix(y).T\n",
    "    diff = X*theta - y\n",
    "    res = 2*X.T*diff / len(X) + 2*lam*theta\n",
    "    #print (\"gradient =\", np.array(res.flatten().tolist()[0]))\n",
    "    return np.array(res.flatten().tolist()[0])\n",
    "\n",
    "theta, _, _ = scipy.optimize.fmin_l_bfgs_b(f, [0]*21, fprime, args = (X_train, y_train, 0))\n",
    "\n",
    "# Make predictions on the test data\n",
    "predictions = np.dot(X_test, theta)\n",
    "# Let's see the output on training data as well, to see the training error\n",
    "y_true_pred = np.dot(X_train, theta)\n",
    "\n",
    "# MSE calculation\n",
    "print (mean_squared_error(y_test, predictions))\n",
    "print (mean_squared_error(y_train, y_true_pred))\n",
    "\n",
    "# MAE\n",
    "from sklearn.metrics import mean_absolute_error\n",
    "print (mean_absolute_error(y_test, predictions))\n",
    "print (mean_absolute_error(y_train, y_true_pred))\n",
    "\n",
    "# R2\n",
    "from sklearn.metrics import r2_score\n",
    "print (r2_score(y_test, predictions))\n",
    "print (r2_score(y_train, y_true_pred))"
   ]
  },
  {
   "cell_type": "code",
   "execution_count": 11,
   "metadata": {
    "collapsed": false,
    "deletable": true,
    "editable": true
   },
   "outputs": [
    {
     "name": "stdout",
     "output_type": "stream",
     "text": [
      "34329.4323045\n",
      "1.01701778157e-24\n",
      "145.272657441\n",
      "8.15864042991e-13\n",
      "-0.718480203371\n",
      "1.0\n"
     ]
    }
   ],
   "source": [
    "# Random features\n",
    "import numpy\n",
    "import random\n",
    "\n",
    "def feature():\n",
    "    return [random.random() for x in range(2000)]\n",
    "\n",
    "X_train2 = [feature() for d in X_train]\n",
    "X_test2 = [feature() for d in X_test]\n",
    "\n",
    "theta,residuals,rank,s = numpy.linalg.lstsq(X_train2, y_train)\n",
    "\n",
    "# Make predictions on the test data\n",
    "predictions = np.dot(X_test2, theta)\n",
    "# Let's see the output on training data as well, to see the training error\n",
    "y_true_pred = np.dot(X_train2, theta)\n",
    "\n",
    "# MSE calculation\n",
    "print (mean_squared_error(y_test, predictions))\n",
    "print (mean_squared_error(y_train, y_true_pred))\n",
    "\n",
    "# MAE\n",
    "from sklearn.metrics import mean_absolute_error\n",
    "print (mean_absolute_error(y_test, predictions))\n",
    "print (mean_absolute_error(y_train, y_true_pred))\n",
    "\n",
    "# R2\n",
    "from sklearn.metrics import r2_score\n",
    "print (r2_score(y_test, predictions))\n",
    "print (r2_score(y_train, y_true_pred))"
   ]
  }
 ],
 "metadata": {
  "anaconda-cloud": {},
  "kernelspec": {
   "display_name": "Python [conda root]",
   "language": "python",
   "name": "conda-root-py"
  },
  "language_info": {
   "codemirror_mode": {
    "name": "ipython",
    "version": 3
   },
   "file_extension": ".py",
   "mimetype": "text/x-python",
   "name": "python",
   "nbconvert_exporter": "python",
   "pygments_lexer": "ipython3",
   "version": "3.5.3"
  }
 },
 "nbformat": 4,
 "nbformat_minor": 2
}
