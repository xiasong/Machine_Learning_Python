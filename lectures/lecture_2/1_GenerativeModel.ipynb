{
 "cells": [
  {
   "cell_type": "raw",
   "metadata": {
    "deletable": true,
    "editable": true
   },
   "source": [
    "Outline:\n",
    "    Load Wine data\n",
    "    Implement Gaussian Naive Bayes\n",
    "    Implement Multinomial Naive Bayes\n",
    "    Introduce GridSearchCV, accuracy_score, make_classification"
   ]
  },
  {
   "cell_type": "code",
   "execution_count": null,
   "metadata": {
    "collapsed": false,
    "deletable": true,
    "editable": true
   },
   "outputs": [],
   "source": [
    "from sklearn import datasets\n",
    "from sklearn.model_selection import train_test_split\n",
    "import numpy as np\n",
    "import pandas as pd\n",
    "\n",
    "# Load the wine dataset\n",
    "data = pd.read_csv('wine_original.csv')\n",
    "labels = data['class']\n",
    "del data['class']\n",
    "\n",
    "# Create training and test sets\n",
    "X_train, X_test, y_train, y_test = train_test_split(data, labels, test_size=0.2, random_state=10)"
   ]
  },
  {
   "cell_type": "code",
   "execution_count": null,
   "metadata": {
    "collapsed": false,
    "deletable": true,
    "editable": true
   },
   "outputs": [],
   "source": [
    "print (X_train.shape)\n",
    "X_train.head()"
   ]
  },
  {
   "cell_type": "code",
   "execution_count": null,
   "metadata": {
    "collapsed": false,
    "deletable": true,
    "editable": true
   },
   "outputs": [],
   "source": [
    "from sklearn.naive_bayes import GaussianNB, MultinomialNB\n",
    "\n",
    "# Initialize Gaussian Naive Bayes\n",
    "gnb = GaussianNB()\n",
    "# Train the classifier\n",
    "gnb.fit(X_train, y_train)\n",
    "# Make predictions on test data\n",
    "y_pred = gnb.predict(X_test)\n",
    "y_train_pred = gnb.predict(X_train)\n",
    "\n",
    "# print the accuracy\n",
    "print ('Training accuracy = ' + str(np.sum(y_train_pred == y_train)/len(y_train)))\n",
    "print ('Test accuracy = ' + str(np.sum(y_pred == y_test)/len(y_test)))"
   ]
  },
  {
   "cell_type": "raw",
   "metadata": {},
   "source": [
    "GridSearchCV and accuracy_score using Multinomial Naive Bayes"
   ]
  },
  {
   "cell_type": "code",
   "execution_count": null,
   "metadata": {
    "collapsed": false,
    "deletable": true,
    "editable": true
   },
   "outputs": [],
   "source": [
    "from sklearn.model_selection import GridSearchCV\n",
    "from sklearn.metrics import accuracy_score\n",
    "\n",
    "#X_train, X_valid, y_train, y_valid = train_test_split(X_train, y_train, test_size=0.2, random_state=5)\n",
    "\n",
    "parameters = { 'alpha' : [0, 0.1, 0.5, 1, 2, 3, 4, 5, 10, 100] }\n",
    "mnb = MultinomialNB()\n",
    "clf = GridSearchCV(mnb, parameters, verbose=True, n_jobs=-1)\n",
    "clf.fit(X_train, y_train)\n",
    "y_pred = clf.predict(X_test)\n",
    "\n",
    "#accuracy = np.sum(y_pred == y_test)/len(y_test)\n",
    "accuracy = accuracy_score(y_pred, y_test)\n",
    "train_acc = accuracy_score(clf.predict(X_train), y_train)\n",
    "print ('Test accuracy = ' + str(accuracy))# + ' at alpha = ' + str(alpha))\n",
    "print ('Train accuracy = ' + str(train_acc)) \n",
    "print (clf.best_params_)"
   ]
  },
  {
   "cell_type": "markdown",
   "metadata": {
    "deletable": true,
    "editable": true
   },
   "source": [
    "# make_classification"
   ]
  },
  {
   "cell_type": "code",
   "execution_count": null,
   "metadata": {
    "collapsed": false,
    "deletable": true,
    "editable": true
   },
   "outputs": [],
   "source": [
    "from sklearn.datasets import make_classification\n",
    "\n",
    "X, y = make_classification(n_samples=100, n_features=20)"
   ]
  }
 ],
 "metadata": {
  "anaconda-cloud": {},
  "kernelspec": {
   "display_name": "Python [default]",
   "language": "python",
   "name": "python3"
  },
  "language_info": {
   "codemirror_mode": {
    "name": "ipython",
    "version": 3
   },
   "file_extension": ".py",
   "mimetype": "text/x-python",
   "name": "python",
   "nbconvert_exporter": "python",
   "pygments_lexer": "ipython3",
   "version": "3.5.3"
  }
 },
 "nbformat": 4,
 "nbformat_minor": 0
}
