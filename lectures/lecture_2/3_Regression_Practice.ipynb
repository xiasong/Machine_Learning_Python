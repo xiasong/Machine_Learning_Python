{
 "cells": [
  {
   "cell_type": "raw",
   "metadata": {
    "deletable": true,
    "editable": true
   },
   "source": [
    "1. Make a regression problem with 20 features and 1000 rows using make_regression\n",
    "2. Add columns of one to the data\n",
    "3. Split data - 80/20 split\n",
    "4. Compare MSE/MAE/R2 score on training and testing data using:\n",
    "    a. Least Squares Regression\n",
    "    b. Gradient Descent\n",
    "    c. 20 random features (replace existing features)"
   ]
  }
 ],
 "metadata": {
  "anaconda-cloud": {},
  "kernelspec": {
   "display_name": "Python [conda root]",
   "language": "python",
   "name": "conda-root-py"
  },
  "language_info": {
   "codemirror_mode": {
    "name": "ipython",
    "version": 3
   },
   "file_extension": ".py",
   "mimetype": "text/x-python",
   "name": "python",
   "nbconvert_exporter": "python",
   "pygments_lexer": "ipython3",
   "version": "3.5.3"
  }
 },
 "nbformat": 4,
 "nbformat_minor": 2
}
